{
 "cells": [
  {
   "cell_type": "code",
   "execution_count": 1,
   "id": "38e8a51f",
   "metadata": {
    "_cell_guid": "b1076dfc-b9ad-4769-8c92-a6c4dae69d19",
    "_uuid": "8f2839f25d086af736a60e9eeb907d3b93b6e0e5",
    "execution": {
     "iopub.execute_input": "2022-04-07T15:05:30.396172Z",
     "iopub.status.busy": "2022-04-07T15:05:30.394900Z",
     "iopub.status.idle": "2022-04-07T15:05:31.443846Z",
     "shell.execute_reply": "2022-04-07T15:05:31.442894Z",
     "shell.execute_reply.started": "2022-04-07T14:30:20.565723Z"
    },
    "papermill": {
     "duration": 1.09898,
     "end_time": "2022-04-07T15:05:31.444150",
     "exception": false,
     "start_time": "2022-04-07T15:05:30.345170",
     "status": "completed"
    },
    "tags": []
   },
   "outputs": [
    {
     "name": "stdout",
     "output_type": "stream",
     "text": [
      "/kaggle/input/investment/rounds2.csv\n",
      "/kaggle/input/investment/companies.csv\n",
      "/kaggle/input/investment/mapping.csv\n"
     ]
    }
   ],
   "source": [
    "# This Python 3 environment comes with many helpful analytics libraries installed\n",
    "# It is defined by the kaggle/python Docker image: https://github.com/kaggle/docker-python\n",
    "# For example, here's several helpful packages to load\n",
    "\n",
    "import numpy as np # linear algebra\n",
    "import pandas as pd # data processing, CSV file I/O (e.g. pd.read_csv)\n",
    "import seaborn as sns\n",
    "import matplotlib.pyplot as plt\n",
    "\n",
    "# Input data files are available in the read-only \"../input/\" directory\n",
    "# For example, running this (by clicking run or pressing Shift+Enter) will list all files under the input directory\n",
    "\n",
    "import os\n",
    "for dirname, _, filenames in os.walk('/kaggle/input'):\n",
    "    for filename in filenames:\n",
    "        print(os.path.join(dirname, filename))\n",
    "# You can write up to 20GB to the current directory (/kaggle/working/) that gets preserved as output when you create a version using \"Save & Run All\" \n",
    "# You can also write temporary files to /kaggle/temp/, but they won't be saved outside of the current session"
   ]
  },
  {
   "cell_type": "markdown",
   "id": "37322e1d",
   "metadata": {
    "papermill": {
     "duration": 0.047378,
     "end_time": "2022-04-07T15:05:31.539963",
     "exception": false,
     "start_time": "2022-04-07T15:05:31.492585",
     "status": "completed"
    },
    "tags": []
   },
   "source": [
    "Reading input files after inspecting encoding iso-8859-1 can be used for these files"
   ]
  },
  {
   "cell_type": "code",
   "execution_count": 2,
   "id": "5ebae821",
   "metadata": {
    "execution": {
     "iopub.execute_input": "2022-04-07T15:05:31.638166Z",
     "iopub.status.busy": "2022-04-07T15:05:31.637404Z",
     "iopub.status.idle": "2022-04-07T15:05:32.432121Z",
     "shell.execute_reply": "2022-04-07T15:05:32.431303Z",
     "shell.execute_reply.started": "2022-04-07T14:32:28.973524Z"
    },
    "papermill": {
     "duration": 0.847448,
     "end_time": "2022-04-07T15:05:32.432313",
     "exception": false,
     "start_time": "2022-04-07T15:05:31.584865",
     "status": "completed"
    },
    "tags": []
   },
   "outputs": [],
   "source": [
    "companies=pd.read_csv('../input/investment/companies.csv',encoding='iso-8859-1')\n",
    "rounds2=pd.read_csv('../input/investment/rounds2.csv',encoding='iso-8859-1')"
   ]
  },
  {
   "cell_type": "markdown",
   "id": "15728939",
   "metadata": {
    "papermill": {
     "duration": 0.044,
     "end_time": "2022-04-07T15:05:32.522337",
     "exception": false,
     "start_time": "2022-04-07T15:05:32.478337",
     "status": "completed"
    },
    "tags": []
   },
   "source": [
    "Analyzing 'rounds2' file for columns/data present"
   ]
  },
  {
   "cell_type": "code",
   "execution_count": 3,
   "id": "93e614ce",
   "metadata": {
    "execution": {
     "iopub.execute_input": "2022-04-07T15:05:32.616370Z",
     "iopub.status.busy": "2022-04-07T15:05:32.615652Z",
     "iopub.status.idle": "2022-04-07T15:05:32.637377Z",
     "shell.execute_reply": "2022-04-07T15:05:32.637894Z",
     "shell.execute_reply.started": "2022-04-07T14:32:33.146174Z"
    },
    "papermill": {
     "duration": 0.069979,
     "end_time": "2022-04-07T15:05:32.638112",
     "exception": false,
     "start_time": "2022-04-07T15:05:32.568133",
     "status": "completed"
    },
    "tags": []
   },
   "outputs": [
    {
     "data": {
      "text/html": [
       "<div>\n",
       "<style scoped>\n",
       "    .dataframe tbody tr th:only-of-type {\n",
       "        vertical-align: middle;\n",
       "    }\n",
       "\n",
       "    .dataframe tbody tr th {\n",
       "        vertical-align: top;\n",
       "    }\n",
       "\n",
       "    .dataframe thead th {\n",
       "        text-align: right;\n",
       "    }\n",
       "</style>\n",
       "<table border=\"1\" class=\"dataframe\">\n",
       "  <thead>\n",
       "    <tr style=\"text-align: right;\">\n",
       "      <th></th>\n",
       "      <th>company_permalink</th>\n",
       "      <th>funding_round_permalink</th>\n",
       "      <th>funding_round_type</th>\n",
       "      <th>funding_round_code</th>\n",
       "      <th>funded_at</th>\n",
       "      <th>raised_amount_usd</th>\n",
       "    </tr>\n",
       "  </thead>\n",
       "  <tbody>\n",
       "    <tr>\n",
       "      <th>0</th>\n",
       "      <td>/organization/-fame</td>\n",
       "      <td>/funding-round/9a01d05418af9f794eebff7ace91f638</td>\n",
       "      <td>venture</td>\n",
       "      <td>B</td>\n",
       "      <td>05-01-2015</td>\n",
       "      <td>10000000.0</td>\n",
       "    </tr>\n",
       "    <tr>\n",
       "      <th>1</th>\n",
       "      <td>/ORGANIZATION/-QOUNTER</td>\n",
       "      <td>/funding-round/22dacff496eb7acb2b901dec1dfe5633</td>\n",
       "      <td>venture</td>\n",
       "      <td>A</td>\n",
       "      <td>14-10-2014</td>\n",
       "      <td>NaN</td>\n",
       "    </tr>\n",
       "    <tr>\n",
       "      <th>2</th>\n",
       "      <td>/organization/-qounter</td>\n",
       "      <td>/funding-round/b44fbb94153f6cdef13083530bb48030</td>\n",
       "      <td>seed</td>\n",
       "      <td>NaN</td>\n",
       "      <td>01-03-2014</td>\n",
       "      <td>700000.0</td>\n",
       "    </tr>\n",
       "    <tr>\n",
       "      <th>3</th>\n",
       "      <td>/ORGANIZATION/-THE-ONE-OF-THEM-INC-</td>\n",
       "      <td>/funding-round/650b8f704416801069bb178a1418776b</td>\n",
       "      <td>venture</td>\n",
       "      <td>B</td>\n",
       "      <td>30-01-2014</td>\n",
       "      <td>3406878.0</td>\n",
       "    </tr>\n",
       "    <tr>\n",
       "      <th>4</th>\n",
       "      <td>/organization/0-6-com</td>\n",
       "      <td>/funding-round/5727accaeaa57461bd22a9bdd945382d</td>\n",
       "      <td>venture</td>\n",
       "      <td>A</td>\n",
       "      <td>19-03-2008</td>\n",
       "      <td>2000000.0</td>\n",
       "    </tr>\n",
       "  </tbody>\n",
       "</table>\n",
       "</div>"
      ],
      "text/plain": [
       "                     company_permalink  \\\n",
       "0                  /organization/-fame   \n",
       "1               /ORGANIZATION/-QOUNTER   \n",
       "2               /organization/-qounter   \n",
       "3  /ORGANIZATION/-THE-ONE-OF-THEM-INC-   \n",
       "4                /organization/0-6-com   \n",
       "\n",
       "                           funding_round_permalink funding_round_type  \\\n",
       "0  /funding-round/9a01d05418af9f794eebff7ace91f638            venture   \n",
       "1  /funding-round/22dacff496eb7acb2b901dec1dfe5633            venture   \n",
       "2  /funding-round/b44fbb94153f6cdef13083530bb48030               seed   \n",
       "3  /funding-round/650b8f704416801069bb178a1418776b            venture   \n",
       "4  /funding-round/5727accaeaa57461bd22a9bdd945382d            venture   \n",
       "\n",
       "  funding_round_code   funded_at  raised_amount_usd  \n",
       "0                  B  05-01-2015         10000000.0  \n",
       "1                  A  14-10-2014                NaN  \n",
       "2                NaN  01-03-2014           700000.0  \n",
       "3                  B  30-01-2014          3406878.0  \n",
       "4                  A  19-03-2008          2000000.0  "
      ]
     },
     "execution_count": 3,
     "metadata": {},
     "output_type": "execute_result"
    }
   ],
   "source": [
    "rounds2.head()"
   ]
  },
  {
   "cell_type": "markdown",
   "id": "6748911f",
   "metadata": {
    "papermill": {
     "duration": 0.044045,
     "end_time": "2022-04-07T15:05:32.727307",
     "exception": false,
     "start_time": "2022-04-07T15:05:32.683262",
     "status": "completed"
    },
    "tags": []
   },
   "source": [
    "Converting 'comapany_permalink' column to a single case (converting it to lower case) and counting unique company names with the help of 'Unique ID of company' that is 'company_permalink' column"
   ]
  },
  {
   "cell_type": "code",
   "execution_count": 4,
   "id": "047af014",
   "metadata": {
    "execution": {
     "iopub.execute_input": "2022-04-07T15:05:32.825192Z",
     "iopub.status.busy": "2022-04-07T15:05:32.824500Z",
     "iopub.status.idle": "2022-04-07T15:05:32.935020Z",
     "shell.execute_reply": "2022-04-07T15:05:32.936030Z",
     "shell.execute_reply.started": "2022-04-07T14:32:51.690110Z"
    },
    "papermill": {
     "duration": 0.163212,
     "end_time": "2022-04-07T15:05:32.936380",
     "exception": false,
     "start_time": "2022-04-07T15:05:32.773168",
     "status": "completed"
    },
    "tags": []
   },
   "outputs": [
    {
     "name": "stdout",
     "output_type": "stream",
     "text": [
      "66370\n"
     ]
    }
   ],
   "source": [
    "rounds2['company_permalink']=rounds2['company_permalink'].str.lower()\n",
    "rounds2_name=rounds2['company_permalink'].unique()\n",
    "print(len(rounds2_name))"
   ]
  },
  {
   "cell_type": "markdown",
   "id": "a103b203",
   "metadata": {
    "papermill": {
     "duration": 0.044503,
     "end_time": "2022-04-07T15:05:33.026995",
     "exception": false,
     "start_time": "2022-04-07T15:05:32.982492",
     "status": "completed"
    },
    "tags": []
   },
   "source": [
    "Analyzing 'companies' file for columns/data present"
   ]
  },
  {
   "cell_type": "code",
   "execution_count": 5,
   "id": "b87c60f8",
   "metadata": {
    "execution": {
     "iopub.execute_input": "2022-04-07T15:05:33.122001Z",
     "iopub.status.busy": "2022-04-07T15:05:33.120984Z",
     "iopub.status.idle": "2022-04-07T15:05:33.136459Z",
     "shell.execute_reply": "2022-04-07T15:05:33.137072Z",
     "shell.execute_reply.started": "2022-04-07T14:33:07.051165Z"
    },
    "papermill": {
     "duration": 0.065495,
     "end_time": "2022-04-07T15:05:33.137272",
     "exception": false,
     "start_time": "2022-04-07T15:05:33.071777",
     "status": "completed"
    },
    "tags": []
   },
   "outputs": [
    {
     "data": {
      "text/html": [
       "<div>\n",
       "<style scoped>\n",
       "    .dataframe tbody tr th:only-of-type {\n",
       "        vertical-align: middle;\n",
       "    }\n",
       "\n",
       "    .dataframe tbody tr th {\n",
       "        vertical-align: top;\n",
       "    }\n",
       "\n",
       "    .dataframe thead th {\n",
       "        text-align: right;\n",
       "    }\n",
       "</style>\n",
       "<table border=\"1\" class=\"dataframe\">\n",
       "  <thead>\n",
       "    <tr style=\"text-align: right;\">\n",
       "      <th></th>\n",
       "      <th>permalink</th>\n",
       "      <th>name</th>\n",
       "      <th>homepage_url</th>\n",
       "      <th>category_list</th>\n",
       "      <th>status</th>\n",
       "      <th>country_code</th>\n",
       "      <th>state_code</th>\n",
       "      <th>region</th>\n",
       "      <th>city</th>\n",
       "      <th>founded_at</th>\n",
       "    </tr>\n",
       "  </thead>\n",
       "  <tbody>\n",
       "    <tr>\n",
       "      <th>0</th>\n",
       "      <td>/Organization/-Fame</td>\n",
       "      <td>#fame</td>\n",
       "      <td>http://livfame.com</td>\n",
       "      <td>Media</td>\n",
       "      <td>operating</td>\n",
       "      <td>IND</td>\n",
       "      <td>16</td>\n",
       "      <td>Mumbai</td>\n",
       "      <td>Mumbai</td>\n",
       "      <td>NaN</td>\n",
       "    </tr>\n",
       "    <tr>\n",
       "      <th>1</th>\n",
       "      <td>/Organization/-Qounter</td>\n",
       "      <td>:Qounter</td>\n",
       "      <td>http://www.qounter.com</td>\n",
       "      <td>Application Platforms|Real Time|Social Network...</td>\n",
       "      <td>operating</td>\n",
       "      <td>USA</td>\n",
       "      <td>DE</td>\n",
       "      <td>DE - Other</td>\n",
       "      <td>Delaware City</td>\n",
       "      <td>04-09-2014</td>\n",
       "    </tr>\n",
       "    <tr>\n",
       "      <th>2</th>\n",
       "      <td>/Organization/-The-One-Of-Them-Inc-</td>\n",
       "      <td>(THE) ONE of THEM,Inc.</td>\n",
       "      <td>http://oneofthem.jp</td>\n",
       "      <td>Apps|Games|Mobile</td>\n",
       "      <td>operating</td>\n",
       "      <td>NaN</td>\n",
       "      <td>NaN</td>\n",
       "      <td>NaN</td>\n",
       "      <td>NaN</td>\n",
       "      <td>NaN</td>\n",
       "    </tr>\n",
       "    <tr>\n",
       "      <th>3</th>\n",
       "      <td>/Organization/0-6-Com</td>\n",
       "      <td>0-6.com</td>\n",
       "      <td>http://www.0-6.com</td>\n",
       "      <td>Curated Web</td>\n",
       "      <td>operating</td>\n",
       "      <td>CHN</td>\n",
       "      <td>22</td>\n",
       "      <td>Beijing</td>\n",
       "      <td>Beijing</td>\n",
       "      <td>01-01-2007</td>\n",
       "    </tr>\n",
       "    <tr>\n",
       "      <th>4</th>\n",
       "      <td>/Organization/004-Technologies</td>\n",
       "      <td>004 Technologies</td>\n",
       "      <td>http://004gmbh.de/en/004-interact</td>\n",
       "      <td>Software</td>\n",
       "      <td>operating</td>\n",
       "      <td>USA</td>\n",
       "      <td>IL</td>\n",
       "      <td>Springfield, Illinois</td>\n",
       "      <td>Champaign</td>\n",
       "      <td>01-01-2010</td>\n",
       "    </tr>\n",
       "  </tbody>\n",
       "</table>\n",
       "</div>"
      ],
      "text/plain": [
       "                             permalink                    name  \\\n",
       "0                  /Organization/-Fame                   #fame   \n",
       "1               /Organization/-Qounter                :Qounter   \n",
       "2  /Organization/-The-One-Of-Them-Inc-  (THE) ONE of THEM,Inc.   \n",
       "3                /Organization/0-6-Com                 0-6.com   \n",
       "4       /Organization/004-Technologies        004 Technologies   \n",
       "\n",
       "                        homepage_url  \\\n",
       "0                 http://livfame.com   \n",
       "1             http://www.qounter.com   \n",
       "2                http://oneofthem.jp   \n",
       "3                 http://www.0-6.com   \n",
       "4  http://004gmbh.de/en/004-interact   \n",
       "\n",
       "                                       category_list     status country_code  \\\n",
       "0                                              Media  operating          IND   \n",
       "1  Application Platforms|Real Time|Social Network...  operating          USA   \n",
       "2                                  Apps|Games|Mobile  operating          NaN   \n",
       "3                                        Curated Web  operating          CHN   \n",
       "4                                           Software  operating          USA   \n",
       "\n",
       "  state_code                 region           city  founded_at  \n",
       "0         16                 Mumbai         Mumbai         NaN  \n",
       "1         DE             DE - Other  Delaware City  04-09-2014  \n",
       "2        NaN                    NaN            NaN         NaN  \n",
       "3         22                Beijing        Beijing  01-01-2007  \n",
       "4         IL  Springfield, Illinois      Champaign  01-01-2010  "
      ]
     },
     "execution_count": 5,
     "metadata": {},
     "output_type": "execute_result"
    }
   ],
   "source": [
    "companies.head()"
   ]
  },
  {
   "cell_type": "markdown",
   "id": "1b365c56",
   "metadata": {
    "papermill": {
     "duration": 0.045404,
     "end_time": "2022-04-07T15:05:33.229769",
     "exception": false,
     "start_time": "2022-04-07T15:05:33.184365",
     "status": "completed"
    },
    "tags": []
   },
   "source": [
    "Converting 'permalink' column to a single case (converting it to lower case) counting unique company names with the help of 'Unique ID of company' that is 'permalink' column"
   ]
  },
  {
   "cell_type": "code",
   "execution_count": 6,
   "id": "023ffdce",
   "metadata": {
    "execution": {
     "iopub.execute_input": "2022-04-07T15:05:33.324072Z",
     "iopub.status.busy": "2022-04-07T15:05:33.323131Z",
     "iopub.status.idle": "2022-04-07T15:05:33.382688Z",
     "shell.execute_reply": "2022-04-07T15:05:33.383195Z",
     "shell.execute_reply.started": "2022-04-07T14:33:49.646542Z"
    },
    "papermill": {
     "duration": 0.108035,
     "end_time": "2022-04-07T15:05:33.383368",
     "exception": false,
     "start_time": "2022-04-07T15:05:33.275333",
     "status": "completed"
    },
    "tags": []
   },
   "outputs": [
    {
     "name": "stdout",
     "output_type": "stream",
     "text": [
      "66368\n"
     ]
    }
   ],
   "source": [
    "companies['permalink']=companies['permalink'].str.lower()\n",
    "company_name=companies['permalink'].unique()\n",
    "print(len(company_name))"
   ]
  },
  {
   "cell_type": "markdown",
   "id": "bec5de92",
   "metadata": {
    "papermill": {
     "duration": 0.047042,
     "end_time": "2022-04-07T15:05:33.478314",
     "exception": false,
     "start_time": "2022-04-07T15:05:33.431272",
     "status": "completed"
    },
    "tags": []
   },
   "source": [
    "Checking company names present in 'rounds2' but not present in 'companies' file.\n",
    "\n",
    "Converting both numpy object to series as they both are of different shape subtracting will not give us the result."
   ]
  },
  {
   "cell_type": "code",
   "execution_count": 7,
   "id": "0b8a5c44",
   "metadata": {
    "execution": {
     "iopub.execute_input": "2022-04-07T15:05:33.574701Z",
     "iopub.status.busy": "2022-04-07T15:05:33.573715Z",
     "iopub.status.idle": "2022-04-07T15:05:33.631574Z",
     "shell.execute_reply": "2022-04-07T15:05:33.630848Z",
     "shell.execute_reply.started": "2022-04-07T14:34:04.996520Z"
    },
    "papermill": {
     "duration": 0.106731,
     "end_time": "2022-04-07T15:05:33.631725",
     "exception": false,
     "start_time": "2022-04-07T15:05:33.524994",
     "status": "completed"
    },
    "tags": []
   },
   "outputs": [
    {
     "name": "stdout",
     "output_type": "stream",
     "text": [
      "7\n"
     ]
    }
   ],
   "source": [
    "company_name=pd.Series(company_name)\n",
    "rounds2_name=pd.Series(rounds2_name)\n",
    "extra_comp = ~rounds2_name.isin(company_name)\n",
    "print(sum(extra_comp))"
   ]
  },
  {
   "cell_type": "markdown",
   "id": "5b9ac990",
   "metadata": {
    "papermill": {
     "duration": 0.045751,
     "end_time": "2022-04-07T15:05:33.723013",
     "exception": false,
     "start_time": "2022-04-07T15:05:33.677262",
     "status": "completed"
    },
    "tags": []
   },
   "source": [
    "Removing duplicates from both 'companies' and 'rounds2' dataframe before merging them"
   ]
  },
  {
   "cell_type": "code",
   "execution_count": 8,
   "id": "51db4b5c",
   "metadata": {
    "execution": {
     "iopub.execute_input": "2022-04-07T15:05:33.827504Z",
     "iopub.status.busy": "2022-04-07T15:05:33.826768Z",
     "iopub.status.idle": "2022-04-07T15:05:33.900096Z",
     "shell.execute_reply": "2022-04-07T15:05:33.900948Z",
     "shell.execute_reply.started": "2022-04-07T14:35:24.545835Z"
    },
    "papermill": {
     "duration": 0.132465,
     "end_time": "2022-04-07T15:05:33.901253",
     "exception": false,
     "start_time": "2022-04-07T15:05:33.768788",
     "status": "completed"
    },
    "tags": []
   },
   "outputs": [
    {
     "name": "stdout",
     "output_type": "stream",
     "text": [
      "(66368, 10)\n",
      "(66370, 6)\n"
     ]
    }
   ],
   "source": [
    "companies=companies.drop_duplicates(subset=['permalink'], keep='first', inplace=False)\n",
    "rounds2=rounds2.drop_duplicates(subset=['company_permalink'], keep='first', inplace=False)\n",
    "print(companies.shape)\n",
    "print(rounds2.shape)"
   ]
  },
  {
   "cell_type": "markdown",
   "id": "b7232584",
   "metadata": {
    "papermill": {
     "duration": 0.048465,
     "end_time": "2022-04-07T15:05:33.999730",
     "exception": false,
     "start_time": "2022-04-07T15:05:33.951265",
     "status": "completed"
    },
    "tags": []
   },
   "source": [
    "No duplicates present according to 'unique id' of companies can go ahead with merging both dataframes\n",
    "\n",
    "Merging two dataframes 'companies' and 'rounds2' and all variables to be added to 'rounds2' dataframe"
   ]
  },
  {
   "cell_type": "code",
   "execution_count": 9,
   "id": "d6b8b680",
   "metadata": {
    "execution": {
     "iopub.execute_input": "2022-04-07T15:05:34.142349Z",
     "iopub.status.busy": "2022-04-07T15:05:34.140994Z",
     "iopub.status.idle": "2022-04-07T15:05:34.180182Z",
     "shell.execute_reply": "2022-04-07T15:05:34.178868Z",
     "shell.execute_reply.started": "2022-04-07T14:37:30.197157Z"
    },
    "papermill": {
     "duration": 0.131483,
     "end_time": "2022-04-07T15:05:34.180393",
     "exception": false,
     "start_time": "2022-04-07T15:05:34.048910",
     "status": "completed"
    },
    "tags": []
   },
   "outputs": [],
   "source": [
    "master_frame=pd.merge(rounds2,companies,how='inner',left_on='company_permalink',right_on='permalink')"
   ]
  },
  {
   "cell_type": "markdown",
   "id": "b7301c6e",
   "metadata": {
    "papermill": {
     "duration": 0.048851,
     "end_time": "2022-04-07T15:05:34.282976",
     "exception": false,
     "start_time": "2022-04-07T15:05:34.234125",
     "status": "completed"
    },
    "tags": []
   },
   "source": [
    "Analyzing 'master_frame' to see columns/data present"
   ]
  },
  {
   "cell_type": "code",
   "execution_count": 10,
   "id": "c63f8871",
   "metadata": {
    "execution": {
     "iopub.execute_input": "2022-04-07T15:05:34.400813Z",
     "iopub.status.busy": "2022-04-07T15:05:34.399819Z",
     "iopub.status.idle": "2022-04-07T15:05:34.406855Z",
     "shell.execute_reply": "2022-04-07T15:05:34.405750Z",
     "shell.execute_reply.started": "2022-04-07T14:37:45.780121Z"
    },
    "papermill": {
     "duration": 0.075522,
     "end_time": "2022-04-07T15:05:34.407157",
     "exception": false,
     "start_time": "2022-04-07T15:05:34.331635",
     "status": "completed"
    },
    "tags": []
   },
   "outputs": [
    {
     "name": "stdout",
     "output_type": "stream",
     "text": [
      "(66363, 16)\n"
     ]
    },
    {
     "data": {
      "text/html": [
       "<div>\n",
       "<style scoped>\n",
       "    .dataframe tbody tr th:only-of-type {\n",
       "        vertical-align: middle;\n",
       "    }\n",
       "\n",
       "    .dataframe tbody tr th {\n",
       "        vertical-align: top;\n",
       "    }\n",
       "\n",
       "    .dataframe thead th {\n",
       "        text-align: right;\n",
       "    }\n",
       "</style>\n",
       "<table border=\"1\" class=\"dataframe\">\n",
       "  <thead>\n",
       "    <tr style=\"text-align: right;\">\n",
       "      <th></th>\n",
       "      <th>company_permalink</th>\n",
       "      <th>funding_round_permalink</th>\n",
       "      <th>funding_round_type</th>\n",
       "      <th>funding_round_code</th>\n",
       "      <th>funded_at</th>\n",
       "      <th>raised_amount_usd</th>\n",
       "      <th>permalink</th>\n",
       "      <th>name</th>\n",
       "      <th>homepage_url</th>\n",
       "      <th>category_list</th>\n",
       "      <th>status</th>\n",
       "      <th>country_code</th>\n",
       "      <th>state_code</th>\n",
       "      <th>region</th>\n",
       "      <th>city</th>\n",
       "      <th>founded_at</th>\n",
       "    </tr>\n",
       "  </thead>\n",
       "  <tbody>\n",
       "    <tr>\n",
       "      <th>0</th>\n",
       "      <td>/organization/-fame</td>\n",
       "      <td>/funding-round/9a01d05418af9f794eebff7ace91f638</td>\n",
       "      <td>venture</td>\n",
       "      <td>B</td>\n",
       "      <td>05-01-2015</td>\n",
       "      <td>10000000.0</td>\n",
       "      <td>/organization/-fame</td>\n",
       "      <td>#fame</td>\n",
       "      <td>http://livfame.com</td>\n",
       "      <td>Media</td>\n",
       "      <td>operating</td>\n",
       "      <td>IND</td>\n",
       "      <td>16</td>\n",
       "      <td>Mumbai</td>\n",
       "      <td>Mumbai</td>\n",
       "      <td>NaN</td>\n",
       "    </tr>\n",
       "    <tr>\n",
       "      <th>1</th>\n",
       "      <td>/organization/-qounter</td>\n",
       "      <td>/funding-round/22dacff496eb7acb2b901dec1dfe5633</td>\n",
       "      <td>venture</td>\n",
       "      <td>A</td>\n",
       "      <td>14-10-2014</td>\n",
       "      <td>NaN</td>\n",
       "      <td>/organization/-qounter</td>\n",
       "      <td>:Qounter</td>\n",
       "      <td>http://www.qounter.com</td>\n",
       "      <td>Application Platforms|Real Time|Social Network...</td>\n",
       "      <td>operating</td>\n",
       "      <td>USA</td>\n",
       "      <td>DE</td>\n",
       "      <td>DE - Other</td>\n",
       "      <td>Delaware City</td>\n",
       "      <td>04-09-2014</td>\n",
       "    </tr>\n",
       "    <tr>\n",
       "      <th>2</th>\n",
       "      <td>/organization/-the-one-of-them-inc-</td>\n",
       "      <td>/funding-round/650b8f704416801069bb178a1418776b</td>\n",
       "      <td>venture</td>\n",
       "      <td>B</td>\n",
       "      <td>30-01-2014</td>\n",
       "      <td>3406878.0</td>\n",
       "      <td>/organization/-the-one-of-them-inc-</td>\n",
       "      <td>(THE) ONE of THEM,Inc.</td>\n",
       "      <td>http://oneofthem.jp</td>\n",
       "      <td>Apps|Games|Mobile</td>\n",
       "      <td>operating</td>\n",
       "      <td>NaN</td>\n",
       "      <td>NaN</td>\n",
       "      <td>NaN</td>\n",
       "      <td>NaN</td>\n",
       "      <td>NaN</td>\n",
       "    </tr>\n",
       "    <tr>\n",
       "      <th>3</th>\n",
       "      <td>/organization/0-6-com</td>\n",
       "      <td>/funding-round/5727accaeaa57461bd22a9bdd945382d</td>\n",
       "      <td>venture</td>\n",
       "      <td>A</td>\n",
       "      <td>19-03-2008</td>\n",
       "      <td>2000000.0</td>\n",
       "      <td>/organization/0-6-com</td>\n",
       "      <td>0-6.com</td>\n",
       "      <td>http://www.0-6.com</td>\n",
       "      <td>Curated Web</td>\n",
       "      <td>operating</td>\n",
       "      <td>CHN</td>\n",
       "      <td>22</td>\n",
       "      <td>Beijing</td>\n",
       "      <td>Beijing</td>\n",
       "      <td>01-01-2007</td>\n",
       "    </tr>\n",
       "    <tr>\n",
       "      <th>4</th>\n",
       "      <td>/organization/004-technologies</td>\n",
       "      <td>/funding-round/1278dd4e6a37fa4b7d7e06c21b3c1830</td>\n",
       "      <td>venture</td>\n",
       "      <td>NaN</td>\n",
       "      <td>24-07-2014</td>\n",
       "      <td>NaN</td>\n",
       "      <td>/organization/004-technologies</td>\n",
       "      <td>004 Technologies</td>\n",
       "      <td>http://004gmbh.de/en/004-interact</td>\n",
       "      <td>Software</td>\n",
       "      <td>operating</td>\n",
       "      <td>USA</td>\n",
       "      <td>IL</td>\n",
       "      <td>Springfield, Illinois</td>\n",
       "      <td>Champaign</td>\n",
       "      <td>01-01-2010</td>\n",
       "    </tr>\n",
       "  </tbody>\n",
       "</table>\n",
       "</div>"
      ],
      "text/plain": [
       "                     company_permalink  \\\n",
       "0                  /organization/-fame   \n",
       "1               /organization/-qounter   \n",
       "2  /organization/-the-one-of-them-inc-   \n",
       "3                /organization/0-6-com   \n",
       "4       /organization/004-technologies   \n",
       "\n",
       "                           funding_round_permalink funding_round_type  \\\n",
       "0  /funding-round/9a01d05418af9f794eebff7ace91f638            venture   \n",
       "1  /funding-round/22dacff496eb7acb2b901dec1dfe5633            venture   \n",
       "2  /funding-round/650b8f704416801069bb178a1418776b            venture   \n",
       "3  /funding-round/5727accaeaa57461bd22a9bdd945382d            venture   \n",
       "4  /funding-round/1278dd4e6a37fa4b7d7e06c21b3c1830            venture   \n",
       "\n",
       "  funding_round_code   funded_at  raised_amount_usd  \\\n",
       "0                  B  05-01-2015         10000000.0   \n",
       "1                  A  14-10-2014                NaN   \n",
       "2                  B  30-01-2014          3406878.0   \n",
       "3                  A  19-03-2008          2000000.0   \n",
       "4                NaN  24-07-2014                NaN   \n",
       "\n",
       "                             permalink                    name  \\\n",
       "0                  /organization/-fame                   #fame   \n",
       "1               /organization/-qounter                :Qounter   \n",
       "2  /organization/-the-one-of-them-inc-  (THE) ONE of THEM,Inc.   \n",
       "3                /organization/0-6-com                 0-6.com   \n",
       "4       /organization/004-technologies        004 Technologies   \n",
       "\n",
       "                        homepage_url  \\\n",
       "0                 http://livfame.com   \n",
       "1             http://www.qounter.com   \n",
       "2                http://oneofthem.jp   \n",
       "3                 http://www.0-6.com   \n",
       "4  http://004gmbh.de/en/004-interact   \n",
       "\n",
       "                                       category_list     status country_code  \\\n",
       "0                                              Media  operating          IND   \n",
       "1  Application Platforms|Real Time|Social Network...  operating          USA   \n",
       "2                                  Apps|Games|Mobile  operating          NaN   \n",
       "3                                        Curated Web  operating          CHN   \n",
       "4                                           Software  operating          USA   \n",
       "\n",
       "  state_code                 region           city  founded_at  \n",
       "0         16                 Mumbai         Mumbai         NaN  \n",
       "1         DE             DE - Other  Delaware City  04-09-2014  \n",
       "2        NaN                    NaN            NaN         NaN  \n",
       "3         22                Beijing        Beijing  01-01-2007  \n",
       "4         IL  Springfield, Illinois      Champaign  01-01-2010  "
      ]
     },
     "execution_count": 10,
     "metadata": {},
     "output_type": "execute_result"
    }
   ],
   "source": [
    "print(master_frame.shape)\n",
    "master_frame.head()"
   ]
  },
  {
   "cell_type": "code",
   "execution_count": 11,
   "id": "c3486b3c",
   "metadata": {
    "execution": {
     "iopub.execute_input": "2022-04-07T15:05:34.509173Z",
     "iopub.status.busy": "2022-04-07T15:05:34.508473Z",
     "iopub.status.idle": "2022-04-07T15:05:34.524628Z",
     "shell.execute_reply": "2022-04-07T15:05:34.525168Z",
     "shell.execute_reply.started": "2022-04-07T14:37:53.451702Z"
    },
    "papermill": {
     "duration": 0.069738,
     "end_time": "2022-04-07T15:05:34.525389",
     "exception": false,
     "start_time": "2022-04-07T15:05:34.455651",
     "status": "completed"
    },
    "tags": []
   },
   "outputs": [
    {
     "data": {
      "text/plain": [
       "False    66363\n",
       "Name: funding_round_type, dtype: int64"
      ]
     },
     "execution_count": 11,
     "metadata": {},
     "output_type": "execute_result"
    }
   ],
   "source": [
    "master_frame['funding_round_type'].isnull().value_counts()"
   ]
  },
  {
   "cell_type": "markdown",
   "id": "89777b2c",
   "metadata": {
    "papermill": {
     "duration": 0.049568,
     "end_time": "2022-04-07T15:05:34.626513",
     "exception": false,
     "start_time": "2022-04-07T15:05:34.576945",
     "status": "completed"
    },
    "tags": []
   },
   "source": [
    "Treating missing values in 'raised_amount_usd' column"
   ]
  },
  {
   "cell_type": "code",
   "execution_count": 12,
   "id": "15bb0957",
   "metadata": {
    "execution": {
     "iopub.execute_input": "2022-04-07T15:05:34.750937Z",
     "iopub.status.busy": "2022-04-07T15:05:34.732117Z",
     "iopub.status.idle": "2022-04-07T15:05:34.792725Z",
     "shell.execute_reply": "2022-04-07T15:05:34.792125Z",
     "shell.execute_reply.started": "2022-04-07T14:38:14.550202Z"
    },
    "papermill": {
     "duration": 0.115305,
     "end_time": "2022-04-07T15:05:34.792923",
     "exception": false,
     "start_time": "2022-04-07T15:05:34.677618",
     "status": "completed"
    },
    "tags": []
   },
   "outputs": [],
   "source": [
    "master_frame=master_frame[~(master_frame['raised_amount_usd'].isnull())]"
   ]
  },
  {
   "cell_type": "markdown",
   "id": "fa09a896",
   "metadata": {
    "papermill": {
     "duration": 0.053213,
     "end_time": "2022-04-07T15:05:34.897329",
     "exception": false,
     "start_time": "2022-04-07T15:05:34.844116",
     "status": "completed"
    },
    "tags": []
   },
   "source": [
    "Analyzing outliers and representative value to be taken for 'raised_amount_usd' column with the help of Inter-Quartile range formula"
   ]
  },
  {
   "cell_type": "code",
   "execution_count": 13,
   "id": "5c3638a4",
   "metadata": {
    "execution": {
     "iopub.execute_input": "2022-04-07T15:05:34.999991Z",
     "iopub.status.busy": "2022-04-07T15:05:34.999316Z",
     "iopub.status.idle": "2022-04-07T15:05:35.005551Z",
     "shell.execute_reply": "2022-04-07T15:05:35.006028Z",
     "shell.execute_reply.started": "2022-04-07T14:38:33.282233Z"
    },
    "papermill": {
     "duration": 0.060769,
     "end_time": "2022-04-07T15:05:35.006250",
     "exception": false,
     "start_time": "2022-04-07T15:05:34.945481",
     "status": "completed"
    },
    "tags": []
   },
   "outputs": [],
   "source": [
    "def outlier_detect(df):\n",
    "    df=df.sort_values(by='raised_amount_usd',ascending=True)\n",
    "    Q1=df['raised_amount_usd'].quantile(0.25)\n",
    "    Q3=df['raised_amount_usd'].quantile(0.75)\n",
    "    IQR=Q3-Q1\n",
    "    df_outex=df[(df['raised_amount_usd']<Q3+1.5*IQR) & (df['raised_amount_usd']>Q1-1.5*IQR)]\n",
    "    per_out=100-(len(df_outex)/len(df))*100\n",
    "    return per_out"
   ]
  },
  {
   "cell_type": "code",
   "execution_count": 14,
   "id": "7c21d96b",
   "metadata": {
    "execution": {
     "iopub.execute_input": "2022-04-07T15:05:35.109267Z",
     "iopub.status.busy": "2022-04-07T15:05:35.108582Z",
     "iopub.status.idle": "2022-04-07T15:05:35.112766Z",
     "shell.execute_reply": "2022-04-07T15:05:35.113253Z",
     "shell.execute_reply.started": "2022-04-07T14:38:38.580084Z"
    },
    "papermill": {
     "duration": 0.057682,
     "end_time": "2022-04-07T15:05:35.113435",
     "exception": false,
     "start_time": "2022-04-07T15:05:35.055753",
     "status": "completed"
    },
    "tags": []
   },
   "outputs": [],
   "source": [
    "def filter_invest(df_master,key):\n",
    "    df_invest=df_master[df_master['funding_round_type'].str.lower()==key]\n",
    "    return df_invest"
   ]
  },
  {
   "cell_type": "code",
   "execution_count": 15,
   "id": "17c00e5a",
   "metadata": {
    "execution": {
     "iopub.execute_input": "2022-04-07T15:05:35.214537Z",
     "iopub.status.busy": "2022-04-07T15:05:35.213850Z",
     "iopub.status.idle": "2022-04-07T15:05:35.367927Z",
     "shell.execute_reply": "2022-04-07T15:05:35.368430Z",
     "shell.execute_reply.started": "2022-04-07T14:38:44.780711Z"
    },
    "papermill": {
     "duration": 0.206738,
     "end_time": "2022-04-07T15:05:35.368617",
     "exception": false,
     "start_time": "2022-04-07T15:05:35.161879",
     "status": "completed"
    },
    "tags": []
   },
   "outputs": [],
   "source": [
    "venture_funds=filter_invest(master_frame,'venture')\n",
    "angel_funds=filter_invest(master_frame,'angel')\n",
    "seed_funds=filter_invest(master_frame,'seed')\n",
    "privateq_funds=filter_invest(master_frame,'private_equity')"
   ]
  },
  {
   "cell_type": "markdown",
   "id": "5752c901",
   "metadata": {
    "papermill": {
     "duration": 0.048273,
     "end_time": "2022-04-07T15:05:35.464957",
     "exception": false,
     "start_time": "2022-04-07T15:05:35.416684",
     "status": "completed"
    },
    "tags": []
   },
   "source": [
    "Identifying outliers percentage in each investment type"
   ]
  },
  {
   "cell_type": "code",
   "execution_count": 16,
   "id": "bf84c4ec",
   "metadata": {
    "execution": {
     "iopub.execute_input": "2022-04-07T15:05:35.567721Z",
     "iopub.status.busy": "2022-04-07T15:05:35.566712Z",
     "iopub.status.idle": "2022-04-07T15:05:35.653363Z",
     "shell.execute_reply": "2022-04-07T15:05:35.652735Z",
     "shell.execute_reply.started": "2022-04-07T14:39:09.776499Z"
    },
    "papermill": {
     "duration": 0.139619,
     "end_time": "2022-04-07T15:05:35.653543",
     "exception": false,
     "start_time": "2022-04-07T15:05:35.513924",
     "status": "completed"
    },
    "tags": []
   },
   "outputs": [
    {
     "name": "stdout",
     "output_type": "stream",
     "text": [
      "Venutre outlier 9.87 %\n",
      "Angel outlier 6.63 %\n",
      "Seed outlier 6.52 %\n",
      "Private equity outlier 10.42 %\n"
     ]
    }
   ],
   "source": [
    "vent_out=outlier_detect(venture_funds)\n",
    "print('Venutre outlier' ,round(vent_out,2),'%')\n",
    "angel_out=outlier_detect(angel_funds)\n",
    "print('Angel outlier',round(angel_out,2), '%')\n",
    "seed_out=outlier_detect(seed_funds)\n",
    "print('Seed outlier', round(seed_out,2), '%')\n",
    "privateq_out=outlier_detect(privateq_funds)\n",
    "print('Private equity outlier', round(privateq_out,2), '%')"
   ]
  },
  {
   "cell_type": "markdown",
   "id": "a2da73ca",
   "metadata": {
    "papermill": {
     "duration": 0.048152,
     "end_time": "2022-04-07T15:05:35.750200",
     "exception": false,
     "start_time": "2022-04-07T15:05:35.702048",
     "status": "completed"
    },
    "tags": []
   },
   "source": [
    "After removing all rows having missing value in 'raised_amount_usd' column still we have outliers for all 4 funding types.\n",
    "1. Outliers will effect mean value\n",
    "2. Removing outliers and calculating mean will not be correct as reason for these outliers are not known.\n",
    "\n",
    "Therefore, taking median as representative value for 'raised_amount_usd'"
   ]
  },
  {
   "cell_type": "markdown",
   "id": "cb7baeda",
   "metadata": {
    "papermill": {
     "duration": 0.048317,
     "end_time": "2022-04-07T15:05:35.847292",
     "exception": false,
     "start_time": "2022-04-07T15:05:35.798975",
     "status": "completed"
    },
    "tags": []
   },
   "source": [
    "Analyzing further by taking median as representative value for each of the 4 investment type mentioned in case study"
   ]
  },
  {
   "cell_type": "code",
   "execution_count": 17,
   "id": "fbdb37ad",
   "metadata": {
    "execution": {
     "iopub.execute_input": "2022-04-07T15:05:35.958340Z",
     "iopub.status.busy": "2022-04-07T15:05:35.957637Z",
     "iopub.status.idle": "2022-04-07T15:05:37.704009Z",
     "shell.execute_reply": "2022-04-07T15:05:37.704602Z",
     "shell.execute_reply.started": "2022-04-07T14:39:51.108366Z"
    },
    "papermill": {
     "duration": 1.80721,
     "end_time": "2022-04-07T15:05:37.704827",
     "exception": false,
     "start_time": "2022-04-07T15:05:35.897617",
     "status": "completed"
    },
    "tags": []
   },
   "outputs": [
    {
     "name": "stdout",
     "output_type": "stream",
     "text": [
      "Venture representative value 4250000.0\n",
      "Angel representative value 375000.0\n",
      "Seed representative value 250000.0\n",
      "Private equity representative value 21500000.0\n"
     ]
    },
    {
     "data": {
      "image/png": "[encoded data removed]",
      "text/plain": [
       "<Figure size 720x720 with 1 Axes>"
      ]
     },
     "metadata": {
      "needs_background": "light"
     },
     "output_type": "display_data"
    }
   ],
   "source": [
    "#Taking median as the representative value identifying suitable investment type\n",
    "venture_rep=venture_funds['raised_amount_usd'].median()\n",
    "print('Venture representative value',venture_rep)\n",
    "angel_rep=angel_funds['raised_amount_usd'].median()\n",
    "print('Angel representative value',angel_rep)\n",
    "seed_rep=seed_funds['raised_amount_usd'].median()\n",
    "print('Seed representative value',seed_rep)\n",
    "private_rep=privateq_funds['raised_amount_usd'].median()\n",
    "print('Private equity representative value',private_rep)\n",
    "invest_type=['venture','seed','angel','private_equity']\n",
    "sub_master=master_frame[master_frame['funding_round_type'].isin(invest_type)]\n",
    "#barplot for analyzing criteria 1\n",
    "plt.figure(figsize=(10,10))\n",
    "fig=sns.barplot(x=\"funding_round_type\", y=\"raised_amount_usd\",data=sub_master, estimator=np.median)\n",
    "fig.set(xlabel=\"Funding Type\", ylabel = \"Representative Amount of Investments (USD)\")\n",
    "plt.title('Representative Amount of Investments (USD) vs. Funding Type')\n",
    "plt.yticks(fig.get_yticks(),fig.get_yticks())\n",
    "plt.show()"
   ]
  },
  {
   "cell_type": "markdown",
   "id": "a071735b",
   "metadata": {
    "execution": {
     "iopub.execute_input": "2022-04-07T14:40:03.253285Z",
     "iopub.status.busy": "2022-04-07T14:40:03.253003Z",
     "iopub.status.idle": "2022-04-07T14:40:03.258901Z",
     "shell.execute_reply": "2022-04-07T14:40:03.257946Z",
     "shell.execute_reply.started": "2022-04-07T14:40:03.253255Z"
    },
    "papermill": {
     "duration": 0.051571,
     "end_time": "2022-04-07T15:05:37.808295",
     "exception": false,
     "start_time": "2022-04-07T15:05:37.756724",
     "status": "completed"
    },
    "tags": []
   },
   "source": [
    "Filtering dataframe 'master_frame' to get data only for a suitable 'funding_round_type' as per criteria analysis (5-15 million USD)"
   ]
  },
  {
   "cell_type": "code",
   "execution_count": 18,
   "id": "596517ea",
   "metadata": {
    "execution": {
     "iopub.execute_input": "2022-04-07T15:05:37.917352Z",
     "iopub.status.busy": "2022-04-07T15:05:37.916667Z",
     "iopub.status.idle": "2022-04-07T15:05:37.977539Z",
     "shell.execute_reply": "2022-04-07T15:05:37.976934Z",
     "shell.execute_reply.started": "2022-04-07T14:40:15.242816Z"
    },
    "papermill": {
     "duration": 0.11704,
     "end_time": "2022-04-07T15:05:37.977705",
     "exception": false,
     "start_time": "2022-04-07T15:05:37.860665",
     "status": "completed"
    },
    "tags": []
   },
   "outputs": [
    {
     "data": {
      "text/html": [
       "<div>\n",
       "<style scoped>\n",
       "    .dataframe tbody tr th:only-of-type {\n",
       "        vertical-align: middle;\n",
       "    }\n",
       "\n",
       "    .dataframe tbody tr th {\n",
       "        vertical-align: top;\n",
       "    }\n",
       "\n",
       "    .dataframe thead th {\n",
       "        text-align: right;\n",
       "    }\n",
       "</style>\n",
       "<table border=\"1\" class=\"dataframe\">\n",
       "  <thead>\n",
       "    <tr style=\"text-align: right;\">\n",
       "      <th></th>\n",
       "      <th>company_permalink</th>\n",
       "      <th>funding_round_permalink</th>\n",
       "      <th>funding_round_type</th>\n",
       "      <th>funding_round_code</th>\n",
       "      <th>funded_at</th>\n",
       "      <th>raised_amount_usd</th>\n",
       "      <th>permalink</th>\n",
       "      <th>name</th>\n",
       "      <th>homepage_url</th>\n",
       "      <th>category_list</th>\n",
       "      <th>status</th>\n",
       "      <th>country_code</th>\n",
       "      <th>state_code</th>\n",
       "      <th>region</th>\n",
       "      <th>city</th>\n",
       "      <th>founded_at</th>\n",
       "    </tr>\n",
       "  </thead>\n",
       "  <tbody>\n",
       "    <tr>\n",
       "      <th>0</th>\n",
       "      <td>/organization/-fame</td>\n",
       "      <td>/funding-round/9a01d05418af9f794eebff7ace91f638</td>\n",
       "      <td>venture</td>\n",
       "      <td>B</td>\n",
       "      <td>05-01-2015</td>\n",
       "      <td>10000000.0</td>\n",
       "      <td>/organization/-fame</td>\n",
       "      <td>#fame</td>\n",
       "      <td>http://livfame.com</td>\n",
       "      <td>Media</td>\n",
       "      <td>operating</td>\n",
       "      <td>IND</td>\n",
       "      <td>16</td>\n",
       "      <td>Mumbai</td>\n",
       "      <td>Mumbai</td>\n",
       "      <td>NaN</td>\n",
       "    </tr>\n",
       "    <tr>\n",
       "      <th>2</th>\n",
       "      <td>/organization/-the-one-of-them-inc-</td>\n",
       "      <td>/funding-round/650b8f704416801069bb178a1418776b</td>\n",
       "      <td>venture</td>\n",
       "      <td>B</td>\n",
       "      <td>30-01-2014</td>\n",
       "      <td>3406878.0</td>\n",
       "      <td>/organization/-the-one-of-them-inc-</td>\n",
       "      <td>(THE) ONE of THEM,Inc.</td>\n",
       "      <td>http://oneofthem.jp</td>\n",
       "      <td>Apps|Games|Mobile</td>\n",
       "      <td>operating</td>\n",
       "      <td>NaN</td>\n",
       "      <td>NaN</td>\n",
       "      <td>NaN</td>\n",
       "      <td>NaN</td>\n",
       "      <td>NaN</td>\n",
       "    </tr>\n",
       "    <tr>\n",
       "      <th>3</th>\n",
       "      <td>/organization/0-6-com</td>\n",
       "      <td>/funding-round/5727accaeaa57461bd22a9bdd945382d</td>\n",
       "      <td>venture</td>\n",
       "      <td>A</td>\n",
       "      <td>19-03-2008</td>\n",
       "      <td>2000000.0</td>\n",
       "      <td>/organization/0-6-com</td>\n",
       "      <td>0-6.com</td>\n",
       "      <td>http://www.0-6.com</td>\n",
       "      <td>Curated Web</td>\n",
       "      <td>operating</td>\n",
       "      <td>CHN</td>\n",
       "      <td>22</td>\n",
       "      <td>Beijing</td>\n",
       "      <td>Beijing</td>\n",
       "      <td>01-01-2007</td>\n",
       "    </tr>\n",
       "    <tr>\n",
       "      <th>15</th>\n",
       "      <td>/organization/1-mainstream</td>\n",
       "      <td>/funding-round/b952cbaf401f310927430c97b68162ea</td>\n",
       "      <td>venture</td>\n",
       "      <td>NaN</td>\n",
       "      <td>17-03-2015</td>\n",
       "      <td>5000000.0</td>\n",
       "      <td>/organization/1-mainstream</td>\n",
       "      <td>1 Mainstream</td>\n",
       "      <td>http://www.1mainstream.com</td>\n",
       "      <td>Apps|Cable|Distribution|Software</td>\n",
       "      <td>acquired</td>\n",
       "      <td>USA</td>\n",
       "      <td>CA</td>\n",
       "      <td>SF Bay Area</td>\n",
       "      <td>Cupertino</td>\n",
       "      <td>01-03-2012</td>\n",
       "    </tr>\n",
       "    <tr>\n",
       "      <th>18</th>\n",
       "      <td>/organization/10-minutes-with</td>\n",
       "      <td>/funding-round/0faccbbcc5818dc5326469f13f5a8ac8</td>\n",
       "      <td>venture</td>\n",
       "      <td>A</td>\n",
       "      <td>09-10-2014</td>\n",
       "      <td>4000000.0</td>\n",
       "      <td>/organization/10-minutes-with</td>\n",
       "      <td>10 Minutes With</td>\n",
       "      <td>http://10minuteswith.com</td>\n",
       "      <td>Education</td>\n",
       "      <td>operating</td>\n",
       "      <td>GBR</td>\n",
       "      <td>H9</td>\n",
       "      <td>London</td>\n",
       "      <td>London</td>\n",
       "      <td>01-01-2013</td>\n",
       "    </tr>\n",
       "  </tbody>\n",
       "</table>\n",
       "</div>"
      ],
      "text/plain": [
       "                      company_permalink  \\\n",
       "0                   /organization/-fame   \n",
       "2   /organization/-the-one-of-them-inc-   \n",
       "3                 /organization/0-6-com   \n",
       "15           /organization/1-mainstream   \n",
       "18        /organization/10-minutes-with   \n",
       "\n",
       "                            funding_round_permalink funding_round_type  \\\n",
       "0   /funding-round/9a01d05418af9f794eebff7ace91f638            venture   \n",
       "2   /funding-round/650b8f704416801069bb178a1418776b            venture   \n",
       "3   /funding-round/5727accaeaa57461bd22a9bdd945382d            venture   \n",
       "15  /funding-round/b952cbaf401f310927430c97b68162ea            venture   \n",
       "18  /funding-round/0faccbbcc5818dc5326469f13f5a8ac8            venture   \n",
       "\n",
       "   funding_round_code   funded_at  raised_amount_usd  \\\n",
       "0                   B  05-01-2015         10000000.0   \n",
       "2                   B  30-01-2014          3406878.0   \n",
       "3                   A  19-03-2008          2000000.0   \n",
       "15                NaN  17-03-2015          5000000.0   \n",
       "18                  A  09-10-2014          4000000.0   \n",
       "\n",
       "                              permalink                    name  \\\n",
       "0                   /organization/-fame                   #fame   \n",
       "2   /organization/-the-one-of-them-inc-  (THE) ONE of THEM,Inc.   \n",
       "3                 /organization/0-6-com                 0-6.com   \n",
       "15           /organization/1-mainstream            1 Mainstream   \n",
       "18        /organization/10-minutes-with         10 Minutes With   \n",
       "\n",
       "                  homepage_url                     category_list     status  \\\n",
       "0           http://livfame.com                             Media  operating   \n",
       "2          http://oneofthem.jp                 Apps|Games|Mobile  operating   \n",
       "3           http://www.0-6.com                       Curated Web  operating   \n",
       "15  http://www.1mainstream.com  Apps|Cable|Distribution|Software   acquired   \n",
       "18    http://10minuteswith.com                         Education  operating   \n",
       "\n",
       "   country_code state_code       region       city  founded_at  \n",
       "0           IND         16       Mumbai     Mumbai         NaN  \n",
       "2           NaN        NaN          NaN        NaN         NaN  \n",
       "3           CHN         22      Beijing    Beijing  01-01-2007  \n",
       "15          USA         CA  SF Bay Area  Cupertino  01-03-2012  \n",
       "18          GBR         H9       London     London  01-01-2013  "
      ]
     },
     "execution_count": 18,
     "metadata": {},
     "output_type": "execute_result"
    }
   ],
   "source": [
    "vent_master=master_frame[master_frame['funding_round_type'].str.lower()==\"venture\"]\n",
    "vent_master.head()"
   ]
  },
  {
   "cell_type": "markdown",
   "id": "04600640",
   "metadata": {
    "papermill": {
     "duration": 0.051094,
     "end_time": "2022-04-07T15:05:38.079406",
     "exception": false,
     "start_time": "2022-04-07T15:05:38.028312",
     "status": "completed"
    },
    "tags": []
   },
   "source": [
    "Analyzing top nine countries which have received the highest total funding (across ALL sectors for the chosen investment type)"
   ]
  },
  {
   "cell_type": "code",
   "execution_count": 19,
   "id": "4ba2800d",
   "metadata": {
    "execution": {
     "iopub.execute_input": "2022-04-07T15:05:38.186858Z",
     "iopub.status.busy": "2022-04-07T15:05:38.186214Z",
     "iopub.status.idle": "2022-04-07T15:05:38.201624Z",
     "shell.execute_reply": "2022-04-07T15:05:38.201041Z",
     "shell.execute_reply.started": "2022-04-07T14:40:29.769214Z"
    },
    "papermill": {
     "duration": 0.071181,
     "end_time": "2022-04-07T15:05:38.201776",
     "exception": false,
     "start_time": "2022-04-07T15:05:38.130595",
     "status": "completed"
    },
    "tags": []
   },
   "outputs": [
    {
     "name": "stdout",
     "output_type": "stream",
     "text": [
      "country_code\n",
      "USA    1.815192e+11\n",
      "CHN    1.850758e+10\n",
      "GBR    1.134263e+10\n",
      "IND    6.064055e+09\n",
      "CAN    4.597904e+09\n",
      "FRA    4.556741e+09\n",
      "ISR    3.357101e+09\n",
      "DEU    2.893831e+09\n",
      "JPN    2.020986e+09\n",
      "Name: raised_amount_usd, dtype: float64\n"
     ]
    }
   ],
   "source": [
    "all_countries=vent_master.groupby('country_code')['raised_amount_usd'].sum()\n",
    "type(all_countries)\n",
    "top_countries=all_countries.sort_values(ascending=False)\n",
    "print(top_countries[0:9])"
   ]
  },
  {
   "cell_type": "markdown",
   "id": "cde60483",
   "metadata": {
    "papermill": {
     "duration": 0.049925,
     "end_time": "2022-04-07T15:05:38.302888",
     "exception": false,
     "start_time": "2022-04-07T15:05:38.252963",
     "status": "completed"
    },
    "tags": []
   },
   "source": [
    "Filtering dataframe with top 9 countries received the highest total funding"
   ]
  },
  {
   "cell_type": "code",
   "execution_count": 20,
   "id": "e5e0a72d",
   "metadata": {
    "execution": {
     "iopub.execute_input": "2022-04-07T15:05:38.407676Z",
     "iopub.status.busy": "2022-04-07T15:05:38.407040Z",
     "iopub.status.idle": "2022-04-07T15:05:38.443051Z",
     "shell.execute_reply": "2022-04-07T15:05:38.443577Z",
     "shell.execute_reply.started": "2022-04-07T14:40:41.469669Z"
    },
    "papermill": {
     "duration": 0.090323,
     "end_time": "2022-04-07T15:05:38.443764",
     "exception": false,
     "start_time": "2022-04-07T15:05:38.353441",
     "status": "completed"
    },
    "tags": []
   },
   "outputs": [
    {
     "name": "stdout",
     "output_type": "stream",
     "text": [
      "(20787, 16)\n"
     ]
    },
    {
     "data": {
      "text/html": [
       "<div>\n",
       "<style scoped>\n",
       "    .dataframe tbody tr th:only-of-type {\n",
       "        vertical-align: middle;\n",
       "    }\n",
       "\n",
       "    .dataframe tbody tr th {\n",
       "        vertical-align: top;\n",
       "    }\n",
       "\n",
       "    .dataframe thead th {\n",
       "        text-align: right;\n",
       "    }\n",
       "</style>\n",
       "<table border=\"1\" class=\"dataframe\">\n",
       "  <thead>\n",
       "    <tr style=\"text-align: right;\">\n",
       "      <th></th>\n",
       "      <th>company_permalink</th>\n",
       "      <th>funding_round_permalink</th>\n",
       "      <th>funding_round_type</th>\n",
       "      <th>funding_round_code</th>\n",
       "      <th>funded_at</th>\n",
       "      <th>raised_amount_usd</th>\n",
       "      <th>permalink</th>\n",
       "      <th>name</th>\n",
       "      <th>homepage_url</th>\n",
       "      <th>category_list</th>\n",
       "      <th>status</th>\n",
       "      <th>country_code</th>\n",
       "      <th>state_code</th>\n",
       "      <th>region</th>\n",
       "      <th>city</th>\n",
       "      <th>founded_at</th>\n",
       "    </tr>\n",
       "  </thead>\n",
       "  <tbody>\n",
       "    <tr>\n",
       "      <th>0</th>\n",
       "      <td>/organization/-fame</td>\n",
       "      <td>/funding-round/9a01d05418af9f794eebff7ace91f638</td>\n",
       "      <td>venture</td>\n",
       "      <td>B</td>\n",
       "      <td>05-01-2015</td>\n",
       "      <td>10000000.0</td>\n",
       "      <td>/organization/-fame</td>\n",
       "      <td>#fame</td>\n",
       "      <td>http://livfame.com</td>\n",
       "      <td>Media</td>\n",
       "      <td>operating</td>\n",
       "      <td>IND</td>\n",
       "      <td>16</td>\n",
       "      <td>Mumbai</td>\n",
       "      <td>Mumbai</td>\n",
       "      <td>NaN</td>\n",
       "    </tr>\n",
       "    <tr>\n",
       "      <th>3</th>\n",
       "      <td>/organization/0-6-com</td>\n",
       "      <td>/funding-round/5727accaeaa57461bd22a9bdd945382d</td>\n",
       "      <td>venture</td>\n",
       "      <td>A</td>\n",
       "      <td>19-03-2008</td>\n",
       "      <td>2000000.0</td>\n",
       "      <td>/organization/0-6-com</td>\n",
       "      <td>0-6.com</td>\n",
       "      <td>http://www.0-6.com</td>\n",
       "      <td>Curated Web</td>\n",
       "      <td>operating</td>\n",
       "      <td>CHN</td>\n",
       "      <td>22</td>\n",
       "      <td>Beijing</td>\n",
       "      <td>Beijing</td>\n",
       "      <td>01-01-2007</td>\n",
       "    </tr>\n",
       "    <tr>\n",
       "      <th>15</th>\n",
       "      <td>/organization/1-mainstream</td>\n",
       "      <td>/funding-round/b952cbaf401f310927430c97b68162ea</td>\n",
       "      <td>venture</td>\n",
       "      <td>NaN</td>\n",
       "      <td>17-03-2015</td>\n",
       "      <td>5000000.0</td>\n",
       "      <td>/organization/1-mainstream</td>\n",
       "      <td>1 Mainstream</td>\n",
       "      <td>http://www.1mainstream.com</td>\n",
       "      <td>Apps|Cable|Distribution|Software</td>\n",
       "      <td>acquired</td>\n",
       "      <td>USA</td>\n",
       "      <td>CA</td>\n",
       "      <td>SF Bay Area</td>\n",
       "      <td>Cupertino</td>\n",
       "      <td>01-03-2012</td>\n",
       "    </tr>\n",
       "    <tr>\n",
       "      <th>18</th>\n",
       "      <td>/organization/10-minutes-with</td>\n",
       "      <td>/funding-round/0faccbbcc5818dc5326469f13f5a8ac8</td>\n",
       "      <td>venture</td>\n",
       "      <td>A</td>\n",
       "      <td>09-10-2014</td>\n",
       "      <td>4000000.0</td>\n",
       "      <td>/organization/10-minutes-with</td>\n",
       "      <td>10 Minutes With</td>\n",
       "      <td>http://10minuteswith.com</td>\n",
       "      <td>Education</td>\n",
       "      <td>operating</td>\n",
       "      <td>GBR</td>\n",
       "      <td>H9</td>\n",
       "      <td>London</td>\n",
       "      <td>London</td>\n",
       "      <td>01-01-2013</td>\n",
       "    </tr>\n",
       "    <tr>\n",
       "      <th>23</th>\n",
       "      <td>/organization/1000memories</td>\n",
       "      <td>/funding-round/502bd0e50c27616995e4bdad24605ef8</td>\n",
       "      <td>venture</td>\n",
       "      <td>A</td>\n",
       "      <td>16-02-2011</td>\n",
       "      <td>2520000.0</td>\n",
       "      <td>/organization/1000memories</td>\n",
       "      <td>1000memories</td>\n",
       "      <td>http://1000memories.com</td>\n",
       "      <td>Curated Web</td>\n",
       "      <td>acquired</td>\n",
       "      <td>USA</td>\n",
       "      <td>CA</td>\n",
       "      <td>SF Bay Area</td>\n",
       "      <td>San Francisco</td>\n",
       "      <td>01-07-2010</td>\n",
       "    </tr>\n",
       "  </tbody>\n",
       "</table>\n",
       "</div>"
      ],
      "text/plain": [
       "                company_permalink  \\\n",
       "0             /organization/-fame   \n",
       "3           /organization/0-6-com   \n",
       "15     /organization/1-mainstream   \n",
       "18  /organization/10-minutes-with   \n",
       "23     /organization/1000memories   \n",
       "\n",
       "                            funding_round_permalink funding_round_type  \\\n",
       "0   /funding-round/9a01d05418af9f794eebff7ace91f638            venture   \n",
       "3   /funding-round/5727accaeaa57461bd22a9bdd945382d            venture   \n",
       "15  /funding-round/b952cbaf401f310927430c97b68162ea            venture   \n",
       "18  /funding-round/0faccbbcc5818dc5326469f13f5a8ac8            venture   \n",
       "23  /funding-round/502bd0e50c27616995e4bdad24605ef8            venture   \n",
       "\n",
       "   funding_round_code   funded_at  raised_amount_usd  \\\n",
       "0                   B  05-01-2015         10000000.0   \n",
       "3                   A  19-03-2008          2000000.0   \n",
       "15                NaN  17-03-2015          5000000.0   \n",
       "18                  A  09-10-2014          4000000.0   \n",
       "23                  A  16-02-2011          2520000.0   \n",
       "\n",
       "                        permalink             name  \\\n",
       "0             /organization/-fame            #fame   \n",
       "3           /organization/0-6-com          0-6.com   \n",
       "15     /organization/1-mainstream     1 Mainstream   \n",
       "18  /organization/10-minutes-with  10 Minutes With   \n",
       "23     /organization/1000memories     1000memories   \n",
       "\n",
       "                  homepage_url                     category_list     status  \\\n",
       "0           http://livfame.com                             Media  operating   \n",
       "3           http://www.0-6.com                       Curated Web  operating   \n",
       "15  http://www.1mainstream.com  Apps|Cable|Distribution|Software   acquired   \n",
       "18    http://10minuteswith.com                         Education  operating   \n",
       "23     http://1000memories.com                       Curated Web   acquired   \n",
       "\n",
       "   country_code state_code       region           city  founded_at  \n",
       "0           IND         16       Mumbai         Mumbai         NaN  \n",
       "3           CHN         22      Beijing        Beijing  01-01-2007  \n",
       "15          USA         CA  SF Bay Area      Cupertino  01-03-2012  \n",
       "18          GBR         H9       London         London  01-01-2013  \n",
       "23          USA         CA  SF Bay Area  San Francisco  01-07-2010  "
      ]
     },
     "execution_count": 20,
     "metadata": {},
     "output_type": "execute_result"
    }
   ],
   "source": [
    "top_9countries=['USA','CHN','GBR','IND','CAN','FRA','ISR','DEU','JPN']\n",
    "top9=vent_master[vent_master['country_code'].isin(top_9countries)]\n",
    "print(top9.shape)\n",
    "top9.head()"
   ]
  },
  {
   "cell_type": "markdown",
   "id": "b25a9b25",
   "metadata": {
    "papermill": {
     "duration": 0.053001,
     "end_time": "2022-04-07T15:05:38.548622",
     "exception": false,
     "start_time": "2022-04-07T15:05:38.495621",
     "status": "completed"
    },
    "tags": []
   },
   "source": [
    "Plotting top 9 countries against the total amount of investments of funding type FT, here private equity\n",
    "\n",
    "Since there is a significant difference between investments, plotting 'total amount of investments' on a log scale"
   ]
  },
  {
   "cell_type": "code",
   "execution_count": 21,
   "id": "bfead4e0",
   "metadata": {
    "execution": {
     "iopub.execute_input": "2022-04-07T15:05:38.658750Z",
     "iopub.status.busy": "2022-04-07T15:05:38.657971Z",
     "iopub.status.idle": "2022-04-07T15:05:39.719380Z",
     "shell.execute_reply": "2022-04-07T15:05:39.719844Z",
     "shell.execute_reply.started": "2022-04-07T14:41:05.344650Z"
    },
    "papermill": {
     "duration": 1.117564,
     "end_time": "2022-04-07T15:05:39.720019",
     "exception": false,
     "start_time": "2022-04-07T15:05:38.602455",
     "status": "completed"
    },
    "tags": []
   },
   "outputs": [
    {
     "data": {
      "image/png": "[encoded data removed]",
      "text/plain": [
       "<Figure size 720x720 with 1 Axes>"
      ]
     },
     "metadata": {
      "needs_background": "light"
     },
     "output_type": "display_data"
    }
   ],
   "source": [
    "plt.figure(figsize=(10,10))\n",
    "top9_plot=sns.barplot(x='country_code', y='raised_amount_usd', palette=\"deep\", data=top9, estimator=np.sum)\n",
    "top9_plot.set(xlabel=\"Country\", ylabel = \"Total Amount of Investments (USD) [Log-scale]\")\n",
    "plt.title('Total Amount of Investments for Top 9 Countries')\n",
    "top9_plot.set_yscale(\"log\")\n",
    "plt.show()"
   ]
  },
  {
   "cell_type": "markdown",
   "id": "f104eea4",
   "metadata": {
    "papermill": {
     "duration": 0.052388,
     "end_time": "2022-04-07T15:05:39.825295",
     "exception": false,
     "start_time": "2022-04-07T15:05:39.772907",
     "status": "completed"
    },
    "tags": []
   },
   "source": [
    "Filtering dataframe with the first 3 english speaking countries among top 9 countries investment-wise"
   ]
  },
  {
   "cell_type": "code",
   "execution_count": 22,
   "id": "ecff1d76",
   "metadata": {
    "execution": {
     "iopub.execute_input": "2022-04-07T15:05:39.941062Z",
     "iopub.status.busy": "2022-04-07T15:05:39.940432Z",
     "iopub.status.idle": "2022-04-07T15:05:39.979740Z",
     "shell.execute_reply": "2022-04-07T15:05:39.979214Z",
     "shell.execute_reply.started": "2022-04-07T14:41:19.885099Z"
    },
    "papermill": {
     "duration": 0.101902,
     "end_time": "2022-04-07T15:05:39.979874",
     "exception": false,
     "start_time": "2022-04-07T15:05:39.877972",
     "status": "completed"
    },
    "tags": []
   },
   "outputs": [
    {
     "name": "stdout",
     "output_type": "stream",
     "text": [
      "(17766, 16)\n"
     ]
    },
    {
     "data": {
      "text/html": [
       "<div>\n",
       "<style scoped>\n",
       "    .dataframe tbody tr th:only-of-type {\n",
       "        vertical-align: middle;\n",
       "    }\n",
       "\n",
       "    .dataframe tbody tr th {\n",
       "        vertical-align: top;\n",
       "    }\n",
       "\n",
       "    .dataframe thead th {\n",
       "        text-align: right;\n",
       "    }\n",
       "</style>\n",
       "<table border=\"1\" class=\"dataframe\">\n",
       "  <thead>\n",
       "    <tr style=\"text-align: right;\">\n",
       "      <th></th>\n",
       "      <th>company_permalink</th>\n",
       "      <th>funding_round_permalink</th>\n",
       "      <th>funding_round_type</th>\n",
       "      <th>funding_round_code</th>\n",
       "      <th>funded_at</th>\n",
       "      <th>raised_amount_usd</th>\n",
       "      <th>permalink</th>\n",
       "      <th>name</th>\n",
       "      <th>homepage_url</th>\n",
       "      <th>category_list</th>\n",
       "      <th>status</th>\n",
       "      <th>country_code</th>\n",
       "      <th>state_code</th>\n",
       "      <th>region</th>\n",
       "      <th>city</th>\n",
       "      <th>founded_at</th>\n",
       "    </tr>\n",
       "  </thead>\n",
       "  <tbody>\n",
       "    <tr>\n",
       "      <th>0</th>\n",
       "      <td>/organization/-fame</td>\n",
       "      <td>/funding-round/9a01d05418af9f794eebff7ace91f638</td>\n",
       "      <td>venture</td>\n",
       "      <td>B</td>\n",
       "      <td>05-01-2015</td>\n",
       "      <td>10000000.0</td>\n",
       "      <td>/organization/-fame</td>\n",
       "      <td>#fame</td>\n",
       "      <td>http://livfame.com</td>\n",
       "      <td>Media</td>\n",
       "      <td>operating</td>\n",
       "      <td>IND</td>\n",
       "      <td>16</td>\n",
       "      <td>Mumbai</td>\n",
       "      <td>Mumbai</td>\n",
       "      <td>NaN</td>\n",
       "    </tr>\n",
       "    <tr>\n",
       "      <th>15</th>\n",
       "      <td>/organization/1-mainstream</td>\n",
       "      <td>/funding-round/b952cbaf401f310927430c97b68162ea</td>\n",
       "      <td>venture</td>\n",
       "      <td>NaN</td>\n",
       "      <td>17-03-2015</td>\n",
       "      <td>5000000.0</td>\n",
       "      <td>/organization/1-mainstream</td>\n",
       "      <td>1 Mainstream</td>\n",
       "      <td>http://www.1mainstream.com</td>\n",
       "      <td>Apps|Cable|Distribution|Software</td>\n",
       "      <td>acquired</td>\n",
       "      <td>USA</td>\n",
       "      <td>CA</td>\n",
       "      <td>SF Bay Area</td>\n",
       "      <td>Cupertino</td>\n",
       "      <td>01-03-2012</td>\n",
       "    </tr>\n",
       "    <tr>\n",
       "      <th>18</th>\n",
       "      <td>/organization/10-minutes-with</td>\n",
       "      <td>/funding-round/0faccbbcc5818dc5326469f13f5a8ac8</td>\n",
       "      <td>venture</td>\n",
       "      <td>A</td>\n",
       "      <td>09-10-2014</td>\n",
       "      <td>4000000.0</td>\n",
       "      <td>/organization/10-minutes-with</td>\n",
       "      <td>10 Minutes With</td>\n",
       "      <td>http://10minuteswith.com</td>\n",
       "      <td>Education</td>\n",
       "      <td>operating</td>\n",
       "      <td>GBR</td>\n",
       "      <td>H9</td>\n",
       "      <td>London</td>\n",
       "      <td>London</td>\n",
       "      <td>01-01-2013</td>\n",
       "    </tr>\n",
       "    <tr>\n",
       "      <th>23</th>\n",
       "      <td>/organization/1000memories</td>\n",
       "      <td>/funding-round/502bd0e50c27616995e4bdad24605ef8</td>\n",
       "      <td>venture</td>\n",
       "      <td>A</td>\n",
       "      <td>16-02-2011</td>\n",
       "      <td>2520000.0</td>\n",
       "      <td>/organization/1000memories</td>\n",
       "      <td>1000memories</td>\n",
       "      <td>http://1000memories.com</td>\n",
       "      <td>Curated Web</td>\n",
       "      <td>acquired</td>\n",
       "      <td>USA</td>\n",
       "      <td>CA</td>\n",
       "      <td>SF Bay Area</td>\n",
       "      <td>San Francisco</td>\n",
       "      <td>01-07-2010</td>\n",
       "    </tr>\n",
       "    <tr>\n",
       "      <th>32</th>\n",
       "      <td>/organization/1010data</td>\n",
       "      <td>/funding-round/482fbf992b48f5c47d0080ab7ec0cb54</td>\n",
       "      <td>venture</td>\n",
       "      <td>NaN</td>\n",
       "      <td>08-03-2010</td>\n",
       "      <td>35000000.0</td>\n",
       "      <td>/organization/1010data</td>\n",
       "      <td>1010data</td>\n",
       "      <td>http://www.1010data.com</td>\n",
       "      <td>Software</td>\n",
       "      <td>acquired</td>\n",
       "      <td>USA</td>\n",
       "      <td>NY</td>\n",
       "      <td>New York City</td>\n",
       "      <td>New York</td>\n",
       "      <td>01-01-2000</td>\n",
       "    </tr>\n",
       "    <tr>\n",
       "      <th>40</th>\n",
       "      <td>/organization/10x-genomics</td>\n",
       "      <td>/funding-round/563923487783bdeb5d0b7872f3d6b99a</td>\n",
       "      <td>venture</td>\n",
       "      <td>B</td>\n",
       "      <td>12-01-2015</td>\n",
       "      <td>55000000.0</td>\n",
       "      <td>/organization/10x-genomics</td>\n",
       "      <td>10X Genomics</td>\n",
       "      <td>http://10xgenomics.com</td>\n",
       "      <td>Biotechnology|Technology</td>\n",
       "      <td>operating</td>\n",
       "      <td>USA</td>\n",
       "      <td>CA</td>\n",
       "      <td>SF Bay Area</td>\n",
       "      <td>Pleasanton</td>\n",
       "      <td>01-01-2012</td>\n",
       "    </tr>\n",
       "    <tr>\n",
       "      <th>41</th>\n",
       "      <td>/organization/10x-technologies</td>\n",
       "      <td>/funding-round/39c1441d5098875a925577d0f2ad3904</td>\n",
       "      <td>venture</td>\n",
       "      <td>B</td>\n",
       "      <td>12-01-2015</td>\n",
       "      <td>550000.0</td>\n",
       "      <td>/organization/10x-technologies</td>\n",
       "      <td>10X Technologies</td>\n",
       "      <td>http://10xtechnologies.com</td>\n",
       "      <td>Biotechnology</td>\n",
       "      <td>operating</td>\n",
       "      <td>USA</td>\n",
       "      <td>CA</td>\n",
       "      <td>SF Bay Area</td>\n",
       "      <td>Oakland</td>\n",
       "      <td>01-01-2012</td>\n",
       "    </tr>\n",
       "    <tr>\n",
       "      <th>47</th>\n",
       "      <td>/organization/11i-solutions</td>\n",
       "      <td>/funding-round/e07501ed6997290b1bef59406bc300a1</td>\n",
       "      <td>venture</td>\n",
       "      <td>NaN</td>\n",
       "      <td>22-03-2011</td>\n",
       "      <td>1800000.0</td>\n",
       "      <td>/organization/11i-solutions</td>\n",
       "      <td>11i Solutions</td>\n",
       "      <td>http://www.11isolutions.com</td>\n",
       "      <td>Enterprise Software</td>\n",
       "      <td>closed</td>\n",
       "      <td>USA</td>\n",
       "      <td>AL</td>\n",
       "      <td>Huntsville</td>\n",
       "      <td>Huntsville</td>\n",
       "      <td>NaN</td>\n",
       "    </tr>\n",
       "    <tr>\n",
       "      <th>60</th>\n",
       "      <td>/organization/128-technology</td>\n",
       "      <td>/funding-round/fb6216a30cb566ede89e0bee0623a634</td>\n",
       "      <td>venture</td>\n",
       "      <td>NaN</td>\n",
       "      <td>16-12-2014</td>\n",
       "      <td>11999347.0</td>\n",
       "      <td>/organization/128-technology</td>\n",
       "      <td>128 Technology</td>\n",
       "      <td>http://www.128technology.com/</td>\n",
       "      <td>Service Providers|Technology</td>\n",
       "      <td>operating</td>\n",
       "      <td>USA</td>\n",
       "      <td>MA</td>\n",
       "      <td>Boston</td>\n",
       "      <td>Burlington</td>\n",
       "      <td>07-07-2014</td>\n",
       "    </tr>\n",
       "    <tr>\n",
       "      <th>65</th>\n",
       "      <td>/organization/1366-technologies</td>\n",
       "      <td>/funding-round/2a31dd8a0b006b341cde0f7b721008e6</td>\n",
       "      <td>venture</td>\n",
       "      <td>B</td>\n",
       "      <td>14-01-2011</td>\n",
       "      <td>2400000.0</td>\n",
       "      <td>/organization/1366-technologies</td>\n",
       "      <td>1366 Technologies</td>\n",
       "      <td>http://www.1366tech.com</td>\n",
       "      <td>Manufacturing</td>\n",
       "      <td>operating</td>\n",
       "      <td>USA</td>\n",
       "      <td>MA</td>\n",
       "      <td>Boston</td>\n",
       "      <td>Bedford</td>\n",
       "      <td>01-01-2007</td>\n",
       "    </tr>\n",
       "  </tbody>\n",
       "</table>\n",
       "</div>"
      ],
      "text/plain": [
       "                  company_permalink  \\\n",
       "0               /organization/-fame   \n",
       "15       /organization/1-mainstream   \n",
       "18    /organization/10-minutes-with   \n",
       "23       /organization/1000memories   \n",
       "32           /organization/1010data   \n",
       "40       /organization/10x-genomics   \n",
       "41   /organization/10x-technologies   \n",
       "47      /organization/11i-solutions   \n",
       "60     /organization/128-technology   \n",
       "65  /organization/1366-technologies   \n",
       "\n",
       "                            funding_round_permalink funding_round_type  \\\n",
       "0   /funding-round/9a01d05418af9f794eebff7ace91f638            venture   \n",
       "15  /funding-round/b952cbaf401f310927430c97b68162ea            venture   \n",
       "18  /funding-round/0faccbbcc5818dc5326469f13f5a8ac8            venture   \n",
       "23  /funding-round/502bd0e50c27616995e4bdad24605ef8            venture   \n",
       "32  /funding-round/482fbf992b48f5c47d0080ab7ec0cb54            venture   \n",
       "40  /funding-round/563923487783bdeb5d0b7872f3d6b99a            venture   \n",
       "41  /funding-round/39c1441d5098875a925577d0f2ad3904            venture   \n",
       "47  /funding-round/e07501ed6997290b1bef59406bc300a1            venture   \n",
       "60  /funding-round/fb6216a30cb566ede89e0bee0623a634            venture   \n",
       "65  /funding-round/2a31dd8a0b006b341cde0f7b721008e6            venture   \n",
       "\n",
       "   funding_round_code   funded_at  raised_amount_usd  \\\n",
       "0                   B  05-01-2015         10000000.0   \n",
       "15                NaN  17-03-2015          5000000.0   \n",
       "18                  A  09-10-2014          4000000.0   \n",
       "23                  A  16-02-2011          2520000.0   \n",
       "32                NaN  08-03-2010         35000000.0   \n",
       "40                  B  12-01-2015         55000000.0   \n",
       "41                  B  12-01-2015           550000.0   \n",
       "47                NaN  22-03-2011          1800000.0   \n",
       "60                NaN  16-12-2014         11999347.0   \n",
       "65                  B  14-01-2011          2400000.0   \n",
       "\n",
       "                          permalink               name  \\\n",
       "0               /organization/-fame              #fame   \n",
       "15       /organization/1-mainstream       1 Mainstream   \n",
       "18    /organization/10-minutes-with    10 Minutes With   \n",
       "23       /organization/1000memories       1000memories   \n",
       "32           /organization/1010data           1010data   \n",
       "40       /organization/10x-genomics       10X Genomics   \n",
       "41   /organization/10x-technologies   10X Technologies   \n",
       "47      /organization/11i-solutions      11i Solutions   \n",
       "60     /organization/128-technology     128 Technology   \n",
       "65  /organization/1366-technologies  1366 Technologies   \n",
       "\n",
       "                     homepage_url                     category_list  \\\n",
       "0              http://livfame.com                             Media   \n",
       "15     http://www.1mainstream.com  Apps|Cable|Distribution|Software   \n",
       "18       http://10minuteswith.com                         Education   \n",
       "23        http://1000memories.com                       Curated Web   \n",
       "32        http://www.1010data.com                          Software   \n",
       "40         http://10xgenomics.com          Biotechnology|Technology   \n",
       "41     http://10xtechnologies.com                     Biotechnology   \n",
       "47    http://www.11isolutions.com               Enterprise Software   \n",
       "60  http://www.128technology.com/      Service Providers|Technology   \n",
       "65        http://www.1366tech.com                     Manufacturing   \n",
       "\n",
       "       status country_code state_code         region           city  \\\n",
       "0   operating          IND         16         Mumbai         Mumbai   \n",
       "15   acquired          USA         CA    SF Bay Area      Cupertino   \n",
       "18  operating          GBR         H9         London         London   \n",
       "23   acquired          USA         CA    SF Bay Area  San Francisco   \n",
       "32   acquired          USA         NY  New York City       New York   \n",
       "40  operating          USA         CA    SF Bay Area     Pleasanton   \n",
       "41  operating          USA         CA    SF Bay Area        Oakland   \n",
       "47     closed          USA         AL     Huntsville     Huntsville   \n",
       "60  operating          USA         MA         Boston     Burlington   \n",
       "65  operating          USA         MA         Boston        Bedford   \n",
       "\n",
       "    founded_at  \n",
       "0          NaN  \n",
       "15  01-03-2012  \n",
       "18  01-01-2013  \n",
       "23  01-07-2010  \n",
       "32  01-01-2000  \n",
       "40  01-01-2012  \n",
       "41  01-01-2012  \n",
       "47         NaN  \n",
       "60  07-07-2014  \n",
       "65  01-01-2007  "
      ]
     },
     "execution_count": 22,
     "metadata": {},
     "output_type": "execute_result"
    }
   ],
   "source": [
    "top3 = top9[(top9.country_code=='USA') | (top9.country_code=='GBR') | (top9.country_code=='IND')]\n",
    "print(top3.shape)\n",
    "top3.head(10)"
   ]
  },
  {
   "cell_type": "markdown",
   "id": "56e9c570",
   "metadata": {
    "execution": {
     "iopub.execute_input": "2022-04-07T14:41:29.541035Z",
     "iopub.status.busy": "2022-04-07T14:41:29.540771Z",
     "iopub.status.idle": "2022-04-07T14:41:29.546665Z",
     "shell.execute_reply": "2022-04-07T14:41:29.545326Z",
     "shell.execute_reply.started": "2022-04-07T14:41:29.541007Z"
    },
    "papermill": {
     "duration": 0.05404,
     "end_time": "2022-04-07T15:05:40.087997",
     "exception": false,
     "start_time": "2022-04-07T15:05:40.033957",
     "status": "completed"
    },
    "tags": []
   },
   "source": [
    "Reading mapping file"
   ]
  },
  {
   "cell_type": "code",
   "execution_count": 23,
   "id": "fb3b6fdd",
   "metadata": {
    "execution": {
     "iopub.execute_input": "2022-04-07T15:05:40.203007Z",
     "iopub.status.busy": "2022-04-07T15:05:40.202350Z",
     "iopub.status.idle": "2022-04-07T15:05:40.222599Z",
     "shell.execute_reply": "2022-04-07T15:05:40.223111Z",
     "shell.execute_reply.started": "2022-04-07T14:42:00.202028Z"
    },
    "papermill": {
     "duration": 0.081054,
     "end_time": "2022-04-07T15:05:40.223306",
     "exception": false,
     "start_time": "2022-04-07T15:05:40.142252",
     "status": "completed"
    },
    "tags": []
   },
   "outputs": [
    {
     "data": {
      "text/html": [
       "<div>\n",
       "<style scoped>\n",
       "    .dataframe tbody tr th:only-of-type {\n",
       "        vertical-align: middle;\n",
       "    }\n",
       "\n",
       "    .dataframe tbody tr th {\n",
       "        vertical-align: top;\n",
       "    }\n",
       "\n",
       "    .dataframe thead th {\n",
       "        text-align: right;\n",
       "    }\n",
       "</style>\n",
       "<table border=\"1\" class=\"dataframe\">\n",
       "  <thead>\n",
       "    <tr style=\"text-align: right;\">\n",
       "      <th></th>\n",
       "      <th>category_list</th>\n",
       "      <th>Automotive &amp; Sports</th>\n",
       "      <th>Blanks</th>\n",
       "      <th>Cleantech / Semiconductors</th>\n",
       "      <th>Entertainment</th>\n",
       "      <th>Health</th>\n",
       "      <th>Manufacturing</th>\n",
       "      <th>News, Search and Messaging</th>\n",
       "      <th>Others</th>\n",
       "      <th>Social, Finance, Analytics, Advertising</th>\n",
       "    </tr>\n",
       "  </thead>\n",
       "  <tbody>\n",
       "    <tr>\n",
       "      <th>0</th>\n",
       "      <td>NaN</td>\n",
       "      <td>0</td>\n",
       "      <td>1</td>\n",
       "      <td>0</td>\n",
       "      <td>0</td>\n",
       "      <td>0</td>\n",
       "      <td>0</td>\n",
       "      <td>0</td>\n",
       "      <td>0</td>\n",
       "      <td>0</td>\n",
       "    </tr>\n",
       "    <tr>\n",
       "      <th>1</th>\n",
       "      <td>3D</td>\n",
       "      <td>0</td>\n",
       "      <td>0</td>\n",
       "      <td>0</td>\n",
       "      <td>0</td>\n",
       "      <td>0</td>\n",
       "      <td>1</td>\n",
       "      <td>0</td>\n",
       "      <td>0</td>\n",
       "      <td>0</td>\n",
       "    </tr>\n",
       "    <tr>\n",
       "      <th>2</th>\n",
       "      <td>3D Printing</td>\n",
       "      <td>0</td>\n",
       "      <td>0</td>\n",
       "      <td>0</td>\n",
       "      <td>0</td>\n",
       "      <td>0</td>\n",
       "      <td>1</td>\n",
       "      <td>0</td>\n",
       "      <td>0</td>\n",
       "      <td>0</td>\n",
       "    </tr>\n",
       "    <tr>\n",
       "      <th>3</th>\n",
       "      <td>3D Technology</td>\n",
       "      <td>0</td>\n",
       "      <td>0</td>\n",
       "      <td>0</td>\n",
       "      <td>0</td>\n",
       "      <td>0</td>\n",
       "      <td>1</td>\n",
       "      <td>0</td>\n",
       "      <td>0</td>\n",
       "      <td>0</td>\n",
       "    </tr>\n",
       "    <tr>\n",
       "      <th>4</th>\n",
       "      <td>Accounting</td>\n",
       "      <td>0</td>\n",
       "      <td>0</td>\n",
       "      <td>0</td>\n",
       "      <td>0</td>\n",
       "      <td>0</td>\n",
       "      <td>0</td>\n",
       "      <td>0</td>\n",
       "      <td>0</td>\n",
       "      <td>1</td>\n",
       "    </tr>\n",
       "  </tbody>\n",
       "</table>\n",
       "</div>"
      ],
      "text/plain": [
       "   category_list  Automotive & Sports  Blanks  Cleantech / Semiconductors  \\\n",
       "0            NaN                    0       1                           0   \n",
       "1             3D                    0       0                           0   \n",
       "2    3D Printing                    0       0                           0   \n",
       "3  3D Technology                    0       0                           0   \n",
       "4     Accounting                    0       0                           0   \n",
       "\n",
       "   Entertainment  Health  Manufacturing  News, Search and Messaging  Others  \\\n",
       "0              0       0              0                           0       0   \n",
       "1              0       0              1                           0       0   \n",
       "2              0       0              1                           0       0   \n",
       "3              0       0              1                           0       0   \n",
       "4              0       0              0                           0       0   \n",
       "\n",
       "   Social, Finance, Analytics, Advertising  \n",
       "0                                        0  \n",
       "1                                        0  \n",
       "2                                        0  \n",
       "3                                        0  \n",
       "4                                        1  "
      ]
     },
     "execution_count": 23,
     "metadata": {},
     "output_type": "execute_result"
    }
   ],
   "source": [
    "sector_map=pd.read_csv('../input/investment/mapping.csv', encoding='utf-8')\n",
    "sector_map.head()"
   ]
  },
  {
   "cell_type": "markdown",
   "id": "54889a13",
   "metadata": {
    "papermill": {
     "duration": 0.054826,
     "end_time": "2022-04-07T15:05:40.333297",
     "exception": false,
     "start_time": "2022-04-07T15:05:40.278471",
     "status": "completed"
    },
    "tags": []
   },
   "source": [
    "Creating a column as 'primary sector' by extracting string before the first vertical bar '|' in 'category_list'"
   ]
  },
  {
   "cell_type": "code",
   "execution_count": 24,
   "id": "ccecdd6a",
   "metadata": {
    "execution": {
     "iopub.execute_input": "2022-04-07T15:05:40.447927Z",
     "iopub.status.busy": "2022-04-07T15:05:40.447287Z",
     "iopub.status.idle": "2022-04-07T15:05:40.469504Z",
     "shell.execute_reply": "2022-04-07T15:05:40.468762Z",
     "shell.execute_reply.started": "2022-04-07T14:42:18.958430Z"
    },
    "papermill": {
     "duration": 0.081364,
     "end_time": "2022-04-07T15:05:40.469667",
     "exception": false,
     "start_time": "2022-04-07T15:05:40.388303",
     "status": "completed"
    },
    "tags": []
   },
   "outputs": [
    {
     "name": "stderr",
     "output_type": "stream",
     "text": [
      "/opt/conda/lib/python3.7/site-packages/ipykernel_launcher.py:1: SettingWithCopyWarning: \n",
      "A value is trying to be set on a copy of a slice from a DataFrame.\n",
      "Try using .loc[row_indexer,col_indexer] = value instead\n",
      "\n",
      "See the caveats in the documentation: https://pandas.pydata.org/pandas-docs/stable/user_guide/indexing.html#returning-a-view-versus-a-copy\n",
      "  \"\"\"Entry point for launching an IPython kernel.\n"
     ]
    }
   ],
   "source": [
    "top3['primary sector']=top3['category_list'].apply(lambda x: str(x).split('|')[0])"
   ]
  },
  {
   "cell_type": "markdown",
   "id": "ec6fa9d2",
   "metadata": {
    "papermill": {
     "duration": 0.056557,
     "end_time": "2022-04-07T15:05:40.582529",
     "exception": false,
     "start_time": "2022-04-07T15:05:40.525972",
     "status": "completed"
    },
    "tags": []
   },
   "source": [
    "Converting wide format data mentioned in 'mapping' file to long format, it will help in merging dataframes"
   ]
  },
  {
   "cell_type": "code",
   "execution_count": 25,
   "id": "42a560b7",
   "metadata": {
    "execution": {
     "iopub.execute_input": "2022-04-07T15:05:40.709067Z",
     "iopub.status.busy": "2022-04-07T15:05:40.708021Z",
     "iopub.status.idle": "2022-04-07T15:05:40.725132Z",
     "shell.execute_reply": "2022-04-07T15:05:40.725864Z",
     "shell.execute_reply.started": "2022-04-07T14:43:51.179493Z"
    },
    "papermill": {
     "duration": 0.085663,
     "end_time": "2022-04-07T15:05:40.726154",
     "exception": false,
     "start_time": "2022-04-07T15:05:40.640491",
     "status": "completed"
    },
    "tags": []
   },
   "outputs": [
    {
     "data": {
      "text/html": [
       "<div>\n",
       "<style scoped>\n",
       "    .dataframe tbody tr th:only-of-type {\n",
       "        vertical-align: middle;\n",
       "    }\n",
       "\n",
       "    .dataframe tbody tr th {\n",
       "        vertical-align: top;\n",
       "    }\n",
       "\n",
       "    .dataframe thead th {\n",
       "        text-align: right;\n",
       "    }\n",
       "</style>\n",
       "<table border=\"1\" class=\"dataframe\">\n",
       "  <thead>\n",
       "    <tr style=\"text-align: right;\">\n",
       "      <th></th>\n",
       "      <th>category_list</th>\n",
       "      <th>variable</th>\n",
       "      <th>value</th>\n",
       "    </tr>\n",
       "  </thead>\n",
       "  <tbody>\n",
       "    <tr>\n",
       "      <th>0</th>\n",
       "      <td>NaN</td>\n",
       "      <td>Automotive &amp; Sports</td>\n",
       "      <td>0</td>\n",
       "    </tr>\n",
       "    <tr>\n",
       "      <th>1</th>\n",
       "      <td>3D</td>\n",
       "      <td>Automotive &amp; Sports</td>\n",
       "      <td>0</td>\n",
       "    </tr>\n",
       "    <tr>\n",
       "      <th>2</th>\n",
       "      <td>3D Printing</td>\n",
       "      <td>Automotive &amp; Sports</td>\n",
       "      <td>0</td>\n",
       "    </tr>\n",
       "    <tr>\n",
       "      <th>3</th>\n",
       "      <td>3D Technology</td>\n",
       "      <td>Automotive &amp; Sports</td>\n",
       "      <td>0</td>\n",
       "    </tr>\n",
       "    <tr>\n",
       "      <th>4</th>\n",
       "      <td>Accounting</td>\n",
       "      <td>Automotive &amp; Sports</td>\n",
       "      <td>0</td>\n",
       "    </tr>\n",
       "    <tr>\n",
       "      <th>...</th>\n",
       "      <td>...</td>\n",
       "      <td>...</td>\n",
       "      <td>...</td>\n",
       "    </tr>\n",
       "    <tr>\n",
       "      <th>6187</th>\n",
       "      <td>Wholesale</td>\n",
       "      <td>Social, Finance, Analytics, Advertising</td>\n",
       "      <td>0</td>\n",
       "    </tr>\n",
       "    <tr>\n",
       "      <th>6188</th>\n",
       "      <td>Wine And Spirits</td>\n",
       "      <td>Social, Finance, Analytics, Advertising</td>\n",
       "      <td>0</td>\n",
       "    </tr>\n",
       "    <tr>\n",
       "      <th>6189</th>\n",
       "      <td>Wireless</td>\n",
       "      <td>Social, Finance, Analytics, Advertising</td>\n",
       "      <td>0</td>\n",
       "    </tr>\n",
       "    <tr>\n",
       "      <th>6190</th>\n",
       "      <td>Women</td>\n",
       "      <td>Social, Finance, Analytics, Advertising</td>\n",
       "      <td>0</td>\n",
       "    </tr>\n",
       "    <tr>\n",
       "      <th>6191</th>\n",
       "      <td>Young Adults</td>\n",
       "      <td>Social, Finance, Analytics, Advertising</td>\n",
       "      <td>0</td>\n",
       "    </tr>\n",
       "  </tbody>\n",
       "</table>\n",
       "<p>6192 rows × 3 columns</p>\n",
       "</div>"
      ],
      "text/plain": [
       "         category_list                                 variable  value\n",
       "0                  NaN                      Automotive & Sports      0\n",
       "1                   3D                      Automotive & Sports      0\n",
       "2          3D Printing                      Automotive & Sports      0\n",
       "3        3D Technology                      Automotive & Sports      0\n",
       "4           Accounting                      Automotive & Sports      0\n",
       "...                ...                                      ...    ...\n",
       "6187         Wholesale  Social, Finance, Analytics, Advertising      0\n",
       "6188  Wine And Spirits  Social, Finance, Analytics, Advertising      0\n",
       "6189          Wireless  Social, Finance, Analytics, Advertising      0\n",
       "6190             Women  Social, Finance, Analytics, Advertising      0\n",
       "6191      Young Adults  Social, Finance, Analytics, Advertising      0\n",
       "\n",
       "[6192 rows x 3 columns]"
      ]
     },
     "execution_count": 25,
     "metadata": {},
     "output_type": "execute_result"
    }
   ],
   "source": [
    "var_val=list(sector_map.columns[1:])\n",
    "var_id = list(np.setdiff1d(sector_map.columns, var_val))\n",
    "map_df = pd.melt(sector_map, id_vars=var_id, value_vars=var_val)\n",
    "map_df"
   ]
  },
  {
   "cell_type": "markdown",
   "id": "7e9361e5",
   "metadata": {
    "papermill": {
     "duration": 0.063674,
     "end_time": "2022-04-07T15:05:40.871695",
     "exception": false,
     "start_time": "2022-04-07T15:05:40.808021",
     "status": "completed"
    },
    "tags": []
   },
   "source": [
    "Removing rows having 0s coming in the above dataframe and keeping only rows having value 1"
   ]
  },
  {
   "cell_type": "code",
   "execution_count": 26,
   "id": "8d9afc50",
   "metadata": {
    "execution": {
     "iopub.execute_input": "2022-04-07T15:05:40.995924Z",
     "iopub.status.busy": "2022-04-07T15:05:40.994796Z",
     "iopub.status.idle": "2022-04-07T15:05:41.008861Z",
     "shell.execute_reply": "2022-04-07T15:05:41.009570Z",
     "shell.execute_reply.started": "2022-04-07T14:43:33.071823Z"
    },
    "papermill": {
     "duration": 0.078137,
     "end_time": "2022-04-07T15:05:41.009778",
     "exception": false,
     "start_time": "2022-04-07T15:05:40.931641",
     "status": "completed"
    },
    "tags": []
   },
   "outputs": [
    {
     "data": {
      "text/html": [
       "<div>\n",
       "<style scoped>\n",
       "    .dataframe tbody tr th:only-of-type {\n",
       "        vertical-align: middle;\n",
       "    }\n",
       "\n",
       "    .dataframe tbody tr th {\n",
       "        vertical-align: top;\n",
       "    }\n",
       "\n",
       "    .dataframe thead th {\n",
       "        text-align: right;\n",
       "    }\n",
       "</style>\n",
       "<table border=\"1\" class=\"dataframe\">\n",
       "  <thead>\n",
       "    <tr style=\"text-align: right;\">\n",
       "      <th></th>\n",
       "      <th>category_list</th>\n",
       "      <th>main_sector</th>\n",
       "    </tr>\n",
       "  </thead>\n",
       "  <tbody>\n",
       "    <tr>\n",
       "      <th>8</th>\n",
       "      <td>Adventure Travel</td>\n",
       "      <td>Automotive &amp; Sports</td>\n",
       "    </tr>\n",
       "    <tr>\n",
       "      <th>14</th>\n",
       "      <td>Aerospace</td>\n",
       "      <td>Automotive &amp; Sports</td>\n",
       "    </tr>\n",
       "    <tr>\n",
       "      <th>45</th>\n",
       "      <td>Auto</td>\n",
       "      <td>Automotive &amp; Sports</td>\n",
       "    </tr>\n",
       "    <tr>\n",
       "      <th>46</th>\n",
       "      <td>Automated Kiosk</td>\n",
       "      <td>Automotive &amp; Sports</td>\n",
       "    </tr>\n",
       "    <tr>\n",
       "      <th>47</th>\n",
       "      <td>Automotive</td>\n",
       "      <td>Automotive &amp; Sports</td>\n",
       "    </tr>\n",
       "    <tr>\n",
       "      <th>...</th>\n",
       "      <td>...</td>\n",
       "      <td>...</td>\n",
       "    </tr>\n",
       "    <tr>\n",
       "      <th>6121</th>\n",
       "      <td>Social Recruiting</td>\n",
       "      <td>Social, Finance, Analytics, Advertising</td>\n",
       "    </tr>\n",
       "    <tr>\n",
       "      <th>6122</th>\n",
       "      <td>Social Television</td>\n",
       "      <td>Social, Finance, Analytics, Advertising</td>\n",
       "    </tr>\n",
       "    <tr>\n",
       "      <th>6123</th>\n",
       "      <td>Social Travel</td>\n",
       "      <td>Social, Finance, Analytics, Advertising</td>\n",
       "    </tr>\n",
       "    <tr>\n",
       "      <th>6134</th>\n",
       "      <td>Stock Exchanges</td>\n",
       "      <td>Social, Finance, Analytics, Advertising</td>\n",
       "    </tr>\n",
       "    <tr>\n",
       "      <th>6167</th>\n",
       "      <td>Venture Capital</td>\n",
       "      <td>Social, Finance, Analytics, Advertising</td>\n",
       "    </tr>\n",
       "  </tbody>\n",
       "</table>\n",
       "<p>688 rows × 2 columns</p>\n",
       "</div>"
      ],
      "text/plain": [
       "          category_list                              main_sector\n",
       "8      Adventure Travel                      Automotive & Sports\n",
       "14            Aerospace                      Automotive & Sports\n",
       "45                 Auto                      Automotive & Sports\n",
       "46      Automated Kiosk                      Automotive & Sports\n",
       "47           Automotive                      Automotive & Sports\n",
       "...                 ...                                      ...\n",
       "6121  Social Recruiting  Social, Finance, Analytics, Advertising\n",
       "6122  Social Television  Social, Finance, Analytics, Advertising\n",
       "6123      Social Travel  Social, Finance, Analytics, Advertising\n",
       "6134    Stock Exchanges  Social, Finance, Analytics, Advertising\n",
       "6167    Venture Capital  Social, Finance, Analytics, Advertising\n",
       "\n",
       "[688 rows x 2 columns]"
      ]
     },
     "execution_count": 26,
     "metadata": {},
     "output_type": "execute_result"
    }
   ],
   "source": [
    "map_df=map_df[map_df['value']==1]\n",
    "map_df=map_df.drop('value',axis=1)\n",
    "map_df=map_df.rename(columns={'variable': 'main_sector'})\n",
    "map_df"
   ]
  },
  {
   "cell_type": "markdown",
   "id": "9c530c92",
   "metadata": {
    "papermill": {
     "duration": 0.058725,
     "end_time": "2022-04-07T15:05:41.128730",
     "exception": false,
     "start_time": "2022-04-07T15:05:41.070005",
     "status": "completed"
    },
    "tags": []
   },
   "source": [
    "Merging 'main_sector' column from mapping dataframe to 'top3' dataframe taking 'category_list' as the key"
   ]
  },
  {
   "cell_type": "code",
   "execution_count": 27,
   "id": "2cb4933a",
   "metadata": {
    "execution": {
     "iopub.execute_input": "2022-04-07T15:05:41.256725Z",
     "iopub.status.busy": "2022-04-07T15:05:41.255917Z",
     "iopub.status.idle": "2022-04-07T15:05:41.288625Z",
     "shell.execute_reply": "2022-04-07T15:05:41.289262Z",
     "shell.execute_reply.started": "2022-04-07T14:49:44.026557Z"
    },
    "papermill": {
     "duration": 0.099294,
     "end_time": "2022-04-07T15:05:41.289466",
     "exception": false,
     "start_time": "2022-04-07T15:05:41.190172",
     "status": "completed"
    },
    "tags": []
   },
   "outputs": [],
   "source": [
    "final_df=top3.merge(map_df)"
   ]
  },
  {
   "cell_type": "markdown",
   "id": "08924128",
   "metadata": {
    "papermill": {
     "duration": 0.06306,
     "end_time": "2022-04-07T15:05:41.416921",
     "exception": false,
     "start_time": "2022-04-07T15:05:41.353861",
     "status": "completed"
    },
    "tags": []
   },
   "source": [
    "Checking dataframe after merging 'mapping' dataframe with 'top3'  dataframe"
   ]
  },
  {
   "cell_type": "code",
   "execution_count": 28,
   "id": "14ff9925",
   "metadata": {
    "execution": {
     "iopub.execute_input": "2022-04-07T15:05:41.546819Z",
     "iopub.status.busy": "2022-04-07T15:05:41.545360Z",
     "iopub.status.idle": "2022-04-07T15:05:41.581003Z",
     "shell.execute_reply": "2022-04-07T15:05:41.581694Z",
     "shell.execute_reply.started": "2022-04-07T14:49:46.953324Z"
    },
    "papermill": {
     "duration": 0.101926,
     "end_time": "2022-04-07T15:05:41.581996",
     "exception": false,
     "start_time": "2022-04-07T15:05:41.480070",
     "status": "completed"
    },
    "tags": []
   },
   "outputs": [
    {
     "data": {
      "text/html": [
       "<div>\n",
       "<style scoped>\n",
       "    .dataframe tbody tr th:only-of-type {\n",
       "        vertical-align: middle;\n",
       "    }\n",
       "\n",
       "    .dataframe tbody tr th {\n",
       "        vertical-align: top;\n",
       "    }\n",
       "\n",
       "    .dataframe thead th {\n",
       "        text-align: right;\n",
       "    }\n",
       "</style>\n",
       "<table border=\"1\" class=\"dataframe\">\n",
       "  <thead>\n",
       "    <tr style=\"text-align: right;\">\n",
       "      <th></th>\n",
       "      <th>company_permalink</th>\n",
       "      <th>funding_round_permalink</th>\n",
       "      <th>funding_round_type</th>\n",
       "      <th>funding_round_code</th>\n",
       "      <th>funded_at</th>\n",
       "      <th>raised_amount_usd</th>\n",
       "      <th>permalink</th>\n",
       "      <th>name</th>\n",
       "      <th>homepage_url</th>\n",
       "      <th>category_list</th>\n",
       "      <th>status</th>\n",
       "      <th>country_code</th>\n",
       "      <th>state_code</th>\n",
       "      <th>region</th>\n",
       "      <th>city</th>\n",
       "      <th>founded_at</th>\n",
       "      <th>primary sector</th>\n",
       "      <th>main_sector</th>\n",
       "    </tr>\n",
       "  </thead>\n",
       "  <tbody>\n",
       "    <tr>\n",
       "      <th>9038</th>\n",
       "      <td>/organization/acs-athletics</td>\n",
       "      <td>/funding-round/8038397f37e877563428c7082ad1df97</td>\n",
       "      <td>venture</td>\n",
       "      <td>A</td>\n",
       "      <td>01-07-2006</td>\n",
       "      <td>215000.0</td>\n",
       "      <td>/organization/acs-athletics</td>\n",
       "      <td>ACS Athletics</td>\n",
       "      <td>http://www.acsathletics.com/</td>\n",
       "      <td>Sports</td>\n",
       "      <td>operating</td>\n",
       "      <td>USA</td>\n",
       "      <td>TX</td>\n",
       "      <td>Austin</td>\n",
       "      <td>Austin</td>\n",
       "      <td>01-01-1999</td>\n",
       "      <td>Sports</td>\n",
       "      <td>Automotive &amp; Sports</td>\n",
       "    </tr>\n",
       "    <tr>\n",
       "      <th>9039</th>\n",
       "      <td>/organization/airkast</td>\n",
       "      <td>/funding-round/24aa27cde61d7fe3e151b51c244f3ef5</td>\n",
       "      <td>venture</td>\n",
       "      <td>NaN</td>\n",
       "      <td>13-06-2011</td>\n",
       "      <td>750000.0</td>\n",
       "      <td>/organization/airkast</td>\n",
       "      <td>AirKast</td>\n",
       "      <td>http://airkast.com</td>\n",
       "      <td>Sports</td>\n",
       "      <td>operating</td>\n",
       "      <td>USA</td>\n",
       "      <td>CA</td>\n",
       "      <td>SF Bay Area</td>\n",
       "      <td>Cupertino</td>\n",
       "      <td>01-01-2007</td>\n",
       "      <td>Sports</td>\n",
       "      <td>Automotive &amp; Sports</td>\n",
       "    </tr>\n",
       "    <tr>\n",
       "      <th>9040</th>\n",
       "      <td>/organization/boathouse-row-sports</td>\n",
       "      <td>/funding-round/993fcf3fdfb63ff58981130b6857efc5</td>\n",
       "      <td>venture</td>\n",
       "      <td>NaN</td>\n",
       "      <td>07-08-2009</td>\n",
       "      <td>2843769.0</td>\n",
       "      <td>/organization/boathouse-row-sports</td>\n",
       "      <td>BOATHOUSE ROW SPORTS</td>\n",
       "      <td>http://www.boathouse.com</td>\n",
       "      <td>Sports</td>\n",
       "      <td>operating</td>\n",
       "      <td>USA</td>\n",
       "      <td>PA</td>\n",
       "      <td>Philadelphia</td>\n",
       "      <td>Philadelphia</td>\n",
       "      <td>NaN</td>\n",
       "      <td>Sports</td>\n",
       "      <td>Automotive &amp; Sports</td>\n",
       "    </tr>\n",
       "    <tr>\n",
       "      <th>9041</th>\n",
       "      <td>/organization/break30</td>\n",
       "      <td>/funding-round/9f921768edc157dceb1de91c383000d0</td>\n",
       "      <td>venture</td>\n",
       "      <td>NaN</td>\n",
       "      <td>04-12-2008</td>\n",
       "      <td>295000.0</td>\n",
       "      <td>/organization/break30</td>\n",
       "      <td>Break30</td>\n",
       "      <td>http://www.break30.com</td>\n",
       "      <td>Sports</td>\n",
       "      <td>operating</td>\n",
       "      <td>GBR</td>\n",
       "      <td>L9</td>\n",
       "      <td>Sheffield</td>\n",
       "      <td>Sheffield</td>\n",
       "      <td>01-01-2005</td>\n",
       "      <td>Sports</td>\n",
       "      <td>Automotive &amp; Sports</td>\n",
       "    </tr>\n",
       "    <tr>\n",
       "      <th>9042</th>\n",
       "      <td>/organization/citizen-sports</td>\n",
       "      <td>/funding-round/7e2b3f5858cc3d9e6b397adade04cc5a</td>\n",
       "      <td>venture</td>\n",
       "      <td>NaN</td>\n",
       "      <td>01-01-2007</td>\n",
       "      <td>10000000.0</td>\n",
       "      <td>/organization/citizen-sports</td>\n",
       "      <td>Citizen Sports</td>\n",
       "      <td>http://www.citizensportsinc.com</td>\n",
       "      <td>Sports</td>\n",
       "      <td>acquired</td>\n",
       "      <td>USA</td>\n",
       "      <td>CA</td>\n",
       "      <td>SF Bay Area</td>\n",
       "      <td>San Francisco</td>\n",
       "      <td>01-01-2005</td>\n",
       "      <td>Sports</td>\n",
       "      <td>Automotive &amp; Sports</td>\n",
       "    </tr>\n",
       "  </tbody>\n",
       "</table>\n",
       "</div>"
      ],
      "text/plain": [
       "                       company_permalink  \\\n",
       "9038         /organization/acs-athletics   \n",
       "9039               /organization/airkast   \n",
       "9040  /organization/boathouse-row-sports   \n",
       "9041               /organization/break30   \n",
       "9042        /organization/citizen-sports   \n",
       "\n",
       "                              funding_round_permalink funding_round_type  \\\n",
       "9038  /funding-round/8038397f37e877563428c7082ad1df97            venture   \n",
       "9039  /funding-round/24aa27cde61d7fe3e151b51c244f3ef5            venture   \n",
       "9040  /funding-round/993fcf3fdfb63ff58981130b6857efc5            venture   \n",
       "9041  /funding-round/9f921768edc157dceb1de91c383000d0            venture   \n",
       "9042  /funding-round/7e2b3f5858cc3d9e6b397adade04cc5a            venture   \n",
       "\n",
       "     funding_round_code   funded_at  raised_amount_usd  \\\n",
       "9038                  A  01-07-2006           215000.0   \n",
       "9039                NaN  13-06-2011           750000.0   \n",
       "9040                NaN  07-08-2009          2843769.0   \n",
       "9041                NaN  04-12-2008           295000.0   \n",
       "9042                NaN  01-01-2007         10000000.0   \n",
       "\n",
       "                               permalink                  name  \\\n",
       "9038         /organization/acs-athletics         ACS Athletics   \n",
       "9039               /organization/airkast               AirKast   \n",
       "9040  /organization/boathouse-row-sports  BOATHOUSE ROW SPORTS   \n",
       "9041               /organization/break30               Break30   \n",
       "9042        /organization/citizen-sports        Citizen Sports   \n",
       "\n",
       "                         homepage_url category_list     status country_code  \\\n",
       "9038     http://www.acsathletics.com/        Sports  operating          USA   \n",
       "9039               http://airkast.com        Sports  operating          USA   \n",
       "9040         http://www.boathouse.com        Sports  operating          USA   \n",
       "9041           http://www.break30.com        Sports  operating          GBR   \n",
       "9042  http://www.citizensportsinc.com        Sports   acquired          USA   \n",
       "\n",
       "     state_code        region           city  founded_at primary sector  \\\n",
       "9038         TX        Austin         Austin  01-01-1999         Sports   \n",
       "9039         CA   SF Bay Area      Cupertino  01-01-2007         Sports   \n",
       "9040         PA  Philadelphia   Philadelphia         NaN         Sports   \n",
       "9041         L9     Sheffield      Sheffield  01-01-2005         Sports   \n",
       "9042         CA   SF Bay Area  San Francisco  01-01-2005         Sports   \n",
       "\n",
       "              main_sector  \n",
       "9038  Automotive & Sports  \n",
       "9039  Automotive & Sports  \n",
       "9040  Automotive & Sports  \n",
       "9041  Automotive & Sports  \n",
       "9042  Automotive & Sports  "
      ]
     },
     "execution_count": 28,
     "metadata": {},
     "output_type": "execute_result"
    }
   ],
   "source": [
    "final_df[final_df[\"main_sector\"]==\"Automotive & Sports\"].head()"
   ]
  },
  {
   "cell_type": "code",
   "execution_count": null,
   "id": "58181950",
   "metadata": {
    "papermill": {
     "duration": 0.061605,
     "end_time": "2022-04-07T15:05:41.715984",
     "exception": false,
     "start_time": "2022-04-07T15:05:41.654379",
     "status": "completed"
    },
    "tags": []
   },
   "outputs": [],
   "source": []
  }
 ],
 "metadata": {
  "kernelspec": {
   "display_name": "Python 3",
   "language": "python",
   "name": "python3"
  },
  "language_info": {
   "codemirror_mode": {
    "name": "ipython",
    "version": 3
   },
   "file_extension": ".py",
   "mimetype": "text/x-python",
   "name": "python",
   "nbconvert_exporter": "python",
   "pygments_lexer": "ipython3",
   "version": "3.7.12"
  },
  "papermill": {
   "default_parameters": {},
   "duration": 22.533428,
   "end_time": "2022-04-07T15:05:42.791535",
   "environment_variables": {},
   "exception": null,
   "input_path": "__notebook__.ipynb",
   "output_path": "__notebook__.ipynb",
   "parameters": {},
   "start_time": "2022-04-07T15:05:20.258107",
   "version": "2.3.3"
  }
 },
 "nbformat": 4,
 "nbformat_minor": 5
}
