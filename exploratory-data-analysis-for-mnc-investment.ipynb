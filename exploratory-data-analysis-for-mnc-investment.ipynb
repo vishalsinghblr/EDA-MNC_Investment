{
 "cells": [
  {
   "cell_type": "code",
   "execution_count": 1,
   "id": "0db7430e",
   "metadata": {
    "_cell_guid": "b1076dfc-b9ad-4769-8c92-a6c4dae69d19",
    "_uuid": "8f2839f25d086af736a60e9eeb907d3b93b6e0e5",
    "execution": {
     "iopub.execute_input": "2022-04-07T15:36:12.070911Z",
     "iopub.status.busy": "2022-04-07T15:36:12.069701Z",
     "iopub.status.idle": "2022-04-07T15:36:13.062655Z",
     "shell.execute_reply": "2022-04-07T15:36:13.063307Z",
     "shell.execute_reply.started": "2022-04-07T14:30:20.565723Z"
    },
    "papermill": {
     "duration": 1.063301,
     "end_time": "2022-04-07T15:36:13.063645",
     "exception": false,
     "start_time": "2022-04-07T15:36:12.000344",
     "status": "completed"
    },
    "tags": []
   },
   "outputs": [
    {
     "name": "stdout",
     "output_type": "stream",
     "text": [
      "/kaggle/input/investment/rounds2.csv\n",
      "/kaggle/input/investment/companies.csv\n",
      "/kaggle/input/investment/mapping.csv\n"
     ]
    }
   ],
   "source": [
    "# This Python 3 environment comes with many helpful analytics libraries installed\n",
    "# It is defined by the kaggle/python Docker image: https://github.com/kaggle/docker-python\n",
    "# For example, here's several helpful packages to load\n",
    "\n",
    "import numpy as np # linear algebra\n",
    "import pandas as pd # data processing, CSV file I/O (e.g. pd.read_csv)\n",
    "import seaborn as sns\n",
    "import matplotlib.pyplot as plt\n",
    "\n",
    "# Input data files are available in the read-only \"../input/\" directory\n",
    "# For example, running this (by clicking run or pressing Shift+Enter) will list all files under the input directory\n",
    "\n",
    "import os\n",
    "for dirname, _, filenames in os.walk('/kaggle/input'):\n",
    "    for filename in filenames:\n",
    "        print(os.path.join(dirname, filename))\n",
    "# You can write up to 20GB to the current directory (/kaggle/working/) that gets preserved as output when you create a version using \"Save & Run All\" \n",
    "# You can also write temporary files to /kaggle/temp/, but they won't be saved outside of the current session"
   ]
  },
  {
   "cell_type": "markdown",
   "id": "eabf648c",
   "metadata": {
    "papermill": {
     "duration": 0.065485,
     "end_time": "2022-04-07T15:36:13.195205",
     "exception": false,
     "start_time": "2022-04-07T15:36:13.129720",
     "status": "completed"
    },
    "tags": []
   },
   "source": [
    "Reading input files after inspecting encoding iso-8859-1 can be used for these files"
   ]
  },
  {
   "cell_type": "code",
   "execution_count": 2,
   "id": "e507754f",
   "metadata": {
    "execution": {
     "iopub.execute_input": "2022-04-07T15:36:13.326239Z",
     "iopub.status.busy": "2022-04-07T15:36:13.325606Z",
     "iopub.status.idle": "2022-04-07T15:36:14.153674Z",
     "shell.execute_reply": "2022-04-07T15:36:14.153045Z",
     "shell.execute_reply.started": "2022-04-07T14:32:28.973524Z"
    },
    "papermill": {
     "duration": 0.89459,
     "end_time": "2022-04-07T15:36:14.153848",
     "exception": false,
     "start_time": "2022-04-07T15:36:13.259258",
     "status": "completed"
    },
    "tags": []
   },
   "outputs": [],
   "source": [
    "companies=pd.read_csv('../input/investment/companies.csv',encoding='iso-8859-1')\n",
    "rounds2=pd.read_csv('../input/investment/rounds2.csv',encoding='iso-8859-1')"
   ]
  },
  {
   "cell_type": "markdown",
   "id": "8e0b020c",
   "metadata": {
    "papermill": {
     "duration": 0.063976,
     "end_time": "2022-04-07T15:36:14.284738",
     "exception": false,
     "start_time": "2022-04-07T15:36:14.220762",
     "status": "completed"
    },
    "tags": []
   },
   "source": [
    "Analyzing 'rounds2' file for columns/data present"
   ]
  },
  {
   "cell_type": "code",
   "execution_count": 3,
   "id": "cd9b412c",
   "metadata": {
    "execution": {
     "iopub.execute_input": "2022-04-07T15:36:14.421620Z",
     "iopub.status.busy": "2022-04-07T15:36:14.420928Z",
     "iopub.status.idle": "2022-04-07T15:36:14.437309Z",
     "shell.execute_reply": "2022-04-07T15:36:14.437853Z",
     "shell.execute_reply.started": "2022-04-07T14:32:33.146174Z"
    },
    "papermill": {
     "duration": 0.089447,
     "end_time": "2022-04-07T15:36:14.438031",
     "exception": false,
     "start_time": "2022-04-07T15:36:14.348584",
     "status": "completed"
    },
    "tags": []
   },
   "outputs": [
    {
     "data": {
      "text/html": [
       "<div>\n",
       "<style scoped>\n",
       "    .dataframe tbody tr th:only-of-type {\n",
       "        vertical-align: middle;\n",
       "    }\n",
       "\n",
       "    .dataframe tbody tr th {\n",
       "        vertical-align: top;\n",
       "    }\n",
       "\n",
       "    .dataframe thead th {\n",
       "        text-align: right;\n",
       "    }\n",
       "</style>\n",
       "<table border=\"1\" class=\"dataframe\">\n",
       "  <thead>\n",
       "    <tr style=\"text-align: right;\">\n",
       "      <th></th>\n",
       "      <th>company_permalink</th>\n",
       "      <th>funding_round_permalink</th>\n",
       "      <th>funding_round_type</th>\n",
       "      <th>funding_round_code</th>\n",
       "      <th>funded_at</th>\n",
       "      <th>raised_amount_usd</th>\n",
       "    </tr>\n",
       "  </thead>\n",
       "  <tbody>\n",
       "    <tr>\n",
       "      <th>0</th>\n",
       "      <td>/organization/-fame</td>\n",
       "      <td>/funding-round/9a01d05418af9f794eebff7ace91f638</td>\n",
       "      <td>venture</td>\n",
       "      <td>B</td>\n",
       "      <td>05-01-2015</td>\n",
       "      <td>10000000.0</td>\n",
       "    </tr>\n",
       "    <tr>\n",
       "      <th>1</th>\n",
       "      <td>/ORGANIZATION/-QOUNTER</td>\n",
       "      <td>/funding-round/22dacff496eb7acb2b901dec1dfe5633</td>\n",
       "      <td>venture</td>\n",
       "      <td>A</td>\n",
       "      <td>14-10-2014</td>\n",
       "      <td>NaN</td>\n",
       "    </tr>\n",
       "    <tr>\n",
       "      <th>2</th>\n",
       "      <td>/organization/-qounter</td>\n",
       "      <td>/funding-round/b44fbb94153f6cdef13083530bb48030</td>\n",
       "      <td>seed</td>\n",
       "      <td>NaN</td>\n",
       "      <td>01-03-2014</td>\n",
       "      <td>700000.0</td>\n",
       "    </tr>\n",
       "    <tr>\n",
       "      <th>3</th>\n",
       "      <td>/ORGANIZATION/-THE-ONE-OF-THEM-INC-</td>\n",
       "      <td>/funding-round/650b8f704416801069bb178a1418776b</td>\n",
       "      <td>venture</td>\n",
       "      <td>B</td>\n",
       "      <td>30-01-2014</td>\n",
       "      <td>3406878.0</td>\n",
       "    </tr>\n",
       "    <tr>\n",
       "      <th>4</th>\n",
       "      <td>/organization/0-6-com</td>\n",
       "      <td>/funding-round/5727accaeaa57461bd22a9bdd945382d</td>\n",
       "      <td>venture</td>\n",
       "      <td>A</td>\n",
       "      <td>19-03-2008</td>\n",
       "      <td>2000000.0</td>\n",
       "    </tr>\n",
       "  </tbody>\n",
       "</table>\n",
       "</div>"
      ],
      "text/plain": [
       "                     company_permalink  \\\n",
       "0                  /organization/-fame   \n",
       "1               /ORGANIZATION/-QOUNTER   \n",
       "2               /organization/-qounter   \n",
       "3  /ORGANIZATION/-THE-ONE-OF-THEM-INC-   \n",
       "4                /organization/0-6-com   \n",
       "\n",
       "                           funding_round_permalink funding_round_type  \\\n",
       "0  /funding-round/9a01d05418af9f794eebff7ace91f638            venture   \n",
       "1  /funding-round/22dacff496eb7acb2b901dec1dfe5633            venture   \n",
       "2  /funding-round/b44fbb94153f6cdef13083530bb48030               seed   \n",
       "3  /funding-round/650b8f704416801069bb178a1418776b            venture   \n",
       "4  /funding-round/5727accaeaa57461bd22a9bdd945382d            venture   \n",
       "\n",
       "  funding_round_code   funded_at  raised_amount_usd  \n",
       "0                  B  05-01-2015         10000000.0  \n",
       "1                  A  14-10-2014                NaN  \n",
       "2                NaN  01-03-2014           700000.0  \n",
       "3                  B  30-01-2014          3406878.0  \n",
       "4                  A  19-03-2008          2000000.0  "
      ]
     },
     "execution_count": 3,
     "metadata": {},
     "output_type": "execute_result"
    }
   ],
   "source": [
    "rounds2.head()"
   ]
  },
  {
   "cell_type": "markdown",
   "id": "9b01880e",
   "metadata": {
    "papermill": {
     "duration": 0.064486,
     "end_time": "2022-04-07T15:36:14.567682",
     "exception": false,
     "start_time": "2022-04-07T15:36:14.503196",
     "status": "completed"
    },
    "tags": []
   },
   "source": [
    "Converting 'comapany_permalink' column to a single case (converting it to lower case) and counting unique company names with the help of 'Unique ID of company' that is 'company_permalink' column"
   ]
  },
  {
   "cell_type": "code",
   "execution_count": 4,
   "id": "25298026",
   "metadata": {
    "execution": {
     "iopub.execute_input": "2022-04-07T15:36:14.718112Z",
     "iopub.status.busy": "2022-04-07T15:36:14.717349Z",
     "iopub.status.idle": "2022-04-07T15:36:14.797864Z",
     "shell.execute_reply": "2022-04-07T15:36:14.798378Z",
     "shell.execute_reply.started": "2022-04-07T14:32:51.690110Z"
    },
    "papermill": {
     "duration": 0.166515,
     "end_time": "2022-04-07T15:36:14.798600",
     "exception": false,
     "start_time": "2022-04-07T15:36:14.632085",
     "status": "completed"
    },
    "tags": []
   },
   "outputs": [
    {
     "name": "stdout",
     "output_type": "stream",
     "text": [
      "66370\n"
     ]
    }
   ],
   "source": [
    "rounds2['company_permalink']=rounds2['company_permalink'].str.lower()\n",
    "rounds2_name=rounds2['company_permalink'].unique()\n",
    "print(len(rounds2_name))"
   ]
  },
  {
   "cell_type": "markdown",
   "id": "ea43af7a",
   "metadata": {
    "papermill": {
     "duration": 0.065484,
     "end_time": "2022-04-07T15:36:14.932631",
     "exception": false,
     "start_time": "2022-04-07T15:36:14.867147",
     "status": "completed"
    },
    "tags": []
   },
   "source": [
    "Analyzing 'companies' file for columns/data present"
   ]
  },
  {
   "cell_type": "code",
   "execution_count": 5,
   "id": "24fdb251",
   "metadata": {
    "execution": {
     "iopub.execute_input": "2022-04-07T15:36:15.067516Z",
     "iopub.status.busy": "2022-04-07T15:36:15.066542Z",
     "iopub.status.idle": "2022-04-07T15:36:15.081329Z",
     "shell.execute_reply": "2022-04-07T15:36:15.081859Z",
     "shell.execute_reply.started": "2022-04-07T14:33:07.051165Z"
    },
    "papermill": {
     "duration": 0.083466,
     "end_time": "2022-04-07T15:36:15.082035",
     "exception": false,
     "start_time": "2022-04-07T15:36:14.998569",
     "status": "completed"
    },
    "tags": []
   },
   "outputs": [
    {
     "data": {
      "text/html": [
       "<div>\n",
       "<style scoped>\n",
       "    .dataframe tbody tr th:only-of-type {\n",
       "        vertical-align: middle;\n",
       "    }\n",
       "\n",
       "    .dataframe tbody tr th {\n",
       "        vertical-align: top;\n",
       "    }\n",
       "\n",
       "    .dataframe thead th {\n",
       "        text-align: right;\n",
       "    }\n",
       "</style>\n",
       "<table border=\"1\" class=\"dataframe\">\n",
       "  <thead>\n",
       "    <tr style=\"text-align: right;\">\n",
       "      <th></th>\n",
       "      <th>permalink</th>\n",
       "      <th>name</th>\n",
       "      <th>homepage_url</th>\n",
       "      <th>category_list</th>\n",
       "      <th>status</th>\n",
       "      <th>country_code</th>\n",
       "      <th>state_code</th>\n",
       "      <th>region</th>\n",
       "      <th>city</th>\n",
       "      <th>founded_at</th>\n",
       "    </tr>\n",
       "  </thead>\n",
       "  <tbody>\n",
       "    <tr>\n",
       "      <th>0</th>\n",
       "      <td>/Organization/-Fame</td>\n",
       "      <td>#fame</td>\n",
       "      <td>http://livfame.com</td>\n",
       "      <td>Media</td>\n",
       "      <td>operating</td>\n",
       "      <td>IND</td>\n",
       "      <td>16</td>\n",
       "      <td>Mumbai</td>\n",
       "      <td>Mumbai</td>\n",
       "      <td>NaN</td>\n",
       "    </tr>\n",
       "    <tr>\n",
       "      <th>1</th>\n",
       "      <td>/Organization/-Qounter</td>\n",
       "      <td>:Qounter</td>\n",
       "      <td>http://www.qounter.com</td>\n",
       "      <td>Application Platforms|Real Time|Social Network...</td>\n",
       "      <td>operating</td>\n",
       "      <td>USA</td>\n",
       "      <td>DE</td>\n",
       "      <td>DE - Other</td>\n",
       "      <td>Delaware City</td>\n",
       "      <td>04-09-2014</td>\n",
       "    </tr>\n",
       "    <tr>\n",
       "      <th>2</th>\n",
       "      <td>/Organization/-The-One-Of-Them-Inc-</td>\n",
       "      <td>(THE) ONE of THEM,Inc.</td>\n",
       "      <td>http://oneofthem.jp</td>\n",
       "      <td>Apps|Games|Mobile</td>\n",
       "      <td>operating</td>\n",
       "      <td>NaN</td>\n",
       "      <td>NaN</td>\n",
       "      <td>NaN</td>\n",
       "      <td>NaN</td>\n",
       "      <td>NaN</td>\n",
       "    </tr>\n",
       "    <tr>\n",
       "      <th>3</th>\n",
       "      <td>/Organization/0-6-Com</td>\n",
       "      <td>0-6.com</td>\n",
       "      <td>http://www.0-6.com</td>\n",
       "      <td>Curated Web</td>\n",
       "      <td>operating</td>\n",
       "      <td>CHN</td>\n",
       "      <td>22</td>\n",
       "      <td>Beijing</td>\n",
       "      <td>Beijing</td>\n",
       "      <td>01-01-2007</td>\n",
       "    </tr>\n",
       "    <tr>\n",
       "      <th>4</th>\n",
       "      <td>/Organization/004-Technologies</td>\n",
       "      <td>004 Technologies</td>\n",
       "      <td>http://004gmbh.de/en/004-interact</td>\n",
       "      <td>Software</td>\n",
       "      <td>operating</td>\n",
       "      <td>USA</td>\n",
       "      <td>IL</td>\n",
       "      <td>Springfield, Illinois</td>\n",
       "      <td>Champaign</td>\n",
       "      <td>01-01-2010</td>\n",
       "    </tr>\n",
       "  </tbody>\n",
       "</table>\n",
       "</div>"
      ],
      "text/plain": [
       "                             permalink                    name  \\\n",
       "0                  /Organization/-Fame                   #fame   \n",
       "1               /Organization/-Qounter                :Qounter   \n",
       "2  /Organization/-The-One-Of-Them-Inc-  (THE) ONE of THEM,Inc.   \n",
       "3                /Organization/0-6-Com                 0-6.com   \n",
       "4       /Organization/004-Technologies        004 Technologies   \n",
       "\n",
       "                        homepage_url  \\\n",
       "0                 http://livfame.com   \n",
       "1             http://www.qounter.com   \n",
       "2                http://oneofthem.jp   \n",
       "3                 http://www.0-6.com   \n",
       "4  http://004gmbh.de/en/004-interact   \n",
       "\n",
       "                                       category_list     status country_code  \\\n",
       "0                                              Media  operating          IND   \n",
       "1  Application Platforms|Real Time|Social Network...  operating          USA   \n",
       "2                                  Apps|Games|Mobile  operating          NaN   \n",
       "3                                        Curated Web  operating          CHN   \n",
       "4                                           Software  operating          USA   \n",
       "\n",
       "  state_code                 region           city  founded_at  \n",
       "0         16                 Mumbai         Mumbai         NaN  \n",
       "1         DE             DE - Other  Delaware City  04-09-2014  \n",
       "2        NaN                    NaN            NaN         NaN  \n",
       "3         22                Beijing        Beijing  01-01-2007  \n",
       "4         IL  Springfield, Illinois      Champaign  01-01-2010  "
      ]
     },
     "execution_count": 5,
     "metadata": {},
     "output_type": "execute_result"
    }
   ],
   "source": [
    "companies.head()"
   ]
  },
  {
   "cell_type": "markdown",
   "id": "8da9408b",
   "metadata": {
    "papermill": {
     "duration": 0.06506,
     "end_time": "2022-04-07T15:36:15.212318",
     "exception": false,
     "start_time": "2022-04-07T15:36:15.147258",
     "status": "completed"
    },
    "tags": []
   },
   "source": [
    "Converting 'permalink' column to a single case (converting it to lower case) counting unique company names with the help of 'Unique ID of company' that is 'permalink' column"
   ]
  },
  {
   "cell_type": "code",
   "execution_count": 6,
   "id": "192cee50",
   "metadata": {
    "execution": {
     "iopub.execute_input": "2022-04-07T15:36:15.357114Z",
     "iopub.status.busy": "2022-04-07T15:36:15.356082Z",
     "iopub.status.idle": "2022-04-07T15:36:15.404014Z",
     "shell.execute_reply": "2022-04-07T15:36:15.404629Z",
     "shell.execute_reply.started": "2022-04-07T14:33:49.646542Z"
    },
    "papermill": {
     "duration": 0.127201,
     "end_time": "2022-04-07T15:36:15.404812",
     "exception": false,
     "start_time": "2022-04-07T15:36:15.277611",
     "status": "completed"
    },
    "tags": []
   },
   "outputs": [
    {
     "name": "stdout",
     "output_type": "stream",
     "text": [
      "66368\n"
     ]
    }
   ],
   "source": [
    "companies['permalink']=companies['permalink'].str.lower()\n",
    "company_name=companies['permalink'].unique()\n",
    "print(len(company_name))"
   ]
  },
  {
   "cell_type": "markdown",
   "id": "1adf272c",
   "metadata": {
    "papermill": {
     "duration": 0.065249,
     "end_time": "2022-04-07T15:36:15.535529",
     "exception": false,
     "start_time": "2022-04-07T15:36:15.470280",
     "status": "completed"
    },
    "tags": []
   },
   "source": [
    "Checking company names present in 'rounds2' but not present in 'companies' file.\n",
    "\n",
    "Converting both numpy object to series as they both are of different shape subtracting will not give us the result."
   ]
  },
  {
   "cell_type": "code",
   "execution_count": 7,
   "id": "b20c722e",
   "metadata": {
    "execution": {
     "iopub.execute_input": "2022-04-07T15:36:15.671043Z",
     "iopub.status.busy": "2022-04-07T15:36:15.670037Z",
     "iopub.status.idle": "2022-04-07T15:36:15.710654Z",
     "shell.execute_reply": "2022-04-07T15:36:15.711666Z",
     "shell.execute_reply.started": "2022-04-07T14:34:04.996520Z"
    },
    "papermill": {
     "duration": 0.110856,
     "end_time": "2022-04-07T15:36:15.712020",
     "exception": false,
     "start_time": "2022-04-07T15:36:15.601164",
     "status": "completed"
    },
    "tags": []
   },
   "outputs": [
    {
     "name": "stdout",
     "output_type": "stream",
     "text": [
      "7\n"
     ]
    }
   ],
   "source": [
    "company_name=pd.Series(company_name)\n",
    "rounds2_name=pd.Series(rounds2_name)\n",
    "extra_comp = ~rounds2_name.isin(company_name)\n",
    "print(sum(extra_comp))"
   ]
  },
  {
   "cell_type": "markdown",
   "id": "e52b5877",
   "metadata": {
    "papermill": {
     "duration": 0.066169,
     "end_time": "2022-04-07T15:36:15.847055",
     "exception": false,
     "start_time": "2022-04-07T15:36:15.780886",
     "status": "completed"
    },
    "tags": []
   },
   "source": [
    "Removing duplicates from both 'companies' and 'rounds2' dataframe before merging them"
   ]
  },
  {
   "cell_type": "code",
   "execution_count": 8,
   "id": "9dc7515f",
   "metadata": {
    "execution": {
     "iopub.execute_input": "2022-04-07T15:36:15.986203Z",
     "iopub.status.busy": "2022-04-07T15:36:15.985113Z",
     "iopub.status.idle": "2022-04-07T15:36:16.055133Z",
     "shell.execute_reply": "2022-04-07T15:36:16.054437Z",
     "shell.execute_reply.started": "2022-04-07T14:35:24.545835Z"
    },
    "papermill": {
     "duration": 0.141953,
     "end_time": "2022-04-07T15:36:16.055276",
     "exception": false,
     "start_time": "2022-04-07T15:36:15.913323",
     "status": "completed"
    },
    "tags": []
   },
   "outputs": [
    {
     "name": "stdout",
     "output_type": "stream",
     "text": [
      "(66368, 10)\n",
      "(66370, 6)\n"
     ]
    }
   ],
   "source": [
    "companies=companies.drop_duplicates(subset=['permalink'], keep='first', inplace=False)\n",
    "rounds2=rounds2.drop_duplicates(subset=['company_permalink'], keep='first', inplace=False)\n",
    "print(companies.shape)\n",
    "print(rounds2.shape)"
   ]
  },
  {
   "cell_type": "markdown",
   "id": "5ad7b914",
   "metadata": {
    "papermill": {
     "duration": 0.067987,
     "end_time": "2022-04-07T15:36:16.192320",
     "exception": false,
     "start_time": "2022-04-07T15:36:16.124333",
     "status": "completed"
    },
    "tags": []
   },
   "source": [
    "No duplicates present according to 'unique id' of companies can go ahead with merging both dataframes\n",
    "\n",
    "Merging two dataframes 'companies' and 'rounds2' and all variables to be added to 'rounds2' dataframe"
   ]
  },
  {
   "cell_type": "code",
   "execution_count": 9,
   "id": "1f3079b0",
   "metadata": {
    "execution": {
     "iopub.execute_input": "2022-04-07T15:36:16.332793Z",
     "iopub.status.busy": "2022-04-07T15:36:16.331672Z",
     "iopub.status.idle": "2022-04-07T15:36:16.406034Z",
     "shell.execute_reply": "2022-04-07T15:36:16.405297Z",
     "shell.execute_reply.started": "2022-04-07T14:37:30.197157Z"
    },
    "papermill": {
     "duration": 0.145003,
     "end_time": "2022-04-07T15:36:16.406185",
     "exception": false,
     "start_time": "2022-04-07T15:36:16.261182",
     "status": "completed"
    },
    "tags": []
   },
   "outputs": [],
   "source": [
    "master_frame=pd.merge(rounds2,companies,how='inner',left_on='company_permalink',right_on='permalink')"
   ]
  },
  {
   "cell_type": "markdown",
   "id": "b1f4edd1",
   "metadata": {
    "papermill": {
     "duration": 0.066064,
     "end_time": "2022-04-07T15:36:16.539370",
     "exception": false,
     "start_time": "2022-04-07T15:36:16.473306",
     "status": "completed"
    },
    "tags": []
   },
   "source": [
    "Analyzing 'master_frame' to see columns/data present"
   ]
  },
  {
   "cell_type": "code",
   "execution_count": 10,
   "id": "f117aafa",
   "metadata": {
    "execution": {
     "iopub.execute_input": "2022-04-07T15:36:16.676329Z",
     "iopub.status.busy": "2022-04-07T15:36:16.675356Z",
     "iopub.status.idle": "2022-04-07T15:36:16.696856Z",
     "shell.execute_reply": "2022-04-07T15:36:16.697395Z",
     "shell.execute_reply.started": "2022-04-07T14:37:45.780121Z"
    },
    "papermill": {
     "duration": 0.091913,
     "end_time": "2022-04-07T15:36:16.697597",
     "exception": false,
     "start_time": "2022-04-07T15:36:16.605684",
     "status": "completed"
    },
    "tags": []
   },
   "outputs": [
    {
     "name": "stdout",
     "output_type": "stream",
     "text": [
      "(66363, 16)\n"
     ]
    },
    {
     "data": {
      "text/html": [
       "<div>\n",
       "<style scoped>\n",
       "    .dataframe tbody tr th:only-of-type {\n",
       "        vertical-align: middle;\n",
       "    }\n",
       "\n",
       "    .dataframe tbody tr th {\n",
       "        vertical-align: top;\n",
       "    }\n",
       "\n",
       "    .dataframe thead th {\n",
       "        text-align: right;\n",
       "    }\n",
       "</style>\n",
       "<table border=\"1\" class=\"dataframe\">\n",
       "  <thead>\n",
       "    <tr style=\"text-align: right;\">\n",
       "      <th></th>\n",
       "      <th>company_permalink</th>\n",
       "      <th>funding_round_permalink</th>\n",
       "      <th>funding_round_type</th>\n",
       "      <th>funding_round_code</th>\n",
       "      <th>funded_at</th>\n",
       "      <th>raised_amount_usd</th>\n",
       "      <th>permalink</th>\n",
       "      <th>name</th>\n",
       "      <th>homepage_url</th>\n",
       "      <th>category_list</th>\n",
       "      <th>status</th>\n",
       "      <th>country_code</th>\n",
       "      <th>state_code</th>\n",
       "      <th>region</th>\n",
       "      <th>city</th>\n",
       "      <th>founded_at</th>\n",
       "    </tr>\n",
       "  </thead>\n",
       "  <tbody>\n",
       "    <tr>\n",
       "      <th>0</th>\n",
       "      <td>/organization/-fame</td>\n",
       "      <td>/funding-round/9a01d05418af9f794eebff7ace91f638</td>\n",
       "      <td>venture</td>\n",
       "      <td>B</td>\n",
       "      <td>05-01-2015</td>\n",
       "      <td>10000000.0</td>\n",
       "      <td>/organization/-fame</td>\n",
       "      <td>#fame</td>\n",
       "      <td>http://livfame.com</td>\n",
       "      <td>Media</td>\n",
       "      <td>operating</td>\n",
       "      <td>IND</td>\n",
       "      <td>16</td>\n",
       "      <td>Mumbai</td>\n",
       "      <td>Mumbai</td>\n",
       "      <td>NaN</td>\n",
       "    </tr>\n",
       "    <tr>\n",
       "      <th>1</th>\n",
       "      <td>/organization/-qounter</td>\n",
       "      <td>/funding-round/22dacff496eb7acb2b901dec1dfe5633</td>\n",
       "      <td>venture</td>\n",
       "      <td>A</td>\n",
       "      <td>14-10-2014</td>\n",
       "      <td>NaN</td>\n",
       "      <td>/organization/-qounter</td>\n",
       "      <td>:Qounter</td>\n",
       "      <td>http://www.qounter.com</td>\n",
       "      <td>Application Platforms|Real Time|Social Network...</td>\n",
       "      <td>operating</td>\n",
       "      <td>USA</td>\n",
       "      <td>DE</td>\n",
       "      <td>DE - Other</td>\n",
       "      <td>Delaware City</td>\n",
       "      <td>04-09-2014</td>\n",
       "    </tr>\n",
       "    <tr>\n",
       "      <th>2</th>\n",
       "      <td>/organization/-the-one-of-them-inc-</td>\n",
       "      <td>/funding-round/650b8f704416801069bb178a1418776b</td>\n",
       "      <td>venture</td>\n",
       "      <td>B</td>\n",
       "      <td>30-01-2014</td>\n",
       "      <td>3406878.0</td>\n",
       "      <td>/organization/-the-one-of-them-inc-</td>\n",
       "      <td>(THE) ONE of THEM,Inc.</td>\n",
       "      <td>http://oneofthem.jp</td>\n",
       "      <td>Apps|Games|Mobile</td>\n",
       "      <td>operating</td>\n",
       "      <td>NaN</td>\n",
       "      <td>NaN</td>\n",
       "      <td>NaN</td>\n",
       "      <td>NaN</td>\n",
       "      <td>NaN</td>\n",
       "    </tr>\n",
       "    <tr>\n",
       "      <th>3</th>\n",
       "      <td>/organization/0-6-com</td>\n",
       "      <td>/funding-round/5727accaeaa57461bd22a9bdd945382d</td>\n",
       "      <td>venture</td>\n",
       "      <td>A</td>\n",
       "      <td>19-03-2008</td>\n",
       "      <td>2000000.0</td>\n",
       "      <td>/organization/0-6-com</td>\n",
       "      <td>0-6.com</td>\n",
       "      <td>http://www.0-6.com</td>\n",
       "      <td>Curated Web</td>\n",
       "      <td>operating</td>\n",
       "      <td>CHN</td>\n",
       "      <td>22</td>\n",
       "      <td>Beijing</td>\n",
       "      <td>Beijing</td>\n",
       "      <td>01-01-2007</td>\n",
       "    </tr>\n",
       "    <tr>\n",
       "      <th>4</th>\n",
       "      <td>/organization/004-technologies</td>\n",
       "      <td>/funding-round/1278dd4e6a37fa4b7d7e06c21b3c1830</td>\n",
       "      <td>venture</td>\n",
       "      <td>NaN</td>\n",
       "      <td>24-07-2014</td>\n",
       "      <td>NaN</td>\n",
       "      <td>/organization/004-technologies</td>\n",
       "      <td>004 Technologies</td>\n",
       "      <td>http://004gmbh.de/en/004-interact</td>\n",
       "      <td>Software</td>\n",
       "      <td>operating</td>\n",
       "      <td>USA</td>\n",
       "      <td>IL</td>\n",
       "      <td>Springfield, Illinois</td>\n",
       "      <td>Champaign</td>\n",
       "      <td>01-01-2010</td>\n",
       "    </tr>\n",
       "  </tbody>\n",
       "</table>\n",
       "</div>"
      ],
      "text/plain": [
       "                     company_permalink  \\\n",
       "0                  /organization/-fame   \n",
       "1               /organization/-qounter   \n",
       "2  /organization/-the-one-of-them-inc-   \n",
       "3                /organization/0-6-com   \n",
       "4       /organization/004-technologies   \n",
       "\n",
       "                           funding_round_permalink funding_round_type  \\\n",
       "0  /funding-round/9a01d05418af9f794eebff7ace91f638            venture   \n",
       "1  /funding-round/22dacff496eb7acb2b901dec1dfe5633            venture   \n",
       "2  /funding-round/650b8f704416801069bb178a1418776b            venture   \n",
       "3  /funding-round/5727accaeaa57461bd22a9bdd945382d            venture   \n",
       "4  /funding-round/1278dd4e6a37fa4b7d7e06c21b3c1830            venture   \n",
       "\n",
       "  funding_round_code   funded_at  raised_amount_usd  \\\n",
       "0                  B  05-01-2015         10000000.0   \n",
       "1                  A  14-10-2014                NaN   \n",
       "2                  B  30-01-2014          3406878.0   \n",
       "3                  A  19-03-2008          2000000.0   \n",
       "4                NaN  24-07-2014                NaN   \n",
       "\n",
       "                             permalink                    name  \\\n",
       "0                  /organization/-fame                   #fame   \n",
       "1               /organization/-qounter                :Qounter   \n",
       "2  /organization/-the-one-of-them-inc-  (THE) ONE of THEM,Inc.   \n",
       "3                /organization/0-6-com                 0-6.com   \n",
       "4       /organization/004-technologies        004 Technologies   \n",
       "\n",
       "                        homepage_url  \\\n",
       "0                 http://livfame.com   \n",
       "1             http://www.qounter.com   \n",
       "2                http://oneofthem.jp   \n",
       "3                 http://www.0-6.com   \n",
       "4  http://004gmbh.de/en/004-interact   \n",
       "\n",
       "                                       category_list     status country_code  \\\n",
       "0                                              Media  operating          IND   \n",
       "1  Application Platforms|Real Time|Social Network...  operating          USA   \n",
       "2                                  Apps|Games|Mobile  operating          NaN   \n",
       "3                                        Curated Web  operating          CHN   \n",
       "4                                           Software  operating          USA   \n",
       "\n",
       "  state_code                 region           city  founded_at  \n",
       "0         16                 Mumbai         Mumbai         NaN  \n",
       "1         DE             DE - Other  Delaware City  04-09-2014  \n",
       "2        NaN                    NaN            NaN         NaN  \n",
       "3         22                Beijing        Beijing  01-01-2007  \n",
       "4         IL  Springfield, Illinois      Champaign  01-01-2010  "
      ]
     },
     "execution_count": 10,
     "metadata": {},
     "output_type": "execute_result"
    }
   ],
   "source": [
    "print(master_frame.shape)\n",
    "master_frame.head()"
   ]
  },
  {
   "cell_type": "code",
   "execution_count": 11,
   "id": "cfcec387",
   "metadata": {
    "execution": {
     "iopub.execute_input": "2022-04-07T15:36:16.839241Z",
     "iopub.status.busy": "2022-04-07T15:36:16.837948Z",
     "iopub.status.idle": "2022-04-07T15:36:16.854033Z",
     "shell.execute_reply": "2022-04-07T15:36:16.854609Z",
     "shell.execute_reply.started": "2022-04-07T14:37:53.451702Z"
    },
    "papermill": {
     "duration": 0.088997,
     "end_time": "2022-04-07T15:36:16.854786",
     "exception": false,
     "start_time": "2022-04-07T15:36:16.765789",
     "status": "completed"
    },
    "tags": []
   },
   "outputs": [
    {
     "data": {
      "text/plain": [
       "False    66363\n",
       "Name: funding_round_type, dtype: int64"
      ]
     },
     "execution_count": 11,
     "metadata": {},
     "output_type": "execute_result"
    }
   ],
   "source": [
    "master_frame['funding_round_type'].isnull().value_counts()"
   ]
  },
  {
   "cell_type": "markdown",
   "id": "3dd46f21",
   "metadata": {
    "papermill": {
     "duration": 0.068661,
     "end_time": "2022-04-07T15:36:16.991734",
     "exception": false,
     "start_time": "2022-04-07T15:36:16.923073",
     "status": "completed"
    },
    "tags": []
   },
   "source": [
    "Treating missing values in 'raised_amount_usd' column"
   ]
  },
  {
   "cell_type": "code",
   "execution_count": 12,
   "id": "7f3b1485",
   "metadata": {
    "execution": {
     "iopub.execute_input": "2022-04-07T15:36:17.136297Z",
     "iopub.status.busy": "2022-04-07T15:36:17.135030Z",
     "iopub.status.idle": "2022-04-07T15:36:17.191938Z",
     "shell.execute_reply": "2022-04-07T15:36:17.192513Z",
     "shell.execute_reply.started": "2022-04-07T14:38:14.550202Z"
    },
    "papermill": {
     "duration": 0.129938,
     "end_time": "2022-04-07T15:36:17.192697",
     "exception": false,
     "start_time": "2022-04-07T15:36:17.062759",
     "status": "completed"
    },
    "tags": []
   },
   "outputs": [],
   "source": [
    "master_frame=master_frame[~(master_frame['raised_amount_usd'].isnull())]"
   ]
  },
  {
   "cell_type": "markdown",
   "id": "8a24738e",
   "metadata": {
    "papermill": {
     "duration": 0.068383,
     "end_time": "2022-04-07T15:36:17.329686",
     "exception": false,
     "start_time": "2022-04-07T15:36:17.261303",
     "status": "completed"
    },
    "tags": []
   },
   "source": [
    "Analyzing outliers and representative value to be taken for 'raised_amount_usd' column with the help of Inter-Quartile range formula"
   ]
  },
  {
   "cell_type": "code",
   "execution_count": 13,
   "id": "00fec73d",
   "metadata": {
    "execution": {
     "iopub.execute_input": "2022-04-07T15:36:17.474258Z",
     "iopub.status.busy": "2022-04-07T15:36:17.473543Z",
     "iopub.status.idle": "2022-04-07T15:36:17.475502Z",
     "shell.execute_reply": "2022-04-07T15:36:17.476078Z",
     "shell.execute_reply.started": "2022-04-07T14:38:33.282233Z"
    },
    "papermill": {
     "duration": 0.078267,
     "end_time": "2022-04-07T15:36:17.476267",
     "exception": false,
     "start_time": "2022-04-07T15:36:17.398000",
     "status": "completed"
    },
    "tags": []
   },
   "outputs": [],
   "source": [
    "def outlier_detect(df):\n",
    "    df=df.sort_values(by='raised_amount_usd',ascending=True)\n",
    "    Q1=df['raised_amount_usd'].quantile(0.25)\n",
    "    Q3=df['raised_amount_usd'].quantile(0.75)\n",
    "    IQR=Q3-Q1\n",
    "    df_outex=df[(df['raised_amount_usd']<Q3+1.5*IQR) & (df['raised_amount_usd']>Q1-1.5*IQR)]\n",
    "    per_out=100-(len(df_outex)/len(df))*100\n",
    "    return per_out"
   ]
  },
  {
   "cell_type": "code",
   "execution_count": 14,
   "id": "24a77a52",
   "metadata": {
    "execution": {
     "iopub.execute_input": "2022-04-07T15:36:17.622939Z",
     "iopub.status.busy": "2022-04-07T15:36:17.621995Z",
     "iopub.status.idle": "2022-04-07T15:36:17.624568Z",
     "shell.execute_reply": "2022-04-07T15:36:17.623998Z",
     "shell.execute_reply.started": "2022-04-07T14:38:38.580084Z"
    },
    "papermill": {
     "duration": 0.077307,
     "end_time": "2022-04-07T15:36:17.624708",
     "exception": false,
     "start_time": "2022-04-07T15:36:17.547401",
     "status": "completed"
    },
    "tags": []
   },
   "outputs": [],
   "source": [
    "def filter_invest(df_master,key):\n",
    "    df_invest=df_master[df_master['funding_round_type'].str.lower()==key]\n",
    "    return df_invest"
   ]
  },
  {
   "cell_type": "code",
   "execution_count": 15,
   "id": "8b40cef3",
   "metadata": {
    "execution": {
     "iopub.execute_input": "2022-04-07T15:36:17.772677Z",
     "iopub.status.busy": "2022-04-07T15:36:17.771923Z",
     "iopub.status.idle": "2022-04-07T15:36:17.906796Z",
     "shell.execute_reply": "2022-04-07T15:36:17.906209Z",
     "shell.execute_reply.started": "2022-04-07T14:38:44.780711Z"
    },
    "papermill": {
     "duration": 0.213667,
     "end_time": "2022-04-07T15:36:17.906954",
     "exception": false,
     "start_time": "2022-04-07T15:36:17.693287",
     "status": "completed"
    },
    "tags": []
   },
   "outputs": [],
   "source": [
    "venture_funds=filter_invest(master_frame,'venture')\n",
    "angel_funds=filter_invest(master_frame,'angel')\n",
    "seed_funds=filter_invest(master_frame,'seed')\n",
    "privateq_funds=filter_invest(master_frame,'private_equity')"
   ]
  },
  {
   "cell_type": "markdown",
   "id": "5bb58940",
   "metadata": {
    "papermill": {
     "duration": 0.068271,
     "end_time": "2022-04-07T15:36:18.045343",
     "exception": false,
     "start_time": "2022-04-07T15:36:17.977072",
     "status": "completed"
    },
    "tags": []
   },
   "source": [
    "Identifying outliers percentage in each investment type"
   ]
  },
  {
   "cell_type": "code",
   "execution_count": 16,
   "id": "a906f668",
   "metadata": {
    "execution": {
     "iopub.execute_input": "2022-04-07T15:36:18.190797Z",
     "iopub.status.busy": "2022-04-07T15:36:18.189752Z",
     "iopub.status.idle": "2022-04-07T15:36:18.254742Z",
     "shell.execute_reply": "2022-04-07T15:36:18.255496Z",
     "shell.execute_reply.started": "2022-04-07T14:39:09.776499Z"
    },
    "papermill": {
     "duration": 0.141221,
     "end_time": "2022-04-07T15:36:18.255726",
     "exception": false,
     "start_time": "2022-04-07T15:36:18.114505",
     "status": "completed"
    },
    "tags": []
   },
   "outputs": [
    {
     "name": "stdout",
     "output_type": "stream",
     "text": [
      "Venutre outlier 9.87 %\n",
      "Angel outlier 6.63 %\n",
      "Seed outlier 6.52 %\n",
      "Private equity outlier 10.42 %\n"
     ]
    }
   ],
   "source": [
    "vent_out=outlier_detect(venture_funds)\n",
    "print('Venutre outlier' ,round(vent_out,2),'%')\n",
    "angel_out=outlier_detect(angel_funds)\n",
    "print('Angel outlier',round(angel_out,2), '%')\n",
    "seed_out=outlier_detect(seed_funds)\n",
    "print('Seed outlier', round(seed_out,2), '%')\n",
    "privateq_out=outlier_detect(privateq_funds)\n",
    "print('Private equity outlier', round(privateq_out,2), '%')"
   ]
  },
  {
   "cell_type": "markdown",
   "id": "b92702f4",
   "metadata": {
    "papermill": {
     "duration": 0.069352,
     "end_time": "2022-04-07T15:36:18.395052",
     "exception": false,
     "start_time": "2022-04-07T15:36:18.325700",
     "status": "completed"
    },
    "tags": []
   },
   "source": [
    "After removing all rows having missing value in 'raised_amount_usd' column still we have outliers for all 4 funding types.\n",
    "1. Outliers will effect mean value\n",
    "2. Removing outliers and calculating mean will not be correct as reason for these outliers are not known.\n",
    "\n",
    "Therefore, taking median as representative value for 'raised_amount_usd'"
   ]
  },
  {
   "cell_type": "markdown",
   "id": "d59fd3b0",
   "metadata": {
    "papermill": {
     "duration": 0.069248,
     "end_time": "2022-04-07T15:36:18.532891",
     "exception": false,
     "start_time": "2022-04-07T15:36:18.463643",
     "status": "completed"
    },
    "tags": []
   },
   "source": [
    "Analyzing further by taking median as representative value for each of the 4 investment type mentioned in case study"
   ]
  },
  {
   "cell_type": "code",
   "execution_count": 17,
   "id": "511acd86",
   "metadata": {
    "execution": {
     "iopub.execute_input": "2022-04-07T15:36:18.673558Z",
     "iopub.status.busy": "2022-04-07T15:36:18.672872Z",
     "iopub.status.idle": "2022-04-07T15:36:20.340541Z",
     "shell.execute_reply": "2022-04-07T15:36:20.339948Z",
     "shell.execute_reply.started": "2022-04-07T14:39:51.108366Z"
    },
    "papermill": {
     "duration": 1.738723,
     "end_time": "2022-04-07T15:36:20.340702",
     "exception": false,
     "start_time": "2022-04-07T15:36:18.601979",
     "status": "completed"
    },
    "tags": []
   },
   "outputs": [
    {
     "name": "stdout",
     "output_type": "stream",
     "text": [
      "Venture representative value 4250000.0\n",
      "Angel representative value 375000.0\n",
      "Seed representative value 250000.0\n",
      "Private equity representative value 21500000.0\n"
     ]
    },
    {
     "data": {
      "image/png": "[encoded data removed]",
      "text/plain": [
       "<Figure size 720x720 with 1 Axes>"
      ]
     },
     "metadata": {
      "needs_background": "light"
     },
     "output_type": "display_data"
    }
   ],
   "source": [
    "#Taking median as the representative value identifying suitable investment type\n",
    "venture_rep=venture_funds['raised_amount_usd'].median()\n",
    "print('Venture representative value',venture_rep)\n",
    "angel_rep=angel_funds['raised_amount_usd'].median()\n",
    "print('Angel representative value',angel_rep)\n",
    "seed_rep=seed_funds['raised_amount_usd'].median()\n",
    "print('Seed representative value',seed_rep)\n",
    "private_rep=privateq_funds['raised_amount_usd'].median()\n",
    "print('Private equity representative value',private_rep)\n",
    "invest_type=['venture','seed','angel','private_equity']\n",
    "sub_master=master_frame[master_frame['funding_round_type'].isin(invest_type)]\n",
    "#barplot for analyzing criteria 1\n",
    "plt.figure(figsize=(10,10))\n",
    "fig=sns.barplot(x=\"funding_round_type\", y=\"raised_amount_usd\",data=sub_master, estimator=np.median)\n",
    "fig.set(xlabel=\"Funding Type\", ylabel = \"Representative Amount of Investments (USD)\")\n",
    "plt.title('Representative Amount of Investments (USD) vs. Funding Type')\n",
    "plt.yticks(fig.get_yticks(),fig.get_yticks())\n",
    "plt.show()"
   ]
  },
  {
   "cell_type": "markdown",
   "id": "42ff3d7b",
   "metadata": {
    "execution": {
     "iopub.execute_input": "2022-04-07T14:40:03.253285Z",
     "iopub.status.busy": "2022-04-07T14:40:03.253003Z",
     "iopub.status.idle": "2022-04-07T14:40:03.258901Z",
     "shell.execute_reply": "2022-04-07T14:40:03.257946Z",
     "shell.execute_reply.started": "2022-04-07T14:40:03.253255Z"
    },
    "papermill": {
     "duration": 0.069827,
     "end_time": "2022-04-07T15:36:20.481316",
     "exception": false,
     "start_time": "2022-04-07T15:36:20.411489",
     "status": "completed"
    },
    "tags": []
   },
   "source": [
    "Filtering dataframe 'master_frame' to get data only for a suitable 'funding_round_type' as per criteria analysis (5-15 million USD)"
   ]
  },
  {
   "cell_type": "code",
   "execution_count": 18,
   "id": "d3c7a5b0",
   "metadata": {
    "execution": {
     "iopub.execute_input": "2022-04-07T15:36:20.624828Z",
     "iopub.status.busy": "2022-04-07T15:36:20.624180Z",
     "iopub.status.idle": "2022-04-07T15:36:20.679652Z",
     "shell.execute_reply": "2022-04-07T15:36:20.678984Z",
     "shell.execute_reply.started": "2022-04-07T14:40:15.242816Z"
    },
    "papermill": {
     "duration": 0.128666,
     "end_time": "2022-04-07T15:36:20.679795",
     "exception": false,
     "start_time": "2022-04-07T15:36:20.551129",
     "status": "completed"
    },
    "tags": []
   },
   "outputs": [
    {
     "data": {
      "text/html": [
       "<div>\n",
       "<style scoped>\n",
       "    .dataframe tbody tr th:only-of-type {\n",
       "        vertical-align: middle;\n",
       "    }\n",
       "\n",
       "    .dataframe tbody tr th {\n",
       "        vertical-align: top;\n",
       "    }\n",
       "\n",
       "    .dataframe thead th {\n",
       "        text-align: right;\n",
       "    }\n",
       "</style>\n",
       "<table border=\"1\" class=\"dataframe\">\n",
       "  <thead>\n",
       "    <tr style=\"text-align: right;\">\n",
       "      <th></th>\n",
       "      <th>company_permalink</th>\n",
       "      <th>funding_round_permalink</th>\n",
       "      <th>funding_round_type</th>\n",
       "      <th>funding_round_code</th>\n",
       "      <th>funded_at</th>\n",
       "      <th>raised_amount_usd</th>\n",
       "      <th>permalink</th>\n",
       "      <th>name</th>\n",
       "      <th>homepage_url</th>\n",
       "      <th>category_list</th>\n",
       "      <th>status</th>\n",
       "      <th>country_code</th>\n",
       "      <th>state_code</th>\n",
       "      <th>region</th>\n",
       "      <th>city</th>\n",
       "      <th>founded_at</th>\n",
       "    </tr>\n",
       "  </thead>\n",
       "  <tbody>\n",
       "    <tr>\n",
       "      <th>0</th>\n",
       "      <td>/organization/-fame</td>\n",
       "      <td>/funding-round/9a01d05418af9f794eebff7ace91f638</td>\n",
       "      <td>venture</td>\n",
       "      <td>B</td>\n",
       "      <td>05-01-2015</td>\n",
       "      <td>10000000.0</td>\n",
       "      <td>/organization/-fame</td>\n",
       "      <td>#fame</td>\n",
       "      <td>http://livfame.com</td>\n",
       "      <td>Media</td>\n",
       "      <td>operating</td>\n",
       "      <td>IND</td>\n",
       "      <td>16</td>\n",
       "      <td>Mumbai</td>\n",
       "      <td>Mumbai</td>\n",
       "      <td>NaN</td>\n",
       "    </tr>\n",
       "    <tr>\n",
       "      <th>2</th>\n",
       "      <td>/organization/-the-one-of-them-inc-</td>\n",
       "      <td>/funding-round/650b8f704416801069bb178a1418776b</td>\n",
       "      <td>venture</td>\n",
       "      <td>B</td>\n",
       "      <td>30-01-2014</td>\n",
       "      <td>3406878.0</td>\n",
       "      <td>/organization/-the-one-of-them-inc-</td>\n",
       "      <td>(THE) ONE of THEM,Inc.</td>\n",
       "      <td>http://oneofthem.jp</td>\n",
       "      <td>Apps|Games|Mobile</td>\n",
       "      <td>operating</td>\n",
       "      <td>NaN</td>\n",
       "      <td>NaN</td>\n",
       "      <td>NaN</td>\n",
       "      <td>NaN</td>\n",
       "      <td>NaN</td>\n",
       "    </tr>\n",
       "    <tr>\n",
       "      <th>3</th>\n",
       "      <td>/organization/0-6-com</td>\n",
       "      <td>/funding-round/5727accaeaa57461bd22a9bdd945382d</td>\n",
       "      <td>venture</td>\n",
       "      <td>A</td>\n",
       "      <td>19-03-2008</td>\n",
       "      <td>2000000.0</td>\n",
       "      <td>/organization/0-6-com</td>\n",
       "      <td>0-6.com</td>\n",
       "      <td>http://www.0-6.com</td>\n",
       "      <td>Curated Web</td>\n",
       "      <td>operating</td>\n",
       "      <td>CHN</td>\n",
       "      <td>22</td>\n",
       "      <td>Beijing</td>\n",
       "      <td>Beijing</td>\n",
       "      <td>01-01-2007</td>\n",
       "    </tr>\n",
       "    <tr>\n",
       "      <th>15</th>\n",
       "      <td>/organization/1-mainstream</td>\n",
       "      <td>/funding-round/b952cbaf401f310927430c97b68162ea</td>\n",
       "      <td>venture</td>\n",
       "      <td>NaN</td>\n",
       "      <td>17-03-2015</td>\n",
       "      <td>5000000.0</td>\n",
       "      <td>/organization/1-mainstream</td>\n",
       "      <td>1 Mainstream</td>\n",
       "      <td>http://www.1mainstream.com</td>\n",
       "      <td>Apps|Cable|Distribution|Software</td>\n",
       "      <td>acquired</td>\n",
       "      <td>USA</td>\n",
       "      <td>CA</td>\n",
       "      <td>SF Bay Area</td>\n",
       "      <td>Cupertino</td>\n",
       "      <td>01-03-2012</td>\n",
       "    </tr>\n",
       "    <tr>\n",
       "      <th>18</th>\n",
       "      <td>/organization/10-minutes-with</td>\n",
       "      <td>/funding-round/0faccbbcc5818dc5326469f13f5a8ac8</td>\n",
       "      <td>venture</td>\n",
       "      <td>A</td>\n",
       "      <td>09-10-2014</td>\n",
       "      <td>4000000.0</td>\n",
       "      <td>/organization/10-minutes-with</td>\n",
       "      <td>10 Minutes With</td>\n",
       "      <td>http://10minuteswith.com</td>\n",
       "      <td>Education</td>\n",
       "      <td>operating</td>\n",
       "      <td>GBR</td>\n",
       "      <td>H9</td>\n",
       "      <td>London</td>\n",
       "      <td>London</td>\n",
       "      <td>01-01-2013</td>\n",
       "    </tr>\n",
       "  </tbody>\n",
       "</table>\n",
       "</div>"
      ],
      "text/plain": [
       "                      company_permalink  \\\n",
       "0                   /organization/-fame   \n",
       "2   /organization/-the-one-of-them-inc-   \n",
       "3                 /organization/0-6-com   \n",
       "15           /organization/1-mainstream   \n",
       "18        /organization/10-minutes-with   \n",
       "\n",
       "                            funding_round_permalink funding_round_type  \\\n",
       "0   /funding-round/9a01d05418af9f794eebff7ace91f638            venture   \n",
       "2   /funding-round/650b8f704416801069bb178a1418776b            venture   \n",
       "3   /funding-round/5727accaeaa57461bd22a9bdd945382d            venture   \n",
       "15  /funding-round/b952cbaf401f310927430c97b68162ea            venture   \n",
       "18  /funding-round/0faccbbcc5818dc5326469f13f5a8ac8            venture   \n",
       "\n",
       "   funding_round_code   funded_at  raised_amount_usd  \\\n",
       "0                   B  05-01-2015         10000000.0   \n",
       "2                   B  30-01-2014          3406878.0   \n",
       "3                   A  19-03-2008          2000000.0   \n",
       "15                NaN  17-03-2015          5000000.0   \n",
       "18                  A  09-10-2014          4000000.0   \n",
       "\n",
       "                              permalink                    name  \\\n",
       "0                   /organization/-fame                   #fame   \n",
       "2   /organization/-the-one-of-them-inc-  (THE) ONE of THEM,Inc.   \n",
       "3                 /organization/0-6-com                 0-6.com   \n",
       "15           /organization/1-mainstream            1 Mainstream   \n",
       "18        /organization/10-minutes-with         10 Minutes With   \n",
       "\n",
       "                  homepage_url                     category_list     status  \\\n",
       "0           http://livfame.com                             Media  operating   \n",
       "2          http://oneofthem.jp                 Apps|Games|Mobile  operating   \n",
       "3           http://www.0-6.com                       Curated Web  operating   \n",
       "15  http://www.1mainstream.com  Apps|Cable|Distribution|Software   acquired   \n",
       "18    http://10minuteswith.com                         Education  operating   \n",
       "\n",
       "   country_code state_code       region       city  founded_at  \n",
       "0           IND         16       Mumbai     Mumbai         NaN  \n",
       "2           NaN        NaN          NaN        NaN         NaN  \n",
       "3           CHN         22      Beijing    Beijing  01-01-2007  \n",
       "15          USA         CA  SF Bay Area  Cupertino  01-03-2012  \n",
       "18          GBR         H9       London     London  01-01-2013  "
      ]
     },
     "execution_count": 18,
     "metadata": {},
     "output_type": "execute_result"
    }
   ],
   "source": [
    "vent_master=master_frame[master_frame['funding_round_type'].str.lower()==\"venture\"]\n",
    "vent_master.head()"
   ]
  },
  {
   "cell_type": "markdown",
   "id": "dac1be71",
   "metadata": {
    "papermill": {
     "duration": 0.071934,
     "end_time": "2022-04-07T15:36:20.822813",
     "exception": false,
     "start_time": "2022-04-07T15:36:20.750879",
     "status": "completed"
    },
    "tags": []
   },
   "source": [
    "Analyzing top nine countries which have received the highest total funding (across ALL sectors for the chosen investment type)"
   ]
  },
  {
   "cell_type": "code",
   "execution_count": 19,
   "id": "e3303930",
   "metadata": {
    "execution": {
     "iopub.execute_input": "2022-04-07T15:36:20.976096Z",
     "iopub.status.busy": "2022-04-07T15:36:20.975367Z",
     "iopub.status.idle": "2022-04-07T15:36:20.984575Z",
     "shell.execute_reply": "2022-04-07T15:36:20.985155Z",
     "shell.execute_reply.started": "2022-04-07T14:40:29.769214Z"
    },
    "papermill": {
     "duration": 0.088974,
     "end_time": "2022-04-07T15:36:20.985347",
     "exception": false,
     "start_time": "2022-04-07T15:36:20.896373",
     "status": "completed"
    },
    "tags": []
   },
   "outputs": [
    {
     "name": "stdout",
     "output_type": "stream",
     "text": [
      "country_code\n",
      "USA    1.815192e+11\n",
      "CHN    1.850758e+10\n",
      "GBR    1.134263e+10\n",
      "IND    6.064055e+09\n",
      "CAN    4.597904e+09\n",
      "FRA    4.556741e+09\n",
      "ISR    3.357101e+09\n",
      "DEU    2.893831e+09\n",
      "JPN    2.020986e+09\n",
      "Name: raised_amount_usd, dtype: float64\n"
     ]
    }
   ],
   "source": [
    "all_countries=vent_master.groupby('country_code')['raised_amount_usd'].sum()\n",
    "type(all_countries)\n",
    "top_countries=all_countries.sort_values(ascending=False)\n",
    "print(top_countries[0:9])"
   ]
  },
  {
   "cell_type": "markdown",
   "id": "313bfe7d",
   "metadata": {
    "papermill": {
     "duration": 0.072017,
     "end_time": "2022-04-07T15:36:21.128954",
     "exception": false,
     "start_time": "2022-04-07T15:36:21.056937",
     "status": "completed"
    },
    "tags": []
   },
   "source": [
    "Filtering dataframe with top 9 countries received the highest total funding"
   ]
  },
  {
   "cell_type": "code",
   "execution_count": 20,
   "id": "4dffbc3e",
   "metadata": {
    "execution": {
     "iopub.execute_input": "2022-04-07T15:36:21.275474Z",
     "iopub.status.busy": "2022-04-07T15:36:21.274497Z",
     "iopub.status.idle": "2022-04-07T15:36:21.304705Z",
     "shell.execute_reply": "2022-04-07T15:36:21.305200Z",
     "shell.execute_reply.started": "2022-04-07T14:40:41.469669Z"
    },
    "papermill": {
     "duration": 0.104919,
     "end_time": "2022-04-07T15:36:21.305370",
     "exception": false,
     "start_time": "2022-04-07T15:36:21.200451",
     "status": "completed"
    },
    "tags": []
   },
   "outputs": [
    {
     "name": "stdout",
     "output_type": "stream",
     "text": [
      "(20787, 16)\n"
     ]
    },
    {
     "data": {
      "text/html": [
       "<div>\n",
       "<style scoped>\n",
       "    .dataframe tbody tr th:only-of-type {\n",
       "        vertical-align: middle;\n",
       "    }\n",
       "\n",
       "    .dataframe tbody tr th {\n",
       "        vertical-align: top;\n",
       "    }\n",
       "\n",
       "    .dataframe thead th {\n",
       "        text-align: right;\n",
       "    }\n",
       "</style>\n",
       "<table border=\"1\" class=\"dataframe\">\n",
       "  <thead>\n",
       "    <tr style=\"text-align: right;\">\n",
       "      <th></th>\n",
       "      <th>company_permalink</th>\n",
       "      <th>funding_round_permalink</th>\n",
       "      <th>funding_round_type</th>\n",
       "      <th>funding_round_code</th>\n",
       "      <th>funded_at</th>\n",
       "      <th>raised_amount_usd</th>\n",
       "      <th>permalink</th>\n",
       "      <th>name</th>\n",
       "      <th>homepage_url</th>\n",
       "      <th>category_list</th>\n",
       "      <th>status</th>\n",
       "      <th>country_code</th>\n",
       "      <th>state_code</th>\n",
       "      <th>region</th>\n",
       "      <th>city</th>\n",
       "      <th>founded_at</th>\n",
       "    </tr>\n",
       "  </thead>\n",
       "  <tbody>\n",
       "    <tr>\n",
       "      <th>0</th>\n",
       "      <td>/organization/-fame</td>\n",
       "      <td>/funding-round/9a01d05418af9f794eebff7ace91f638</td>\n",
       "      <td>venture</td>\n",
       "      <td>B</td>\n",
       "      <td>05-01-2015</td>\n",
       "      <td>10000000.0</td>\n",
       "      <td>/organization/-fame</td>\n",
       "      <td>#fame</td>\n",
       "      <td>http://livfame.com</td>\n",
       "      <td>Media</td>\n",
       "      <td>operating</td>\n",
       "      <td>IND</td>\n",
       "      <td>16</td>\n",
       "      <td>Mumbai</td>\n",
       "      <td>Mumbai</td>\n",
       "      <td>NaN</td>\n",
       "    </tr>\n",
       "    <tr>\n",
       "      <th>3</th>\n",
       "      <td>/organization/0-6-com</td>\n",
       "      <td>/funding-round/5727accaeaa57461bd22a9bdd945382d</td>\n",
       "      <td>venture</td>\n",
       "      <td>A</td>\n",
       "      <td>19-03-2008</td>\n",
       "      <td>2000000.0</td>\n",
       "      <td>/organization/0-6-com</td>\n",
       "      <td>0-6.com</td>\n",
       "      <td>http://www.0-6.com</td>\n",
       "      <td>Curated Web</td>\n",
       "      <td>operating</td>\n",
       "      <td>CHN</td>\n",
       "      <td>22</td>\n",
       "      <td>Beijing</td>\n",
       "      <td>Beijing</td>\n",
       "      <td>01-01-2007</td>\n",
       "    </tr>\n",
       "    <tr>\n",
       "      <th>15</th>\n",
       "      <td>/organization/1-mainstream</td>\n",
       "      <td>/funding-round/b952cbaf401f310927430c97b68162ea</td>\n",
       "      <td>venture</td>\n",
       "      <td>NaN</td>\n",
       "      <td>17-03-2015</td>\n",
       "      <td>5000000.0</td>\n",
       "      <td>/organization/1-mainstream</td>\n",
       "      <td>1 Mainstream</td>\n",
       "      <td>http://www.1mainstream.com</td>\n",
       "      <td>Apps|Cable|Distribution|Software</td>\n",
       "      <td>acquired</td>\n",
       "      <td>USA</td>\n",
       "      <td>CA</td>\n",
       "      <td>SF Bay Area</td>\n",
       "      <td>Cupertino</td>\n",
       "      <td>01-03-2012</td>\n",
       "    </tr>\n",
       "    <tr>\n",
       "      <th>18</th>\n",
       "      <td>/organization/10-minutes-with</td>\n",
       "      <td>/funding-round/0faccbbcc5818dc5326469f13f5a8ac8</td>\n",
       "      <td>venture</td>\n",
       "      <td>A</td>\n",
       "      <td>09-10-2014</td>\n",
       "      <td>4000000.0</td>\n",
       "      <td>/organization/10-minutes-with</td>\n",
       "      <td>10 Minutes With</td>\n",
       "      <td>http://10minuteswith.com</td>\n",
       "      <td>Education</td>\n",
       "      <td>operating</td>\n",
       "      <td>GBR</td>\n",
       "      <td>H9</td>\n",
       "      <td>London</td>\n",
       "      <td>London</td>\n",
       "      <td>01-01-2013</td>\n",
       "    </tr>\n",
       "    <tr>\n",
       "      <th>23</th>\n",
       "      <td>/organization/1000memories</td>\n",
       "      <td>/funding-round/502bd0e50c27616995e4bdad24605ef8</td>\n",
       "      <td>venture</td>\n",
       "      <td>A</td>\n",
       "      <td>16-02-2011</td>\n",
       "      <td>2520000.0</td>\n",
       "      <td>/organization/1000memories</td>\n",
       "      <td>1000memories</td>\n",
       "      <td>http://1000memories.com</td>\n",
       "      <td>Curated Web</td>\n",
       "      <td>acquired</td>\n",
       "      <td>USA</td>\n",
       "      <td>CA</td>\n",
       "      <td>SF Bay Area</td>\n",
       "      <td>San Francisco</td>\n",
       "      <td>01-07-2010</td>\n",
       "    </tr>\n",
       "  </tbody>\n",
       "</table>\n",
       "</div>"
      ],
      "text/plain": [
       "                company_permalink  \\\n",
       "0             /organization/-fame   \n",
       "3           /organization/0-6-com   \n",
       "15     /organization/1-mainstream   \n",
       "18  /organization/10-minutes-with   \n",
       "23     /organization/1000memories   \n",
       "\n",
       "                            funding_round_permalink funding_round_type  \\\n",
       "0   /funding-round/9a01d05418af9f794eebff7ace91f638            venture   \n",
       "3   /funding-round/5727accaeaa57461bd22a9bdd945382d            venture   \n",
       "15  /funding-round/b952cbaf401f310927430c97b68162ea            venture   \n",
       "18  /funding-round/0faccbbcc5818dc5326469f13f5a8ac8            venture   \n",
       "23  /funding-round/502bd0e50c27616995e4bdad24605ef8            venture   \n",
       "\n",
       "   funding_round_code   funded_at  raised_amount_usd  \\\n",
       "0                   B  05-01-2015         10000000.0   \n",
       "3                   A  19-03-2008          2000000.0   \n",
       "15                NaN  17-03-2015          5000000.0   \n",
       "18                  A  09-10-2014          4000000.0   \n",
       "23                  A  16-02-2011          2520000.0   \n",
       "\n",
       "                        permalink             name  \\\n",
       "0             /organization/-fame            #fame   \n",
       "3           /organization/0-6-com          0-6.com   \n",
       "15     /organization/1-mainstream     1 Mainstream   \n",
       "18  /organization/10-minutes-with  10 Minutes With   \n",
       "23     /organization/1000memories     1000memories   \n",
       "\n",
       "                  homepage_url                     category_list     status  \\\n",
       "0           http://livfame.com                             Media  operating   \n",
       "3           http://www.0-6.com                       Curated Web  operating   \n",
       "15  http://www.1mainstream.com  Apps|Cable|Distribution|Software   acquired   \n",
       "18    http://10minuteswith.com                         Education  operating   \n",
       "23     http://1000memories.com                       Curated Web   acquired   \n",
       "\n",
       "   country_code state_code       region           city  founded_at  \n",
       "0           IND         16       Mumbai         Mumbai         NaN  \n",
       "3           CHN         22      Beijing        Beijing  01-01-2007  \n",
       "15          USA         CA  SF Bay Area      Cupertino  01-03-2012  \n",
       "18          GBR         H9       London         London  01-01-2013  \n",
       "23          USA         CA  SF Bay Area  San Francisco  01-07-2010  "
      ]
     },
     "execution_count": 20,
     "metadata": {},
     "output_type": "execute_result"
    }
   ],
   "source": [
    "top_9countries=['USA','CHN','GBR','IND','CAN','FRA','ISR','DEU','JPN']\n",
    "top9=vent_master[vent_master['country_code'].isin(top_9countries)]\n",
    "print(top9.shape)\n",
    "top9.head()"
   ]
  },
  {
   "cell_type": "markdown",
   "id": "5e48db24",
   "metadata": {
    "papermill": {
     "duration": 0.071744,
     "end_time": "2022-04-07T15:36:21.449342",
     "exception": false,
     "start_time": "2022-04-07T15:36:21.377598",
     "status": "completed"
    },
    "tags": []
   },
   "source": [
    "Plotting top 9 countries against the total amount of investments of funding type FT, here private equity\n",
    "\n",
    "Since there is a significant difference between investments, plotting 'total amount of investments' on a log scale"
   ]
  },
  {
   "cell_type": "code",
   "execution_count": 21,
   "id": "160da8a3",
   "metadata": {
    "execution": {
     "iopub.execute_input": "2022-04-07T15:36:21.601658Z",
     "iopub.status.busy": "2022-04-07T15:36:21.600649Z",
     "iopub.status.idle": "2022-04-07T15:36:22.613892Z",
     "shell.execute_reply": "2022-04-07T15:36:22.612954Z",
     "shell.execute_reply.started": "2022-04-07T14:41:05.344650Z"
    },
    "papermill": {
     "duration": 1.092033,
     "end_time": "2022-04-07T15:36:22.614056",
     "exception": false,
     "start_time": "2022-04-07T15:36:21.522023",
     "status": "completed"
    },
    "tags": []
   },
   "outputs": [
    {
     "data": {
      "image/png": "[encoded data removed]",
      "text/plain": [
       "<Figure size 720x720 with 1 Axes>"
      ]
     },
     "metadata": {
      "needs_background": "light"
     },
     "output_type": "display_data"
    }
   ],
   "source": [
    "plt.figure(figsize=(10,10))\n",
    "top9_plot=sns.barplot(x='country_code', y='raised_amount_usd', palette=\"deep\", data=top9, estimator=np.sum)\n",
    "top9_plot.set(xlabel=\"Country\", ylabel = \"Total Amount of Investments (USD) [Log-scale]\")\n",
    "plt.title('Total Amount of Investments for Top 9 Countries')\n",
    "top9_plot.set_yscale(\"log\")\n",
    "plt.show()"
   ]
  },
  {
   "cell_type": "markdown",
   "id": "a0833f09",
   "metadata": {
    "papermill": {
     "duration": 0.072613,
     "end_time": "2022-04-07T15:36:22.760705",
     "exception": false,
     "start_time": "2022-04-07T15:36:22.688092",
     "status": "completed"
    },
    "tags": []
   },
   "source": [
    "Filtering dataframe with the first 3 english speaking countries among top 9 countries investment-wise"
   ]
  },
  {
   "cell_type": "code",
   "execution_count": 22,
   "id": "264778b5",
   "metadata": {
    "execution": {
     "iopub.execute_input": "2022-04-07T15:36:22.913345Z",
     "iopub.status.busy": "2022-04-07T15:36:22.912149Z",
     "iopub.status.idle": "2022-04-07T15:36:22.954422Z",
     "shell.execute_reply": "2022-04-07T15:36:22.954978Z",
     "shell.execute_reply.started": "2022-04-07T14:41:19.885099Z"
    },
    "papermill": {
     "duration": 0.120876,
     "end_time": "2022-04-07T15:36:22.955152",
     "exception": false,
     "start_time": "2022-04-07T15:36:22.834276",
     "status": "completed"
    },
    "tags": []
   },
   "outputs": [
    {
     "name": "stdout",
     "output_type": "stream",
     "text": [
      "(17766, 16)\n"
     ]
    },
    {
     "data": {
      "text/html": [
       "<div>\n",
       "<style scoped>\n",
       "    .dataframe tbody tr th:only-of-type {\n",
       "        vertical-align: middle;\n",
       "    }\n",
       "\n",
       "    .dataframe tbody tr th {\n",
       "        vertical-align: top;\n",
       "    }\n",
       "\n",
       "    .dataframe thead th {\n",
       "        text-align: right;\n",
       "    }\n",
       "</style>\n",
       "<table border=\"1\" class=\"dataframe\">\n",
       "  <thead>\n",
       "    <tr style=\"text-align: right;\">\n",
       "      <th></th>\n",
       "      <th>company_permalink</th>\n",
       "      <th>funding_round_permalink</th>\n",
       "      <th>funding_round_type</th>\n",
       "      <th>funding_round_code</th>\n",
       "      <th>funded_at</th>\n",
       "      <th>raised_amount_usd</th>\n",
       "      <th>permalink</th>\n",
       "      <th>name</th>\n",
       "      <th>homepage_url</th>\n",
       "      <th>category_list</th>\n",
       "      <th>status</th>\n",
       "      <th>country_code</th>\n",
       "      <th>state_code</th>\n",
       "      <th>region</th>\n",
       "      <th>city</th>\n",
       "      <th>founded_at</th>\n",
       "    </tr>\n",
       "  </thead>\n",
       "  <tbody>\n",
       "    <tr>\n",
       "      <th>0</th>\n",
       "      <td>/organization/-fame</td>\n",
       "      <td>/funding-round/9a01d05418af9f794eebff7ace91f638</td>\n",
       "      <td>venture</td>\n",
       "      <td>B</td>\n",
       "      <td>05-01-2015</td>\n",
       "      <td>10000000.0</td>\n",
       "      <td>/organization/-fame</td>\n",
       "      <td>#fame</td>\n",
       "      <td>http://livfame.com</td>\n",
       "      <td>Media</td>\n",
       "      <td>operating</td>\n",
       "      <td>IND</td>\n",
       "      <td>16</td>\n",
       "      <td>Mumbai</td>\n",
       "      <td>Mumbai</td>\n",
       "      <td>NaN</td>\n",
       "    </tr>\n",
       "    <tr>\n",
       "      <th>15</th>\n",
       "      <td>/organization/1-mainstream</td>\n",
       "      <td>/funding-round/b952cbaf401f310927430c97b68162ea</td>\n",
       "      <td>venture</td>\n",
       "      <td>NaN</td>\n",
       "      <td>17-03-2015</td>\n",
       "      <td>5000000.0</td>\n",
       "      <td>/organization/1-mainstream</td>\n",
       "      <td>1 Mainstream</td>\n",
       "      <td>http://www.1mainstream.com</td>\n",
       "      <td>Apps|Cable|Distribution|Software</td>\n",
       "      <td>acquired</td>\n",
       "      <td>USA</td>\n",
       "      <td>CA</td>\n",
       "      <td>SF Bay Area</td>\n",
       "      <td>Cupertino</td>\n",
       "      <td>01-03-2012</td>\n",
       "    </tr>\n",
       "    <tr>\n",
       "      <th>18</th>\n",
       "      <td>/organization/10-minutes-with</td>\n",
       "      <td>/funding-round/0faccbbcc5818dc5326469f13f5a8ac8</td>\n",
       "      <td>venture</td>\n",
       "      <td>A</td>\n",
       "      <td>09-10-2014</td>\n",
       "      <td>4000000.0</td>\n",
       "      <td>/organization/10-minutes-with</td>\n",
       "      <td>10 Minutes With</td>\n",
       "      <td>http://10minuteswith.com</td>\n",
       "      <td>Education</td>\n",
       "      <td>operating</td>\n",
       "      <td>GBR</td>\n",
       "      <td>H9</td>\n",
       "      <td>London</td>\n",
       "      <td>London</td>\n",
       "      <td>01-01-2013</td>\n",
       "    </tr>\n",
       "    <tr>\n",
       "      <th>23</th>\n",
       "      <td>/organization/1000memories</td>\n",
       "      <td>/funding-round/502bd0e50c27616995e4bdad24605ef8</td>\n",
       "      <td>venture</td>\n",
       "      <td>A</td>\n",
       "      <td>16-02-2011</td>\n",
       "      <td>2520000.0</td>\n",
       "      <td>/organization/1000memories</td>\n",
       "      <td>1000memories</td>\n",
       "      <td>http://1000memories.com</td>\n",
       "      <td>Curated Web</td>\n",
       "      <td>acquired</td>\n",
       "      <td>USA</td>\n",
       "      <td>CA</td>\n",
       "      <td>SF Bay Area</td>\n",
       "      <td>San Francisco</td>\n",
       "      <td>01-07-2010</td>\n",
       "    </tr>\n",
       "    <tr>\n",
       "      <th>32</th>\n",
       "      <td>/organization/1010data</td>\n",
       "      <td>/funding-round/482fbf992b48f5c47d0080ab7ec0cb54</td>\n",
       "      <td>venture</td>\n",
       "      <td>NaN</td>\n",
       "      <td>08-03-2010</td>\n",
       "      <td>35000000.0</td>\n",
       "      <td>/organization/1010data</td>\n",
       "      <td>1010data</td>\n",
       "      <td>http://www.1010data.com</td>\n",
       "      <td>Software</td>\n",
       "      <td>acquired</td>\n",
       "      <td>USA</td>\n",
       "      <td>NY</td>\n",
       "      <td>New York City</td>\n",
       "      <td>New York</td>\n",
       "      <td>01-01-2000</td>\n",
       "    </tr>\n",
       "    <tr>\n",
       "      <th>40</th>\n",
       "      <td>/organization/10x-genomics</td>\n",
       "      <td>/funding-round/563923487783bdeb5d0b7872f3d6b99a</td>\n",
       "      <td>venture</td>\n",
       "      <td>B</td>\n",
       "      <td>12-01-2015</td>\n",
       "      <td>55000000.0</td>\n",
       "      <td>/organization/10x-genomics</td>\n",
       "      <td>10X Genomics</td>\n",
       "      <td>http://10xgenomics.com</td>\n",
       "      <td>Biotechnology|Technology</td>\n",
       "      <td>operating</td>\n",
       "      <td>USA</td>\n",
       "      <td>CA</td>\n",
       "      <td>SF Bay Area</td>\n",
       "      <td>Pleasanton</td>\n",
       "      <td>01-01-2012</td>\n",
       "    </tr>\n",
       "    <tr>\n",
       "      <th>41</th>\n",
       "      <td>/organization/10x-technologies</td>\n",
       "      <td>/funding-round/39c1441d5098875a925577d0f2ad3904</td>\n",
       "      <td>venture</td>\n",
       "      <td>B</td>\n",
       "      <td>12-01-2015</td>\n",
       "      <td>550000.0</td>\n",
       "      <td>/organization/10x-technologies</td>\n",
       "      <td>10X Technologies</td>\n",
       "      <td>http://10xtechnologies.com</td>\n",
       "      <td>Biotechnology</td>\n",
       "      <td>operating</td>\n",
       "      <td>USA</td>\n",
       "      <td>CA</td>\n",
       "      <td>SF Bay Area</td>\n",
       "      <td>Oakland</td>\n",
       "      <td>01-01-2012</td>\n",
       "    </tr>\n",
       "    <tr>\n",
       "      <th>47</th>\n",
       "      <td>/organization/11i-solutions</td>\n",
       "      <td>/funding-round/e07501ed6997290b1bef59406bc300a1</td>\n",
       "      <td>venture</td>\n",
       "      <td>NaN</td>\n",
       "      <td>22-03-2011</td>\n",
       "      <td>1800000.0</td>\n",
       "      <td>/organization/11i-solutions</td>\n",
       "      <td>11i Solutions</td>\n",
       "      <td>http://www.11isolutions.com</td>\n",
       "      <td>Enterprise Software</td>\n",
       "      <td>closed</td>\n",
       "      <td>USA</td>\n",
       "      <td>AL</td>\n",
       "      <td>Huntsville</td>\n",
       "      <td>Huntsville</td>\n",
       "      <td>NaN</td>\n",
       "    </tr>\n",
       "    <tr>\n",
       "      <th>60</th>\n",
       "      <td>/organization/128-technology</td>\n",
       "      <td>/funding-round/fb6216a30cb566ede89e0bee0623a634</td>\n",
       "      <td>venture</td>\n",
       "      <td>NaN</td>\n",
       "      <td>16-12-2014</td>\n",
       "      <td>11999347.0</td>\n",
       "      <td>/organization/128-technology</td>\n",
       "      <td>128 Technology</td>\n",
       "      <td>http://www.128technology.com/</td>\n",
       "      <td>Service Providers|Technology</td>\n",
       "      <td>operating</td>\n",
       "      <td>USA</td>\n",
       "      <td>MA</td>\n",
       "      <td>Boston</td>\n",
       "      <td>Burlington</td>\n",
       "      <td>07-07-2014</td>\n",
       "    </tr>\n",
       "    <tr>\n",
       "      <th>65</th>\n",
       "      <td>/organization/1366-technologies</td>\n",
       "      <td>/funding-round/2a31dd8a0b006b341cde0f7b721008e6</td>\n",
       "      <td>venture</td>\n",
       "      <td>B</td>\n",
       "      <td>14-01-2011</td>\n",
       "      <td>2400000.0</td>\n",
       "      <td>/organization/1366-technologies</td>\n",
       "      <td>1366 Technologies</td>\n",
       "      <td>http://www.1366tech.com</td>\n",
       "      <td>Manufacturing</td>\n",
       "      <td>operating</td>\n",
       "      <td>USA</td>\n",
       "      <td>MA</td>\n",
       "      <td>Boston</td>\n",
       "      <td>Bedford</td>\n",
       "      <td>01-01-2007</td>\n",
       "    </tr>\n",
       "  </tbody>\n",
       "</table>\n",
       "</div>"
      ],
      "text/plain": [
       "                  company_permalink  \\\n",
       "0               /organization/-fame   \n",
       "15       /organization/1-mainstream   \n",
       "18    /organization/10-minutes-with   \n",
       "23       /organization/1000memories   \n",
       "32           /organization/1010data   \n",
       "40       /organization/10x-genomics   \n",
       "41   /organization/10x-technologies   \n",
       "47      /organization/11i-solutions   \n",
       "60     /organization/128-technology   \n",
       "65  /organization/1366-technologies   \n",
       "\n",
       "                            funding_round_permalink funding_round_type  \\\n",
       "0   /funding-round/9a01d05418af9f794eebff7ace91f638            venture   \n",
       "15  /funding-round/b952cbaf401f310927430c97b68162ea            venture   \n",
       "18  /funding-round/0faccbbcc5818dc5326469f13f5a8ac8            venture   \n",
       "23  /funding-round/502bd0e50c27616995e4bdad24605ef8            venture   \n",
       "32  /funding-round/482fbf992b48f5c47d0080ab7ec0cb54            venture   \n",
       "40  /funding-round/563923487783bdeb5d0b7872f3d6b99a            venture   \n",
       "41  /funding-round/39c1441d5098875a925577d0f2ad3904            venture   \n",
       "47  /funding-round/e07501ed6997290b1bef59406bc300a1            venture   \n",
       "60  /funding-round/fb6216a30cb566ede89e0bee0623a634            venture   \n",
       "65  /funding-round/2a31dd8a0b006b341cde0f7b721008e6            venture   \n",
       "\n",
       "   funding_round_code   funded_at  raised_amount_usd  \\\n",
       "0                   B  05-01-2015         10000000.0   \n",
       "15                NaN  17-03-2015          5000000.0   \n",
       "18                  A  09-10-2014          4000000.0   \n",
       "23                  A  16-02-2011          2520000.0   \n",
       "32                NaN  08-03-2010         35000000.0   \n",
       "40                  B  12-01-2015         55000000.0   \n",
       "41                  B  12-01-2015           550000.0   \n",
       "47                NaN  22-03-2011          1800000.0   \n",
       "60                NaN  16-12-2014         11999347.0   \n",
       "65                  B  14-01-2011          2400000.0   \n",
       "\n",
       "                          permalink               name  \\\n",
       "0               /organization/-fame              #fame   \n",
       "15       /organization/1-mainstream       1 Mainstream   \n",
       "18    /organization/10-minutes-with    10 Minutes With   \n",
       "23       /organization/1000memories       1000memories   \n",
       "32           /organization/1010data           1010data   \n",
       "40       /organization/10x-genomics       10X Genomics   \n",
       "41   /organization/10x-technologies   10X Technologies   \n",
       "47      /organization/11i-solutions      11i Solutions   \n",
       "60     /organization/128-technology     128 Technology   \n",
       "65  /organization/1366-technologies  1366 Technologies   \n",
       "\n",
       "                     homepage_url                     category_list  \\\n",
       "0              http://livfame.com                             Media   \n",
       "15     http://www.1mainstream.com  Apps|Cable|Distribution|Software   \n",
       "18       http://10minuteswith.com                         Education   \n",
       "23        http://1000memories.com                       Curated Web   \n",
       "32        http://www.1010data.com                          Software   \n",
       "40         http://10xgenomics.com          Biotechnology|Technology   \n",
       "41     http://10xtechnologies.com                     Biotechnology   \n",
       "47    http://www.11isolutions.com               Enterprise Software   \n",
       "60  http://www.128technology.com/      Service Providers|Technology   \n",
       "65        http://www.1366tech.com                     Manufacturing   \n",
       "\n",
       "       status country_code state_code         region           city  \\\n",
       "0   operating          IND         16         Mumbai         Mumbai   \n",
       "15   acquired          USA         CA    SF Bay Area      Cupertino   \n",
       "18  operating          GBR         H9         London         London   \n",
       "23   acquired          USA         CA    SF Bay Area  San Francisco   \n",
       "32   acquired          USA         NY  New York City       New York   \n",
       "40  operating          USA         CA    SF Bay Area     Pleasanton   \n",
       "41  operating          USA         CA    SF Bay Area        Oakland   \n",
       "47     closed          USA         AL     Huntsville     Huntsville   \n",
       "60  operating          USA         MA         Boston     Burlington   \n",
       "65  operating          USA         MA         Boston        Bedford   \n",
       "\n",
       "    founded_at  \n",
       "0          NaN  \n",
       "15  01-03-2012  \n",
       "18  01-01-2013  \n",
       "23  01-07-2010  \n",
       "32  01-01-2000  \n",
       "40  01-01-2012  \n",
       "41  01-01-2012  \n",
       "47         NaN  \n",
       "60  07-07-2014  \n",
       "65  01-01-2007  "
      ]
     },
     "execution_count": 22,
     "metadata": {},
     "output_type": "execute_result"
    }
   ],
   "source": [
    "top3 = top9[(top9.country_code=='USA') | (top9.country_code=='GBR') | (top9.country_code=='IND')]\n",
    "print(top3.shape)\n",
    "top3.head(10)"
   ]
  },
  {
   "cell_type": "markdown",
   "id": "42de3d47",
   "metadata": {
    "execution": {
     "iopub.execute_input": "2022-04-07T14:41:29.541035Z",
     "iopub.status.busy": "2022-04-07T14:41:29.540771Z",
     "iopub.status.idle": "2022-04-07T14:41:29.546665Z",
     "shell.execute_reply": "2022-04-07T14:41:29.545326Z",
     "shell.execute_reply.started": "2022-04-07T14:41:29.541007Z"
    },
    "papermill": {
     "duration": 0.07489,
     "end_time": "2022-04-07T15:36:23.104875",
     "exception": false,
     "start_time": "2022-04-07T15:36:23.029985",
     "status": "completed"
    },
    "tags": []
   },
   "source": [
    "Reading mapping file"
   ]
  },
  {
   "cell_type": "code",
   "execution_count": 23,
   "id": "6ad008cf",
   "metadata": {
    "execution": {
     "iopub.execute_input": "2022-04-07T15:36:23.260354Z",
     "iopub.status.busy": "2022-04-07T15:36:23.259710Z",
     "iopub.status.idle": "2022-04-07T15:36:23.279441Z",
     "shell.execute_reply": "2022-04-07T15:36:23.280062Z",
     "shell.execute_reply.started": "2022-04-07T14:42:00.202028Z"
    },
    "papermill": {
     "duration": 0.099531,
     "end_time": "2022-04-07T15:36:23.280241",
     "exception": false,
     "start_time": "2022-04-07T15:36:23.180710",
     "status": "completed"
    },
    "tags": []
   },
   "outputs": [
    {
     "data": {
      "text/html": [
       "<div>\n",
       "<style scoped>\n",
       "    .dataframe tbody tr th:only-of-type {\n",
       "        vertical-align: middle;\n",
       "    }\n",
       "\n",
       "    .dataframe tbody tr th {\n",
       "        vertical-align: top;\n",
       "    }\n",
       "\n",
       "    .dataframe thead th {\n",
       "        text-align: right;\n",
       "    }\n",
       "</style>\n",
       "<table border=\"1\" class=\"dataframe\">\n",
       "  <thead>\n",
       "    <tr style=\"text-align: right;\">\n",
       "      <th></th>\n",
       "      <th>category_list</th>\n",
       "      <th>Automotive &amp; Sports</th>\n",
       "      <th>Blanks</th>\n",
       "      <th>Cleantech / Semiconductors</th>\n",
       "      <th>Entertainment</th>\n",
       "      <th>Health</th>\n",
       "      <th>Manufacturing</th>\n",
       "      <th>News, Search and Messaging</th>\n",
       "      <th>Others</th>\n",
       "      <th>Social, Finance, Analytics, Advertising</th>\n",
       "    </tr>\n",
       "  </thead>\n",
       "  <tbody>\n",
       "    <tr>\n",
       "      <th>0</th>\n",
       "      <td>NaN</td>\n",
       "      <td>0</td>\n",
       "      <td>1</td>\n",
       "      <td>0</td>\n",
       "      <td>0</td>\n",
       "      <td>0</td>\n",
       "      <td>0</td>\n",
       "      <td>0</td>\n",
       "      <td>0</td>\n",
       "      <td>0</td>\n",
       "    </tr>\n",
       "    <tr>\n",
       "      <th>1</th>\n",
       "      <td>3D</td>\n",
       "      <td>0</td>\n",
       "      <td>0</td>\n",
       "      <td>0</td>\n",
       "      <td>0</td>\n",
       "      <td>0</td>\n",
       "      <td>1</td>\n",
       "      <td>0</td>\n",
       "      <td>0</td>\n",
       "      <td>0</td>\n",
       "    </tr>\n",
       "    <tr>\n",
       "      <th>2</th>\n",
       "      <td>3D Printing</td>\n",
       "      <td>0</td>\n",
       "      <td>0</td>\n",
       "      <td>0</td>\n",
       "      <td>0</td>\n",
       "      <td>0</td>\n",
       "      <td>1</td>\n",
       "      <td>0</td>\n",
       "      <td>0</td>\n",
       "      <td>0</td>\n",
       "    </tr>\n",
       "    <tr>\n",
       "      <th>3</th>\n",
       "      <td>3D Technology</td>\n",
       "      <td>0</td>\n",
       "      <td>0</td>\n",
       "      <td>0</td>\n",
       "      <td>0</td>\n",
       "      <td>0</td>\n",
       "      <td>1</td>\n",
       "      <td>0</td>\n",
       "      <td>0</td>\n",
       "      <td>0</td>\n",
       "    </tr>\n",
       "    <tr>\n",
       "      <th>4</th>\n",
       "      <td>Accounting</td>\n",
       "      <td>0</td>\n",
       "      <td>0</td>\n",
       "      <td>0</td>\n",
       "      <td>0</td>\n",
       "      <td>0</td>\n",
       "      <td>0</td>\n",
       "      <td>0</td>\n",
       "      <td>0</td>\n",
       "      <td>1</td>\n",
       "    </tr>\n",
       "  </tbody>\n",
       "</table>\n",
       "</div>"
      ],
      "text/plain": [
       "   category_list  Automotive & Sports  Blanks  Cleantech / Semiconductors  \\\n",
       "0            NaN                    0       1                           0   \n",
       "1             3D                    0       0                           0   \n",
       "2    3D Printing                    0       0                           0   \n",
       "3  3D Technology                    0       0                           0   \n",
       "4     Accounting                    0       0                           0   \n",
       "\n",
       "   Entertainment  Health  Manufacturing  News, Search and Messaging  Others  \\\n",
       "0              0       0              0                           0       0   \n",
       "1              0       0              1                           0       0   \n",
       "2              0       0              1                           0       0   \n",
       "3              0       0              1                           0       0   \n",
       "4              0       0              0                           0       0   \n",
       "\n",
       "   Social, Finance, Analytics, Advertising  \n",
       "0                                        0  \n",
       "1                                        0  \n",
       "2                                        0  \n",
       "3                                        0  \n",
       "4                                        1  "
      ]
     },
     "execution_count": 23,
     "metadata": {},
     "output_type": "execute_result"
    }
   ],
   "source": [
    "sector_map=pd.read_csv('../input/investment/mapping.csv', encoding='utf-8')\n",
    "sector_map.head()"
   ]
  },
  {
   "cell_type": "markdown",
   "id": "45766b4a",
   "metadata": {
    "papermill": {
     "duration": 0.074817,
     "end_time": "2022-04-07T15:36:23.430918",
     "exception": false,
     "start_time": "2022-04-07T15:36:23.356101",
     "status": "completed"
    },
    "tags": []
   },
   "source": [
    "Creating a column as 'primary sector' by extracting string before the first vertical bar '|' in 'category_list'"
   ]
  },
  {
   "cell_type": "code",
   "execution_count": 24,
   "id": "4d8315ca",
   "metadata": {
    "execution": {
     "iopub.execute_input": "2022-04-07T15:36:23.586086Z",
     "iopub.status.busy": "2022-04-07T15:36:23.585078Z",
     "iopub.status.idle": "2022-04-07T15:36:23.606211Z",
     "shell.execute_reply": "2022-04-07T15:36:23.606779Z",
     "shell.execute_reply.started": "2022-04-07T15:29:11.001470Z"
    },
    "papermill": {
     "duration": 0.100701,
     "end_time": "2022-04-07T15:36:23.606955",
     "exception": false,
     "start_time": "2022-04-07T15:36:23.506254",
     "status": "completed"
    },
    "tags": []
   },
   "outputs": [
    {
     "name": "stderr",
     "output_type": "stream",
     "text": [
      "/opt/conda/lib/python3.7/site-packages/pandas/core/indexing.py:1667: SettingWithCopyWarning: \n",
      "A value is trying to be set on a copy of a slice from a DataFrame.\n",
      "Try using .loc[row_indexer,col_indexer] = value instead\n",
      "\n",
      "See the caveats in the documentation: https://pandas.pydata.org/pandas-docs/stable/user_guide/indexing.html#returning-a-view-versus-a-copy\n",
      "  self.obj[key] = value\n"
     ]
    }
   ],
   "source": [
    "top3.loc[:,'primary sector']=top3.loc[:,'category_list'].apply(lambda x: str(x).split('|')[0])"
   ]
  },
  {
   "cell_type": "markdown",
   "id": "87e3b374",
   "metadata": {
    "papermill": {
     "duration": 0.075383,
     "end_time": "2022-04-07T15:36:23.758275",
     "exception": false,
     "start_time": "2022-04-07T15:36:23.682892",
     "status": "completed"
    },
    "tags": []
   },
   "source": [
    "Converting wide format data mentioned in 'mapping' file to long format, it will help in merging dataframes"
   ]
  },
  {
   "cell_type": "code",
   "execution_count": 25,
   "id": "99e67d4f",
   "metadata": {
    "execution": {
     "iopub.execute_input": "2022-04-07T15:36:23.915340Z",
     "iopub.status.busy": "2022-04-07T15:36:23.914284Z",
     "iopub.status.idle": "2022-04-07T15:36:23.931534Z",
     "shell.execute_reply": "2022-04-07T15:36:23.931981Z",
     "shell.execute_reply.started": "2022-04-07T15:29:14.939529Z"
    },
    "papermill": {
     "duration": 0.097775,
     "end_time": "2022-04-07T15:36:23.932153",
     "exception": false,
     "start_time": "2022-04-07T15:36:23.834378",
     "status": "completed"
    },
    "tags": []
   },
   "outputs": [
    {
     "data": {
      "text/html": [
       "<div>\n",
       "<style scoped>\n",
       "    .dataframe tbody tr th:only-of-type {\n",
       "        vertical-align: middle;\n",
       "    }\n",
       "\n",
       "    .dataframe tbody tr th {\n",
       "        vertical-align: top;\n",
       "    }\n",
       "\n",
       "    .dataframe thead th {\n",
       "        text-align: right;\n",
       "    }\n",
       "</style>\n",
       "<table border=\"1\" class=\"dataframe\">\n",
       "  <thead>\n",
       "    <tr style=\"text-align: right;\">\n",
       "      <th></th>\n",
       "      <th>category_list</th>\n",
       "      <th>variable</th>\n",
       "      <th>value</th>\n",
       "    </tr>\n",
       "  </thead>\n",
       "  <tbody>\n",
       "    <tr>\n",
       "      <th>0</th>\n",
       "      <td>NaN</td>\n",
       "      <td>Automotive &amp; Sports</td>\n",
       "      <td>0</td>\n",
       "    </tr>\n",
       "    <tr>\n",
       "      <th>1</th>\n",
       "      <td>3D</td>\n",
       "      <td>Automotive &amp; Sports</td>\n",
       "      <td>0</td>\n",
       "    </tr>\n",
       "    <tr>\n",
       "      <th>2</th>\n",
       "      <td>3D Printing</td>\n",
       "      <td>Automotive &amp; Sports</td>\n",
       "      <td>0</td>\n",
       "    </tr>\n",
       "    <tr>\n",
       "      <th>3</th>\n",
       "      <td>3D Technology</td>\n",
       "      <td>Automotive &amp; Sports</td>\n",
       "      <td>0</td>\n",
       "    </tr>\n",
       "    <tr>\n",
       "      <th>4</th>\n",
       "      <td>Accounting</td>\n",
       "      <td>Automotive &amp; Sports</td>\n",
       "      <td>0</td>\n",
       "    </tr>\n",
       "    <tr>\n",
       "      <th>...</th>\n",
       "      <td>...</td>\n",
       "      <td>...</td>\n",
       "      <td>...</td>\n",
       "    </tr>\n",
       "    <tr>\n",
       "      <th>6187</th>\n",
       "      <td>Wholesale</td>\n",
       "      <td>Social, Finance, Analytics, Advertising</td>\n",
       "      <td>0</td>\n",
       "    </tr>\n",
       "    <tr>\n",
       "      <th>6188</th>\n",
       "      <td>Wine And Spirits</td>\n",
       "      <td>Social, Finance, Analytics, Advertising</td>\n",
       "      <td>0</td>\n",
       "    </tr>\n",
       "    <tr>\n",
       "      <th>6189</th>\n",
       "      <td>Wireless</td>\n",
       "      <td>Social, Finance, Analytics, Advertising</td>\n",
       "      <td>0</td>\n",
       "    </tr>\n",
       "    <tr>\n",
       "      <th>6190</th>\n",
       "      <td>Women</td>\n",
       "      <td>Social, Finance, Analytics, Advertising</td>\n",
       "      <td>0</td>\n",
       "    </tr>\n",
       "    <tr>\n",
       "      <th>6191</th>\n",
       "      <td>Young Adults</td>\n",
       "      <td>Social, Finance, Analytics, Advertising</td>\n",
       "      <td>0</td>\n",
       "    </tr>\n",
       "  </tbody>\n",
       "</table>\n",
       "<p>6192 rows × 3 columns</p>\n",
       "</div>"
      ],
      "text/plain": [
       "         category_list                                 variable  value\n",
       "0                  NaN                      Automotive & Sports      0\n",
       "1                   3D                      Automotive & Sports      0\n",
       "2          3D Printing                      Automotive & Sports      0\n",
       "3        3D Technology                      Automotive & Sports      0\n",
       "4           Accounting                      Automotive & Sports      0\n",
       "...                ...                                      ...    ...\n",
       "6187         Wholesale  Social, Finance, Analytics, Advertising      0\n",
       "6188  Wine And Spirits  Social, Finance, Analytics, Advertising      0\n",
       "6189          Wireless  Social, Finance, Analytics, Advertising      0\n",
       "6190             Women  Social, Finance, Analytics, Advertising      0\n",
       "6191      Young Adults  Social, Finance, Analytics, Advertising      0\n",
       "\n",
       "[6192 rows x 3 columns]"
      ]
     },
     "execution_count": 25,
     "metadata": {},
     "output_type": "execute_result"
    }
   ],
   "source": [
    "var_val=list(sector_map.columns[1:])\n",
    "var_id = list(np.setdiff1d(sector_map.columns, var_val))\n",
    "map_df = pd.melt(sector_map, id_vars=var_id, value_vars=var_val)\n",
    "map_df"
   ]
  },
  {
   "cell_type": "markdown",
   "id": "fddc1747",
   "metadata": {
    "papermill": {
     "duration": 0.077204,
     "end_time": "2022-04-07T15:36:24.087447",
     "exception": false,
     "start_time": "2022-04-07T15:36:24.010243",
     "status": "completed"
    },
    "tags": []
   },
   "source": [
    "Removing rows having 0s coming in the above dataframe and keeping only rows having value 1"
   ]
  },
  {
   "cell_type": "code",
   "execution_count": 26,
   "id": "52f9afb5",
   "metadata": {
    "execution": {
     "iopub.execute_input": "2022-04-07T15:36:24.246669Z",
     "iopub.status.busy": "2022-04-07T15:36:24.245977Z",
     "iopub.status.idle": "2022-04-07T15:36:24.257900Z",
     "shell.execute_reply": "2022-04-07T15:36:24.258473Z",
     "shell.execute_reply.started": "2022-04-07T15:29:19.431924Z"
    },
    "papermill": {
     "duration": 0.094401,
     "end_time": "2022-04-07T15:36:24.258648",
     "exception": false,
     "start_time": "2022-04-07T15:36:24.164247",
     "status": "completed"
    },
    "tags": []
   },
   "outputs": [
    {
     "data": {
      "text/html": [
       "<div>\n",
       "<style scoped>\n",
       "    .dataframe tbody tr th:only-of-type {\n",
       "        vertical-align: middle;\n",
       "    }\n",
       "\n",
       "    .dataframe tbody tr th {\n",
       "        vertical-align: top;\n",
       "    }\n",
       "\n",
       "    .dataframe thead th {\n",
       "        text-align: right;\n",
       "    }\n",
       "</style>\n",
       "<table border=\"1\" class=\"dataframe\">\n",
       "  <thead>\n",
       "    <tr style=\"text-align: right;\">\n",
       "      <th></th>\n",
       "      <th>category_list</th>\n",
       "      <th>main_sector</th>\n",
       "    </tr>\n",
       "  </thead>\n",
       "  <tbody>\n",
       "    <tr>\n",
       "      <th>8</th>\n",
       "      <td>Adventure Travel</td>\n",
       "      <td>Automotive &amp; Sports</td>\n",
       "    </tr>\n",
       "    <tr>\n",
       "      <th>14</th>\n",
       "      <td>Aerospace</td>\n",
       "      <td>Automotive &amp; Sports</td>\n",
       "    </tr>\n",
       "    <tr>\n",
       "      <th>45</th>\n",
       "      <td>Auto</td>\n",
       "      <td>Automotive &amp; Sports</td>\n",
       "    </tr>\n",
       "    <tr>\n",
       "      <th>46</th>\n",
       "      <td>Automated Kiosk</td>\n",
       "      <td>Automotive &amp; Sports</td>\n",
       "    </tr>\n",
       "    <tr>\n",
       "      <th>47</th>\n",
       "      <td>Automotive</td>\n",
       "      <td>Automotive &amp; Sports</td>\n",
       "    </tr>\n",
       "    <tr>\n",
       "      <th>...</th>\n",
       "      <td>...</td>\n",
       "      <td>...</td>\n",
       "    </tr>\n",
       "    <tr>\n",
       "      <th>6121</th>\n",
       "      <td>Social Recruiting</td>\n",
       "      <td>Social, Finance, Analytics, Advertising</td>\n",
       "    </tr>\n",
       "    <tr>\n",
       "      <th>6122</th>\n",
       "      <td>Social Television</td>\n",
       "      <td>Social, Finance, Analytics, Advertising</td>\n",
       "    </tr>\n",
       "    <tr>\n",
       "      <th>6123</th>\n",
       "      <td>Social Travel</td>\n",
       "      <td>Social, Finance, Analytics, Advertising</td>\n",
       "    </tr>\n",
       "    <tr>\n",
       "      <th>6134</th>\n",
       "      <td>Stock Exchanges</td>\n",
       "      <td>Social, Finance, Analytics, Advertising</td>\n",
       "    </tr>\n",
       "    <tr>\n",
       "      <th>6167</th>\n",
       "      <td>Venture Capital</td>\n",
       "      <td>Social, Finance, Analytics, Advertising</td>\n",
       "    </tr>\n",
       "  </tbody>\n",
       "</table>\n",
       "<p>688 rows × 2 columns</p>\n",
       "</div>"
      ],
      "text/plain": [
       "          category_list                              main_sector\n",
       "8      Adventure Travel                      Automotive & Sports\n",
       "14            Aerospace                      Automotive & Sports\n",
       "45                 Auto                      Automotive & Sports\n",
       "46      Automated Kiosk                      Automotive & Sports\n",
       "47           Automotive                      Automotive & Sports\n",
       "...                 ...                                      ...\n",
       "6121  Social Recruiting  Social, Finance, Analytics, Advertising\n",
       "6122  Social Television  Social, Finance, Analytics, Advertising\n",
       "6123      Social Travel  Social, Finance, Analytics, Advertising\n",
       "6134    Stock Exchanges  Social, Finance, Analytics, Advertising\n",
       "6167    Venture Capital  Social, Finance, Analytics, Advertising\n",
       "\n",
       "[688 rows x 2 columns]"
      ]
     },
     "execution_count": 26,
     "metadata": {},
     "output_type": "execute_result"
    }
   ],
   "source": [
    "map_df=map_df[map_df['value']==1]\n",
    "map_df=map_df.drop('value',axis=1)\n",
    "map_df=map_df.rename(columns={'variable': 'main_sector'})\n",
    "map_df"
   ]
  },
  {
   "cell_type": "markdown",
   "id": "ecdba636",
   "metadata": {
    "papermill": {
     "duration": 0.076683,
     "end_time": "2022-04-07T15:36:24.412127",
     "exception": false,
     "start_time": "2022-04-07T15:36:24.335444",
     "status": "completed"
    },
    "tags": []
   },
   "source": [
    "Merging 'main_sector' column from mapping dataframe to 'top3' dataframe taking 'category_list' as the key"
   ]
  },
  {
   "cell_type": "code",
   "execution_count": 27,
   "id": "96d0cfd9",
   "metadata": {
    "execution": {
     "iopub.execute_input": "2022-04-07T15:36:24.568747Z",
     "iopub.status.busy": "2022-04-07T15:36:24.568086Z",
     "iopub.status.idle": "2022-04-07T15:36:24.594161Z",
     "shell.execute_reply": "2022-04-07T15:36:24.594716Z",
     "shell.execute_reply.started": "2022-04-07T15:29:22.543936Z"
    },
    "papermill": {
     "duration": 0.10616,
     "end_time": "2022-04-07T15:36:24.594894",
     "exception": false,
     "start_time": "2022-04-07T15:36:24.488734",
     "status": "completed"
    },
    "tags": []
   },
   "outputs": [],
   "source": [
    "final_df=top3.merge(map_df)"
   ]
  },
  {
   "cell_type": "markdown",
   "id": "03771bf7",
   "metadata": {
    "papermill": {
     "duration": 0.076408,
     "end_time": "2022-04-07T15:36:24.747834",
     "exception": false,
     "start_time": "2022-04-07T15:36:24.671426",
     "status": "completed"
    },
    "tags": []
   },
   "source": [
    "Checking dataframe after merging 'mapping' dataframe with 'top3'  dataframe"
   ]
  },
  {
   "cell_type": "code",
   "execution_count": 28,
   "id": "c7070f1a",
   "metadata": {
    "execution": {
     "iopub.execute_input": "2022-04-07T15:36:24.909647Z",
     "iopub.status.busy": "2022-04-07T15:36:24.906673Z",
     "iopub.status.idle": "2022-04-07T15:36:24.938413Z",
     "shell.execute_reply": "2022-04-07T15:36:24.938970Z",
     "shell.execute_reply.started": "2022-04-07T15:31:42.559154Z"
    },
    "papermill": {
     "duration": 0.114319,
     "end_time": "2022-04-07T15:36:24.939144",
     "exception": false,
     "start_time": "2022-04-07T15:36:24.824825",
     "status": "completed"
    },
    "tags": []
   },
   "outputs": [
    {
     "data": {
      "text/html": [
       "<div>\n",
       "<style scoped>\n",
       "    .dataframe tbody tr th:only-of-type {\n",
       "        vertical-align: middle;\n",
       "    }\n",
       "\n",
       "    .dataframe tbody tr th {\n",
       "        vertical-align: top;\n",
       "    }\n",
       "\n",
       "    .dataframe thead th {\n",
       "        text-align: right;\n",
       "    }\n",
       "</style>\n",
       "<table border=\"1\" class=\"dataframe\">\n",
       "  <thead>\n",
       "    <tr style=\"text-align: right;\">\n",
       "      <th></th>\n",
       "      <th>company_permalink</th>\n",
       "      <th>funding_round_permalink</th>\n",
       "      <th>funding_round_type</th>\n",
       "      <th>funding_round_code</th>\n",
       "      <th>funded_at</th>\n",
       "      <th>raised_amount_usd</th>\n",
       "      <th>permalink</th>\n",
       "      <th>name</th>\n",
       "      <th>homepage_url</th>\n",
       "      <th>category_list</th>\n",
       "      <th>status</th>\n",
       "      <th>country_code</th>\n",
       "      <th>state_code</th>\n",
       "      <th>region</th>\n",
       "      <th>city</th>\n",
       "      <th>founded_at</th>\n",
       "      <th>primary sector</th>\n",
       "      <th>main_sector</th>\n",
       "    </tr>\n",
       "  </thead>\n",
       "  <tbody>\n",
       "    <tr>\n",
       "      <th>9038</th>\n",
       "      <td>/organization/acs-athletics</td>\n",
       "      <td>/funding-round/8038397f37e877563428c7082ad1df97</td>\n",
       "      <td>venture</td>\n",
       "      <td>A</td>\n",
       "      <td>01-07-2006</td>\n",
       "      <td>215000.0</td>\n",
       "      <td>/organization/acs-athletics</td>\n",
       "      <td>ACS Athletics</td>\n",
       "      <td>http://www.acsathletics.com/</td>\n",
       "      <td>Sports</td>\n",
       "      <td>operating</td>\n",
       "      <td>USA</td>\n",
       "      <td>TX</td>\n",
       "      <td>Austin</td>\n",
       "      <td>Austin</td>\n",
       "      <td>01-01-1999</td>\n",
       "      <td>Sports</td>\n",
       "      <td>Automotive &amp; Sports</td>\n",
       "    </tr>\n",
       "    <tr>\n",
       "      <th>9039</th>\n",
       "      <td>/organization/airkast</td>\n",
       "      <td>/funding-round/24aa27cde61d7fe3e151b51c244f3ef5</td>\n",
       "      <td>venture</td>\n",
       "      <td>NaN</td>\n",
       "      <td>13-06-2011</td>\n",
       "      <td>750000.0</td>\n",
       "      <td>/organization/airkast</td>\n",
       "      <td>AirKast</td>\n",
       "      <td>http://airkast.com</td>\n",
       "      <td>Sports</td>\n",
       "      <td>operating</td>\n",
       "      <td>USA</td>\n",
       "      <td>CA</td>\n",
       "      <td>SF Bay Area</td>\n",
       "      <td>Cupertino</td>\n",
       "      <td>01-01-2007</td>\n",
       "      <td>Sports</td>\n",
       "      <td>Automotive &amp; Sports</td>\n",
       "    </tr>\n",
       "    <tr>\n",
       "      <th>9040</th>\n",
       "      <td>/organization/boathouse-row-sports</td>\n",
       "      <td>/funding-round/993fcf3fdfb63ff58981130b6857efc5</td>\n",
       "      <td>venture</td>\n",
       "      <td>NaN</td>\n",
       "      <td>07-08-2009</td>\n",
       "      <td>2843769.0</td>\n",
       "      <td>/organization/boathouse-row-sports</td>\n",
       "      <td>BOATHOUSE ROW SPORTS</td>\n",
       "      <td>http://www.boathouse.com</td>\n",
       "      <td>Sports</td>\n",
       "      <td>operating</td>\n",
       "      <td>USA</td>\n",
       "      <td>PA</td>\n",
       "      <td>Philadelphia</td>\n",
       "      <td>Philadelphia</td>\n",
       "      <td>NaN</td>\n",
       "      <td>Sports</td>\n",
       "      <td>Automotive &amp; Sports</td>\n",
       "    </tr>\n",
       "    <tr>\n",
       "      <th>9041</th>\n",
       "      <td>/organization/break30</td>\n",
       "      <td>/funding-round/9f921768edc157dceb1de91c383000d0</td>\n",
       "      <td>venture</td>\n",
       "      <td>NaN</td>\n",
       "      <td>04-12-2008</td>\n",
       "      <td>295000.0</td>\n",
       "      <td>/organization/break30</td>\n",
       "      <td>Break30</td>\n",
       "      <td>http://www.break30.com</td>\n",
       "      <td>Sports</td>\n",
       "      <td>operating</td>\n",
       "      <td>GBR</td>\n",
       "      <td>L9</td>\n",
       "      <td>Sheffield</td>\n",
       "      <td>Sheffield</td>\n",
       "      <td>01-01-2005</td>\n",
       "      <td>Sports</td>\n",
       "      <td>Automotive &amp; Sports</td>\n",
       "    </tr>\n",
       "    <tr>\n",
       "      <th>9042</th>\n",
       "      <td>/organization/citizen-sports</td>\n",
       "      <td>/funding-round/7e2b3f5858cc3d9e6b397adade04cc5a</td>\n",
       "      <td>venture</td>\n",
       "      <td>NaN</td>\n",
       "      <td>01-01-2007</td>\n",
       "      <td>10000000.0</td>\n",
       "      <td>/organization/citizen-sports</td>\n",
       "      <td>Citizen Sports</td>\n",
       "      <td>http://www.citizensportsinc.com</td>\n",
       "      <td>Sports</td>\n",
       "      <td>acquired</td>\n",
       "      <td>USA</td>\n",
       "      <td>CA</td>\n",
       "      <td>SF Bay Area</td>\n",
       "      <td>San Francisco</td>\n",
       "      <td>01-01-2005</td>\n",
       "      <td>Sports</td>\n",
       "      <td>Automotive &amp; Sports</td>\n",
       "    </tr>\n",
       "  </tbody>\n",
       "</table>\n",
       "</div>"
      ],
      "text/plain": [
       "                       company_permalink  \\\n",
       "9038         /organization/acs-athletics   \n",
       "9039               /organization/airkast   \n",
       "9040  /organization/boathouse-row-sports   \n",
       "9041               /organization/break30   \n",
       "9042        /organization/citizen-sports   \n",
       "\n",
       "                              funding_round_permalink funding_round_type  \\\n",
       "9038  /funding-round/8038397f37e877563428c7082ad1df97            venture   \n",
       "9039  /funding-round/24aa27cde61d7fe3e151b51c244f3ef5            venture   \n",
       "9040  /funding-round/993fcf3fdfb63ff58981130b6857efc5            venture   \n",
       "9041  /funding-round/9f921768edc157dceb1de91c383000d0            venture   \n",
       "9042  /funding-round/7e2b3f5858cc3d9e6b397adade04cc5a            venture   \n",
       "\n",
       "     funding_round_code   funded_at  raised_amount_usd  \\\n",
       "9038                  A  01-07-2006           215000.0   \n",
       "9039                NaN  13-06-2011           750000.0   \n",
       "9040                NaN  07-08-2009          2843769.0   \n",
       "9041                NaN  04-12-2008           295000.0   \n",
       "9042                NaN  01-01-2007         10000000.0   \n",
       "\n",
       "                               permalink                  name  \\\n",
       "9038         /organization/acs-athletics         ACS Athletics   \n",
       "9039               /organization/airkast               AirKast   \n",
       "9040  /organization/boathouse-row-sports  BOATHOUSE ROW SPORTS   \n",
       "9041               /organization/break30               Break30   \n",
       "9042        /organization/citizen-sports        Citizen Sports   \n",
       "\n",
       "                         homepage_url category_list     status country_code  \\\n",
       "9038     http://www.acsathletics.com/        Sports  operating          USA   \n",
       "9039               http://airkast.com        Sports  operating          USA   \n",
       "9040         http://www.boathouse.com        Sports  operating          USA   \n",
       "9041           http://www.break30.com        Sports  operating          GBR   \n",
       "9042  http://www.citizensportsinc.com        Sports   acquired          USA   \n",
       "\n",
       "     state_code        region           city  founded_at primary sector  \\\n",
       "9038         TX        Austin         Austin  01-01-1999         Sports   \n",
       "9039         CA   SF Bay Area      Cupertino  01-01-2007         Sports   \n",
       "9040         PA  Philadelphia   Philadelphia         NaN         Sports   \n",
       "9041         L9     Sheffield      Sheffield  01-01-2005         Sports   \n",
       "9042         CA   SF Bay Area  San Francisco  01-01-2005         Sports   \n",
       "\n",
       "              main_sector  \n",
       "9038  Automotive & Sports  \n",
       "9039  Automotive & Sports  \n",
       "9040  Automotive & Sports  \n",
       "9041  Automotive & Sports  \n",
       "9042  Automotive & Sports  "
      ]
     },
     "execution_count": 28,
     "metadata": {},
     "output_type": "execute_result"
    }
   ],
   "source": [
    "final_df[final_df[\"main_sector\"]==\"Automotive & Sports\"].head()"
   ]
  },
  {
   "cell_type": "markdown",
   "id": "ec3ee847",
   "metadata": {
    "papermill": {
     "duration": 0.076869,
     "end_time": "2022-04-07T15:36:25.093598",
     "exception": false,
     "start_time": "2022-04-07T15:36:25.016729",
     "status": "completed"
    },
    "tags": []
   },
   "source": [
    "Removing companies having 'main_sector' as Blanks"
   ]
  },
  {
   "cell_type": "code",
   "execution_count": 29,
   "id": "2bc0c539",
   "metadata": {
    "execution": {
     "iopub.execute_input": "2022-04-07T15:36:25.258007Z",
     "iopub.status.busy": "2022-04-07T15:36:25.257314Z",
     "iopub.status.idle": "2022-04-07T15:36:25.264180Z",
     "shell.execute_reply": "2022-04-07T15:36:25.264853Z",
     "shell.execute_reply.started": "2022-04-07T15:31:56.017424Z"
    },
    "papermill": {
     "duration": 0.092682,
     "end_time": "2022-04-07T15:36:25.265045",
     "exception": false,
     "start_time": "2022-04-07T15:36:25.172363",
     "status": "completed"
    },
    "tags": []
   },
   "outputs": [
    {
     "data": {
      "text/plain": [
       "(10031, 18)"
      ]
     },
     "execution_count": 29,
     "metadata": {},
     "output_type": "execute_result"
    }
   ],
   "source": [
    "final_dfmod=final_df[~(final_df['main_sector']==\"Blanks\")]\n",
    "final_dfmod.shape"
   ]
  },
  {
   "cell_type": "markdown",
   "id": "99691f37",
   "metadata": {
    "papermill": {
     "duration": 0.077894,
     "end_time": "2022-04-07T15:36:25.421790",
     "exception": false,
     "start_time": "2022-04-07T15:36:25.343896",
     "status": "completed"
    },
    "tags": []
   },
   "source": [
    "Filtering to create three dataframes d1, d2 and d3 based on conditions below:\n",
    "1. Funding type 'FT' here Venture\n",
    "2. Investments made within 5-15 million USD"
   ]
  },
  {
   "cell_type": "code",
   "execution_count": 30,
   "id": "f5993d74",
   "metadata": {
    "execution": {
     "iopub.execute_input": "2022-04-07T15:36:25.581174Z",
     "iopub.status.busy": "2022-04-07T15:36:25.580187Z",
     "iopub.status.idle": "2022-04-07T15:36:25.606640Z",
     "shell.execute_reply": "2022-04-07T15:36:25.607193Z",
     "shell.execute_reply.started": "2022-04-07T15:32:09.830704Z"
    },
    "papermill": {
     "duration": 0.107683,
     "end_time": "2022-04-07T15:36:25.607381",
     "exception": false,
     "start_time": "2022-04-07T15:36:25.499698",
     "status": "completed"
    },
    "tags": []
   },
   "outputs": [
    {
     "data": {
      "text/html": [
       "<div>\n",
       "<style scoped>\n",
       "    .dataframe tbody tr th:only-of-type {\n",
       "        vertical-align: middle;\n",
       "    }\n",
       "\n",
       "    .dataframe tbody tr th {\n",
       "        vertical-align: top;\n",
       "    }\n",
       "\n",
       "    .dataframe thead th {\n",
       "        text-align: right;\n",
       "    }\n",
       "</style>\n",
       "<table border=\"1\" class=\"dataframe\">\n",
       "  <thead>\n",
       "    <tr style=\"text-align: right;\">\n",
       "      <th></th>\n",
       "      <th>company_permalink</th>\n",
       "      <th>funding_round_permalink</th>\n",
       "      <th>funding_round_type</th>\n",
       "      <th>funding_round_code</th>\n",
       "      <th>funded_at</th>\n",
       "      <th>raised_amount_usd</th>\n",
       "      <th>permalink</th>\n",
       "      <th>name</th>\n",
       "      <th>homepage_url</th>\n",
       "      <th>category_list</th>\n",
       "      <th>status</th>\n",
       "      <th>country_code</th>\n",
       "      <th>state_code</th>\n",
       "      <th>region</th>\n",
       "      <th>city</th>\n",
       "      <th>founded_at</th>\n",
       "      <th>primary sector</th>\n",
       "      <th>main_sector</th>\n",
       "    </tr>\n",
       "  </thead>\n",
       "  <tbody>\n",
       "    <tr>\n",
       "      <th>1</th>\n",
       "      <td>/organization/all-def-digital</td>\n",
       "      <td>/funding-round/452a2342fe720285c3b92e9bd927d9ba</td>\n",
       "      <td>venture</td>\n",
       "      <td>A</td>\n",
       "      <td>06-08-2014</td>\n",
       "      <td>5000000.0</td>\n",
       "      <td>/organization/all-def-digital</td>\n",
       "      <td>All Def Digital</td>\n",
       "      <td>http://alldefdigital.com</td>\n",
       "      <td>Media</td>\n",
       "      <td>operating</td>\n",
       "      <td>USA</td>\n",
       "      <td>CA</td>\n",
       "      <td>Los Angeles</td>\n",
       "      <td>Los Angeles</td>\n",
       "      <td>NaN</td>\n",
       "      <td>Media</td>\n",
       "      <td>Entertainment</td>\n",
       "    </tr>\n",
       "    <tr>\n",
       "      <th>12</th>\n",
       "      <td>/organization/ameritech-college</td>\n",
       "      <td>/funding-round/0410d9fe5d897489ef02022c0784af43</td>\n",
       "      <td>venture</td>\n",
       "      <td>NaN</td>\n",
       "      <td>15-03-2012</td>\n",
       "      <td>6800000.0</td>\n",
       "      <td>/organization/ameritech-college</td>\n",
       "      <td>AmeriTech College</td>\n",
       "      <td>http://www.ameritech.edu</td>\n",
       "      <td>Education</td>\n",
       "      <td>operating</td>\n",
       "      <td>USA</td>\n",
       "      <td>UT</td>\n",
       "      <td>Salt Lake City</td>\n",
       "      <td>Provo</td>\n",
       "      <td>01-01-1979</td>\n",
       "      <td>Education</td>\n",
       "      <td>Others</td>\n",
       "    </tr>\n",
       "    <tr>\n",
       "      <th>16</th>\n",
       "      <td>/organization/bloomboard</td>\n",
       "      <td>/funding-round/9380c9227215f55ff557231dea2b2f47</td>\n",
       "      <td>venture</td>\n",
       "      <td>A</td>\n",
       "      <td>04-09-2013</td>\n",
       "      <td>5000000.0</td>\n",
       "      <td>/organization/bloomboard</td>\n",
       "      <td>BloomBoard</td>\n",
       "      <td>http://www.bloomboard.com</td>\n",
       "      <td>Education</td>\n",
       "      <td>operating</td>\n",
       "      <td>USA</td>\n",
       "      <td>CA</td>\n",
       "      <td>SF Bay Area</td>\n",
       "      <td>Palo Alto</td>\n",
       "      <td>10-03-2010</td>\n",
       "      <td>Education</td>\n",
       "      <td>Others</td>\n",
       "    </tr>\n",
       "    <tr>\n",
       "      <th>20</th>\n",
       "      <td>/organization/chromatik</td>\n",
       "      <td>/funding-round/8d0785c6eca54d42132a8253d2ae5b7b</td>\n",
       "      <td>venture</td>\n",
       "      <td>A</td>\n",
       "      <td>08-05-2013</td>\n",
       "      <td>5700000.0</td>\n",
       "      <td>/organization/chromatik</td>\n",
       "      <td>Chromatik</td>\n",
       "      <td>http://www.chromatik.com</td>\n",
       "      <td>Education</td>\n",
       "      <td>operating</td>\n",
       "      <td>USA</td>\n",
       "      <td>CA</td>\n",
       "      <td>Los Angeles</td>\n",
       "      <td>Santa Monica</td>\n",
       "      <td>01-01-2010</td>\n",
       "      <td>Education</td>\n",
       "      <td>Others</td>\n",
       "    </tr>\n",
       "    <tr>\n",
       "      <th>23</th>\n",
       "      <td>/organization/college-book-renter</td>\n",
       "      <td>/funding-round/e5e93ea276221593ab2dbdf5de90737e</td>\n",
       "      <td>venture</td>\n",
       "      <td>A</td>\n",
       "      <td>06-07-2010</td>\n",
       "      <td>10000000.0</td>\n",
       "      <td>/organization/college-book-renter</td>\n",
       "      <td>College Book Renter</td>\n",
       "      <td>http://www.collegebookrenter.com</td>\n",
       "      <td>Education</td>\n",
       "      <td>operating</td>\n",
       "      <td>USA</td>\n",
       "      <td>KY</td>\n",
       "      <td>KY - Other</td>\n",
       "      <td>Murray</td>\n",
       "      <td>01-05-2009</td>\n",
       "      <td>Education</td>\n",
       "      <td>Others</td>\n",
       "    </tr>\n",
       "  </tbody>\n",
       "</table>\n",
       "</div>"
      ],
      "text/plain": [
       "                    company_permalink  \\\n",
       "1       /organization/all-def-digital   \n",
       "12    /organization/ameritech-college   \n",
       "16           /organization/bloomboard   \n",
       "20            /organization/chromatik   \n",
       "23  /organization/college-book-renter   \n",
       "\n",
       "                            funding_round_permalink funding_round_type  \\\n",
       "1   /funding-round/452a2342fe720285c3b92e9bd927d9ba            venture   \n",
       "12  /funding-round/0410d9fe5d897489ef02022c0784af43            venture   \n",
       "16  /funding-round/9380c9227215f55ff557231dea2b2f47            venture   \n",
       "20  /funding-round/8d0785c6eca54d42132a8253d2ae5b7b            venture   \n",
       "23  /funding-round/e5e93ea276221593ab2dbdf5de90737e            venture   \n",
       "\n",
       "   funding_round_code   funded_at  raised_amount_usd  \\\n",
       "1                   A  06-08-2014          5000000.0   \n",
       "12                NaN  15-03-2012          6800000.0   \n",
       "16                  A  04-09-2013          5000000.0   \n",
       "20                  A  08-05-2013          5700000.0   \n",
       "23                  A  06-07-2010         10000000.0   \n",
       "\n",
       "                            permalink                 name  \\\n",
       "1       /organization/all-def-digital      All Def Digital   \n",
       "12    /organization/ameritech-college    AmeriTech College   \n",
       "16           /organization/bloomboard           BloomBoard   \n",
       "20            /organization/chromatik            Chromatik   \n",
       "23  /organization/college-book-renter  College Book Renter   \n",
       "\n",
       "                        homepage_url category_list     status country_code  \\\n",
       "1           http://alldefdigital.com         Media  operating          USA   \n",
       "12          http://www.ameritech.edu     Education  operating          USA   \n",
       "16         http://www.bloomboard.com     Education  operating          USA   \n",
       "20          http://www.chromatik.com     Education  operating          USA   \n",
       "23  http://www.collegebookrenter.com     Education  operating          USA   \n",
       "\n",
       "   state_code          region          city  founded_at primary sector  \\\n",
       "1          CA     Los Angeles   Los Angeles         NaN          Media   \n",
       "12         UT  Salt Lake City         Provo  01-01-1979      Education   \n",
       "16         CA     SF Bay Area     Palo Alto  10-03-2010      Education   \n",
       "20         CA     Los Angeles  Santa Monica  01-01-2010      Education   \n",
       "23         KY      KY - Other        Murray  01-05-2009      Education   \n",
       "\n",
       "      main_sector  \n",
       "1   Entertainment  \n",
       "12         Others  \n",
       "16         Others  \n",
       "20         Others  \n",
       "23         Others  "
      ]
     },
     "execution_count": 30,
     "metadata": {},
     "output_type": "execute_result"
    }
   ],
   "source": [
    "D1=final_dfmod[(final_dfmod['country_code']==\"USA\") & (final_dfmod['raised_amount_usd']>=5000000.0) & (final_dfmod['raised_amount_usd']<=15000000.0)]\n",
    "D1.head()"
   ]
  },
  {
   "cell_type": "code",
   "execution_count": 31,
   "id": "c3865449",
   "metadata": {
    "execution": {
     "iopub.execute_input": "2022-04-07T15:36:25.768191Z",
     "iopub.status.busy": "2022-04-07T15:36:25.767185Z",
     "iopub.status.idle": "2022-04-07T15:36:25.792944Z",
     "shell.execute_reply": "2022-04-07T15:36:25.793564Z",
     "shell.execute_reply.started": "2022-04-07T15:32:22.754602Z"
    },
    "papermill": {
     "duration": 0.107864,
     "end_time": "2022-04-07T15:36:25.793753",
     "exception": false,
     "start_time": "2022-04-07T15:36:25.685889",
     "status": "completed"
    },
    "tags": []
   },
   "outputs": [
    {
     "data": {
      "text/html": [
       "<div>\n",
       "<style scoped>\n",
       "    .dataframe tbody tr th:only-of-type {\n",
       "        vertical-align: middle;\n",
       "    }\n",
       "\n",
       "    .dataframe tbody tr th {\n",
       "        vertical-align: top;\n",
       "    }\n",
       "\n",
       "    .dataframe thead th {\n",
       "        text-align: right;\n",
       "    }\n",
       "</style>\n",
       "<table border=\"1\" class=\"dataframe\">\n",
       "  <thead>\n",
       "    <tr style=\"text-align: right;\">\n",
       "      <th></th>\n",
       "      <th>company_permalink</th>\n",
       "      <th>funding_round_permalink</th>\n",
       "      <th>funding_round_type</th>\n",
       "      <th>funding_round_code</th>\n",
       "      <th>funded_at</th>\n",
       "      <th>raised_amount_usd</th>\n",
       "      <th>permalink</th>\n",
       "      <th>name</th>\n",
       "      <th>homepage_url</th>\n",
       "      <th>category_list</th>\n",
       "      <th>status</th>\n",
       "      <th>country_code</th>\n",
       "      <th>state_code</th>\n",
       "      <th>region</th>\n",
       "      <th>city</th>\n",
       "      <th>founded_at</th>\n",
       "      <th>primary sector</th>\n",
       "      <th>main_sector</th>\n",
       "    </tr>\n",
       "  </thead>\n",
       "  <tbody>\n",
       "    <tr>\n",
       "      <th>185</th>\n",
       "      <td>/organization/famecount</td>\n",
       "      <td>/funding-round/f9e03800d455fd03294b3978c4ca84da</td>\n",
       "      <td>venture</td>\n",
       "      <td>NaN</td>\n",
       "      <td>11-11-2014</td>\n",
       "      <td>7464266.0</td>\n",
       "      <td>/organization/famecount</td>\n",
       "      <td>Starcount</td>\n",
       "      <td>http://www.starcount.com/</td>\n",
       "      <td>Curated Web</td>\n",
       "      <td>operating</td>\n",
       "      <td>GBR</td>\n",
       "      <td>E2</td>\n",
       "      <td>London</td>\n",
       "      <td>Brighton</td>\n",
       "      <td>01-01-2010</td>\n",
       "      <td>Curated Web</td>\n",
       "      <td>News, Search and Messaging</td>\n",
       "    </tr>\n",
       "    <tr>\n",
       "      <th>262</th>\n",
       "      <td>/organization/naked-wines</td>\n",
       "      <td>/funding-round/5e52e9058e28a00f13a9347d18bc7f2f</td>\n",
       "      <td>venture</td>\n",
       "      <td>C</td>\n",
       "      <td>22-08-2013</td>\n",
       "      <td>10000000.0</td>\n",
       "      <td>/organization/naked-wines</td>\n",
       "      <td>Naked Wines</td>\n",
       "      <td>http://www.nakedwines.com</td>\n",
       "      <td>Curated Web</td>\n",
       "      <td>operating</td>\n",
       "      <td>GBR</td>\n",
       "      <td>I9</td>\n",
       "      <td>London</td>\n",
       "      <td>Norwich</td>\n",
       "      <td>01-01-2008</td>\n",
       "      <td>Curated Web</td>\n",
       "      <td>News, Search and Messaging</td>\n",
       "    </tr>\n",
       "    <tr>\n",
       "      <th>278</th>\n",
       "      <td>/organization/passado</td>\n",
       "      <td>/funding-round/1f6f11557c657cca43e13cbbd6eb7113</td>\n",
       "      <td>venture</td>\n",
       "      <td>NaN</td>\n",
       "      <td>14-12-2006</td>\n",
       "      <td>13200000.0</td>\n",
       "      <td>/organization/passado</td>\n",
       "      <td>Passado</td>\n",
       "      <td>NaN</td>\n",
       "      <td>Curated Web</td>\n",
       "      <td>operating</td>\n",
       "      <td>GBR</td>\n",
       "      <td>H9</td>\n",
       "      <td>London</td>\n",
       "      <td>London</td>\n",
       "      <td>01-01-2001</td>\n",
       "      <td>Curated Web</td>\n",
       "      <td>News, Search and Messaging</td>\n",
       "    </tr>\n",
       "    <tr>\n",
       "      <th>464</th>\n",
       "      <td>/organization/aomi</td>\n",
       "      <td>/funding-round/ddf503a408ed1025d1b1b6cffaed0956</td>\n",
       "      <td>venture</td>\n",
       "      <td>NaN</td>\n",
       "      <td>18-03-2014</td>\n",
       "      <td>7576257.0</td>\n",
       "      <td>/organization/aomi</td>\n",
       "      <td>AOMi</td>\n",
       "      <td>http://activeops.com</td>\n",
       "      <td>Software</td>\n",
       "      <td>operating</td>\n",
       "      <td>GBR</td>\n",
       "      <td>K7</td>\n",
       "      <td>London</td>\n",
       "      <td>Reading</td>\n",
       "      <td>01-01-2005</td>\n",
       "      <td>Software</td>\n",
       "      <td>Others</td>\n",
       "    </tr>\n",
       "    <tr>\n",
       "      <th>541</th>\n",
       "      <td>/organization/azure-solutions</td>\n",
       "      <td>/funding-round/adb99f479490e33281ab358ba9da2b29</td>\n",
       "      <td>venture</td>\n",
       "      <td>NaN</td>\n",
       "      <td>16-06-2005</td>\n",
       "      <td>15000000.0</td>\n",
       "      <td>/organization/azure-solutions</td>\n",
       "      <td>Azure Solutions</td>\n",
       "      <td>http://www.azuresolutions.com</td>\n",
       "      <td>Software</td>\n",
       "      <td>acquired</td>\n",
       "      <td>GBR</td>\n",
       "      <td>H9</td>\n",
       "      <td>London</td>\n",
       "      <td>London</td>\n",
       "      <td>NaN</td>\n",
       "      <td>Software</td>\n",
       "      <td>Others</td>\n",
       "    </tr>\n",
       "  </tbody>\n",
       "</table>\n",
       "</div>"
      ],
      "text/plain": [
       "                 company_permalink  \\\n",
       "185        /organization/famecount   \n",
       "262      /organization/naked-wines   \n",
       "278          /organization/passado   \n",
       "464             /organization/aomi   \n",
       "541  /organization/azure-solutions   \n",
       "\n",
       "                             funding_round_permalink funding_round_type  \\\n",
       "185  /funding-round/f9e03800d455fd03294b3978c4ca84da            venture   \n",
       "262  /funding-round/5e52e9058e28a00f13a9347d18bc7f2f            venture   \n",
       "278  /funding-round/1f6f11557c657cca43e13cbbd6eb7113            venture   \n",
       "464  /funding-round/ddf503a408ed1025d1b1b6cffaed0956            venture   \n",
       "541  /funding-round/adb99f479490e33281ab358ba9da2b29            venture   \n",
       "\n",
       "    funding_round_code   funded_at  raised_amount_usd  \\\n",
       "185                NaN  11-11-2014          7464266.0   \n",
       "262                  C  22-08-2013         10000000.0   \n",
       "278                NaN  14-12-2006         13200000.0   \n",
       "464                NaN  18-03-2014          7576257.0   \n",
       "541                NaN  16-06-2005         15000000.0   \n",
       "\n",
       "                         permalink             name  \\\n",
       "185        /organization/famecount        Starcount   \n",
       "262      /organization/naked-wines      Naked Wines   \n",
       "278          /organization/passado          Passado   \n",
       "464             /organization/aomi             AOMi   \n",
       "541  /organization/azure-solutions  Azure Solutions   \n",
       "\n",
       "                      homepage_url category_list     status country_code  \\\n",
       "185      http://www.starcount.com/   Curated Web  operating          GBR   \n",
       "262      http://www.nakedwines.com   Curated Web  operating          GBR   \n",
       "278                            NaN   Curated Web  operating          GBR   \n",
       "464           http://activeops.com      Software  operating          GBR   \n",
       "541  http://www.azuresolutions.com      Software   acquired          GBR   \n",
       "\n",
       "    state_code  region      city  founded_at primary sector  \\\n",
       "185         E2  London  Brighton  01-01-2010    Curated Web   \n",
       "262         I9  London   Norwich  01-01-2008    Curated Web   \n",
       "278         H9  London    London  01-01-2001    Curated Web   \n",
       "464         K7  London   Reading  01-01-2005       Software   \n",
       "541         H9  London    London         NaN       Software   \n",
       "\n",
       "                    main_sector  \n",
       "185  News, Search and Messaging  \n",
       "262  News, Search and Messaging  \n",
       "278  News, Search and Messaging  \n",
       "464                      Others  \n",
       "541                      Others  "
      ]
     },
     "execution_count": 31,
     "metadata": {},
     "output_type": "execute_result"
    }
   ],
   "source": [
    "D2=final_dfmod[(final_dfmod['country_code']==\"GBR\") & (final_dfmod['raised_amount_usd']>=5000000.0) & (final_dfmod['raised_amount_usd']<=15000000.0)]\n",
    "D2.head()"
   ]
  },
  {
   "cell_type": "code",
   "execution_count": 32,
   "id": "9ff53483",
   "metadata": {
    "execution": {
     "iopub.execute_input": "2022-04-07T15:36:25.966509Z",
     "iopub.status.busy": "2022-04-07T15:36:25.965409Z",
     "iopub.status.idle": "2022-04-07T15:36:25.987147Z",
     "shell.execute_reply": "2022-04-07T15:36:25.986507Z",
     "shell.execute_reply.started": "2022-04-07T15:32:29.079653Z"
    },
    "papermill": {
     "duration": 0.111935,
     "end_time": "2022-04-07T15:36:25.987325",
     "exception": false,
     "start_time": "2022-04-07T15:36:25.875390",
     "status": "completed"
    },
    "tags": []
   },
   "outputs": [
    {
     "data": {
      "text/html": [
       "<div>\n",
       "<style scoped>\n",
       "    .dataframe tbody tr th:only-of-type {\n",
       "        vertical-align: middle;\n",
       "    }\n",
       "\n",
       "    .dataframe tbody tr th {\n",
       "        vertical-align: top;\n",
       "    }\n",
       "\n",
       "    .dataframe thead th {\n",
       "        text-align: right;\n",
       "    }\n",
       "</style>\n",
       "<table border=\"1\" class=\"dataframe\">\n",
       "  <thead>\n",
       "    <tr style=\"text-align: right;\">\n",
       "      <th></th>\n",
       "      <th>company_permalink</th>\n",
       "      <th>funding_round_permalink</th>\n",
       "      <th>funding_round_type</th>\n",
       "      <th>funding_round_code</th>\n",
       "      <th>funded_at</th>\n",
       "      <th>raised_amount_usd</th>\n",
       "      <th>permalink</th>\n",
       "      <th>name</th>\n",
       "      <th>homepage_url</th>\n",
       "      <th>category_list</th>\n",
       "      <th>status</th>\n",
       "      <th>country_code</th>\n",
       "      <th>state_code</th>\n",
       "      <th>region</th>\n",
       "      <th>city</th>\n",
       "      <th>founded_at</th>\n",
       "      <th>primary sector</th>\n",
       "      <th>main_sector</th>\n",
       "    </tr>\n",
       "  </thead>\n",
       "  <tbody>\n",
       "    <tr>\n",
       "      <th>0</th>\n",
       "      <td>/organization/-fame</td>\n",
       "      <td>/funding-round/9a01d05418af9f794eebff7ace91f638</td>\n",
       "      <td>venture</td>\n",
       "      <td>B</td>\n",
       "      <td>05-01-2015</td>\n",
       "      <td>10000000.0</td>\n",
       "      <td>/organization/-fame</td>\n",
       "      <td>#fame</td>\n",
       "      <td>http://livfame.com</td>\n",
       "      <td>Media</td>\n",
       "      <td>operating</td>\n",
       "      <td>IND</td>\n",
       "      <td>16</td>\n",
       "      <td>Mumbai</td>\n",
       "      <td>Mumbai</td>\n",
       "      <td>NaN</td>\n",
       "      <td>Media</td>\n",
       "      <td>Entertainment</td>\n",
       "    </tr>\n",
       "    <tr>\n",
       "      <th>42</th>\n",
       "      <td>/organization/iprof-learning-solutions</td>\n",
       "      <td>/funding-round/0b08b0e63e79c8d76d2b37e8425009da</td>\n",
       "      <td>venture</td>\n",
       "      <td>B</td>\n",
       "      <td>23-01-2014</td>\n",
       "      <td>9000000.0</td>\n",
       "      <td>/organization/iprof-learning-solutions</td>\n",
       "      <td>iProf Learning Solutions</td>\n",
       "      <td>http://iprofindia.com</td>\n",
       "      <td>Education</td>\n",
       "      <td>operating</td>\n",
       "      <td>IND</td>\n",
       "      <td>36</td>\n",
       "      <td>New Delhi</td>\n",
       "      <td>Noida</td>\n",
       "      <td>01-01-2009</td>\n",
       "      <td>Education</td>\n",
       "      <td>Others</td>\n",
       "    </tr>\n",
       "    <tr>\n",
       "      <th>92</th>\n",
       "      <td>/organization/vriti-infocom</td>\n",
       "      <td>/funding-round/67aac706a82108fc0f6068901b6293e2</td>\n",
       "      <td>venture</td>\n",
       "      <td>B</td>\n",
       "      <td>25-08-2010</td>\n",
       "      <td>5000000.0</td>\n",
       "      <td>/organization/vriti-infocom</td>\n",
       "      <td>Vriti Infocom</td>\n",
       "      <td>http://www.vriti.com</td>\n",
       "      <td>Education</td>\n",
       "      <td>operating</td>\n",
       "      <td>IND</td>\n",
       "      <td>36</td>\n",
       "      <td>New Delhi</td>\n",
       "      <td>Noida</td>\n",
       "      <td>NaN</td>\n",
       "      <td>Education</td>\n",
       "      <td>Others</td>\n",
       "    </tr>\n",
       "    <tr>\n",
       "      <th>132</th>\n",
       "      <td>/organization/bluestone-com</td>\n",
       "      <td>/funding-round/452a7fc1f34df2d3dcda4e28234bc671</td>\n",
       "      <td>venture</td>\n",
       "      <td>A</td>\n",
       "      <td>24-01-2012</td>\n",
       "      <td>5000000.0</td>\n",
       "      <td>/organization/bluestone-com</td>\n",
       "      <td>Bluestone.com</td>\n",
       "      <td>http://bluestone.com</td>\n",
       "      <td>Curated Web</td>\n",
       "      <td>operating</td>\n",
       "      <td>IND</td>\n",
       "      <td>19</td>\n",
       "      <td>Bangalore</td>\n",
       "      <td>Bangalore</td>\n",
       "      <td>01-01-2011</td>\n",
       "      <td>Curated Web</td>\n",
       "      <td>News, Search and Messaging</td>\n",
       "    </tr>\n",
       "    <tr>\n",
       "      <th>195</th>\n",
       "      <td>/organization/fourinteractive</td>\n",
       "      <td>/funding-round/a0ef5f6e0c69a9060c1649c076999336</td>\n",
       "      <td>venture</td>\n",
       "      <td>B</td>\n",
       "      <td>01-09-2007</td>\n",
       "      <td>10000000.0</td>\n",
       "      <td>/organization/fourinteractive</td>\n",
       "      <td>Four Interactive</td>\n",
       "      <td>http://www.fourint.com</td>\n",
       "      <td>Curated Web</td>\n",
       "      <td>operating</td>\n",
       "      <td>IND</td>\n",
       "      <td>19</td>\n",
       "      <td>Bangalore</td>\n",
       "      <td>Bangalore</td>\n",
       "      <td>01-01-2006</td>\n",
       "      <td>Curated Web</td>\n",
       "      <td>News, Search and Messaging</td>\n",
       "    </tr>\n",
       "  </tbody>\n",
       "</table>\n",
       "</div>"
      ],
      "text/plain": [
       "                          company_permalink  \\\n",
       "0                       /organization/-fame   \n",
       "42   /organization/iprof-learning-solutions   \n",
       "92              /organization/vriti-infocom   \n",
       "132             /organization/bluestone-com   \n",
       "195           /organization/fourinteractive   \n",
       "\n",
       "                             funding_round_permalink funding_round_type  \\\n",
       "0    /funding-round/9a01d05418af9f794eebff7ace91f638            venture   \n",
       "42   /funding-round/0b08b0e63e79c8d76d2b37e8425009da            venture   \n",
       "92   /funding-round/67aac706a82108fc0f6068901b6293e2            venture   \n",
       "132  /funding-round/452a7fc1f34df2d3dcda4e28234bc671            venture   \n",
       "195  /funding-round/a0ef5f6e0c69a9060c1649c076999336            venture   \n",
       "\n",
       "    funding_round_code   funded_at  raised_amount_usd  \\\n",
       "0                    B  05-01-2015         10000000.0   \n",
       "42                   B  23-01-2014          9000000.0   \n",
       "92                   B  25-08-2010          5000000.0   \n",
       "132                  A  24-01-2012          5000000.0   \n",
       "195                  B  01-09-2007         10000000.0   \n",
       "\n",
       "                                  permalink                      name  \\\n",
       "0                       /organization/-fame                     #fame   \n",
       "42   /organization/iprof-learning-solutions  iProf Learning Solutions   \n",
       "92              /organization/vriti-infocom             Vriti Infocom   \n",
       "132             /organization/bluestone-com             Bluestone.com   \n",
       "195           /organization/fourinteractive          Four Interactive   \n",
       "\n",
       "               homepage_url category_list     status country_code state_code  \\\n",
       "0        http://livfame.com         Media  operating          IND         16   \n",
       "42    http://iprofindia.com     Education  operating          IND         36   \n",
       "92     http://www.vriti.com     Education  operating          IND         36   \n",
       "132    http://bluestone.com   Curated Web  operating          IND         19   \n",
       "195  http://www.fourint.com   Curated Web  operating          IND         19   \n",
       "\n",
       "        region       city  founded_at primary sector  \\\n",
       "0       Mumbai     Mumbai         NaN          Media   \n",
       "42   New Delhi      Noida  01-01-2009      Education   \n",
       "92   New Delhi      Noida         NaN      Education   \n",
       "132  Bangalore  Bangalore  01-01-2011    Curated Web   \n",
       "195  Bangalore  Bangalore  01-01-2006    Curated Web   \n",
       "\n",
       "                    main_sector  \n",
       "0                 Entertainment  \n",
       "42                       Others  \n",
       "92                       Others  \n",
       "132  News, Search and Messaging  \n",
       "195  News, Search and Messaging  "
      ]
     },
     "execution_count": 32,
     "metadata": {},
     "output_type": "execute_result"
    }
   ],
   "source": [
    "D3=final_dfmod[(final_dfmod['country_code']==\"IND\") & (final_dfmod['raised_amount_usd']>=5000000.0) & (final_dfmod['raised_amount_usd']<=15000000.0)]\n",
    "D3.head()"
   ]
  },
  {
   "cell_type": "markdown",
   "id": "6aa59579",
   "metadata": {
    "papermill": {
     "duration": 0.080591,
     "end_time": "2022-04-07T15:36:26.151340",
     "exception": false,
     "start_time": "2022-04-07T15:36:26.070749",
     "status": "completed"
    },
    "tags": []
   },
   "source": [
    "Calculating total number of investments and the total amount of investments in each sector for each of the three countries\n",
    "1. Analyzing total sum of investments made in each main sector"
   ]
  },
  {
   "cell_type": "code",
   "execution_count": 33,
   "id": "4ab1d1c3",
   "metadata": {
    "execution": {
     "iopub.execute_input": "2022-04-07T15:36:26.321380Z",
     "iopub.status.busy": "2022-04-07T15:36:26.320644Z",
     "iopub.status.idle": "2022-04-07T15:36:26.327951Z",
     "shell.execute_reply": "2022-04-07T15:36:26.328391Z",
     "shell.execute_reply.started": "2022-04-07T15:32:42.674868Z"
    },
    "papermill": {
     "duration": 0.0967,
     "end_time": "2022-04-07T15:36:26.328580",
     "exception": false,
     "start_time": "2022-04-07T15:36:26.231880",
     "status": "completed"
    },
    "tags": []
   },
   "outputs": [
    {
     "data": {
      "text/plain": [
       "main_sector\n",
       "Others                                     8.585802e+09\n",
       "Cleantech / Semiconductors                 6.128673e+09\n",
       "News, Search and Messaging                 2.249236e+09\n",
       "Health                                     2.051889e+09\n",
       "Manufacturing                              1.873957e+09\n",
       "Social, Finance, Analytics, Advertising    1.311411e+09\n",
       "Entertainment                              9.110277e+08\n",
       "Automotive & Sports                        2.250658e+08\n",
       "Name: raised_amount_usd, dtype: float64"
      ]
     },
     "execution_count": 33,
     "metadata": {},
     "output_type": "execute_result"
    }
   ],
   "source": [
    "D1['main_sector'].value_counts()\n",
    "d1_invest=D1.groupby(by='main_sector')['raised_amount_usd'].sum()\n",
    "d1_invest.sort_values(ascending=False)"
   ]
  },
  {
   "cell_type": "markdown",
   "id": "385c9ed9",
   "metadata": {
    "papermill": {
     "duration": 0.080118,
     "end_time": "2022-04-07T15:36:26.489668",
     "exception": false,
     "start_time": "2022-04-07T15:36:26.409550",
     "status": "completed"
    },
    "tags": []
   },
   "source": [
    "2. Analyzing number of investments made in each main sector."
   ]
  },
  {
   "cell_type": "code",
   "execution_count": 34,
   "id": "96678ac0",
   "metadata": {
    "execution": {
     "iopub.execute_input": "2022-04-07T15:36:26.656418Z",
     "iopub.status.busy": "2022-04-07T15:36:26.655348Z",
     "iopub.status.idle": "2022-04-07T15:36:26.661688Z",
     "shell.execute_reply": "2022-04-07T15:36:26.662249Z",
     "shell.execute_reply.started": "2022-04-07T15:32:55.317586Z"
    },
    "papermill": {
     "duration": 0.09188,
     "end_time": "2022-04-07T15:36:26.662414",
     "exception": false,
     "start_time": "2022-04-07T15:36:26.570534",
     "status": "completed"
    },
    "tags": []
   },
   "outputs": [
    {
     "data": {
      "text/plain": [
       "Others                                     985\n",
       "Cleantech / Semiconductors                 678\n",
       "News, Search and Messaging                 263\n",
       "Health                                     239\n",
       "Manufacturing                              209\n",
       "Social, Finance, Analytics, Advertising    160\n",
       "Entertainment                              107\n",
       "Automotive & Sports                         28\n",
       "Name: main_sector, dtype: int64"
      ]
     },
     "execution_count": 34,
     "metadata": {},
     "output_type": "execute_result"
    }
   ],
   "source": [
    "D1['main_sector'].value_counts()"
   ]
  },
  {
   "cell_type": "markdown",
   "id": "fa72efe8",
   "metadata": {
    "execution": {
     "iopub.execute_input": "2022-04-07T15:33:02.456670Z",
     "iopub.status.busy": "2022-04-07T15:33:02.456102Z",
     "iopub.status.idle": "2022-04-07T15:33:02.461544Z",
     "shell.execute_reply": "2022-04-07T15:33:02.460753Z",
     "shell.execute_reply.started": "2022-04-07T15:33:02.456633Z"
    },
    "papermill": {
     "duration": 0.082156,
     "end_time": "2022-04-07T15:36:26.825184",
     "exception": false,
     "start_time": "2022-04-07T15:36:26.743028",
     "status": "completed"
    },
    "tags": []
   },
   "source": [
    "Similarly analyzing total number of investments and the total amount of investments in each sector for both countries GBR and IND"
   ]
  },
  {
   "cell_type": "code",
   "execution_count": 35,
   "id": "a2166b8d",
   "metadata": {
    "execution": {
     "iopub.execute_input": "2022-04-07T15:36:26.993138Z",
     "iopub.status.busy": "2022-04-07T15:36:26.992147Z",
     "iopub.status.idle": "2022-04-07T15:36:27.002132Z",
     "shell.execute_reply": "2022-04-07T15:36:27.002750Z",
     "shell.execute_reply.started": "2022-04-07T15:33:10.285214Z"
    },
    "papermill": {
     "duration": 0.096581,
     "end_time": "2022-04-07T15:36:27.002922",
     "exception": false,
     "start_time": "2022-04-07T15:36:26.906341",
     "status": "completed"
    },
    "tags": []
   },
   "outputs": [
    {
     "data": {
      "text/plain": [
       "main_sector\n",
       "Cleantech / Semiconductors                 597888785.0\n",
       "Others                                     554435068.0\n",
       "Manufacturing                              149294371.0\n",
       "News, Search and Messaging                 145064022.0\n",
       "Entertainment                              132335292.0\n",
       "Social, Finance, Analytics, Advertising    121609201.0\n",
       "Health                                      55348215.0\n",
       "Automotive & Sports                          9345794.0\n",
       "Name: raised_amount_usd, dtype: float64"
      ]
     },
     "execution_count": 35,
     "metadata": {},
     "output_type": "execute_result"
    }
   ],
   "source": [
    "D2['main_sector'].value_counts()\n",
    "d2_invest=D2.groupby(by='main_sector')['raised_amount_usd'].sum()\n",
    "d2_invest.sort_values(ascending=False)"
   ]
  },
  {
   "cell_type": "code",
   "execution_count": 36,
   "id": "585a3d40",
   "metadata": {
    "execution": {
     "iopub.execute_input": "2022-04-07T15:36:27.171343Z",
     "iopub.status.busy": "2022-04-07T15:36:27.170364Z",
     "iopub.status.idle": "2022-04-07T15:36:27.177787Z",
     "shell.execute_reply": "2022-04-07T15:36:27.178376Z",
     "shell.execute_reply.started": "2022-04-07T15:33:15.540859Z"
    },
    "papermill": {
     "duration": 0.092927,
     "end_time": "2022-04-07T15:36:27.178570",
     "exception": false,
     "start_time": "2022-04-07T15:36:27.085643",
     "status": "completed"
    },
    "tags": []
   },
   "outputs": [
    {
     "data": {
      "text/plain": [
       "Cleantech / Semiconductors                 68\n",
       "Others                                     64\n",
       "News, Search and Messaging                 16\n",
       "Manufacturing                              16\n",
       "Entertainment                              15\n",
       "Social, Finance, Analytics, Advertising    13\n",
       "Health                                      7\n",
       "Automotive & Sports                         1\n",
       "Name: main_sector, dtype: int64"
      ]
     },
     "execution_count": 36,
     "metadata": {},
     "output_type": "execute_result"
    }
   ],
   "source": [
    "D2['main_sector'].value_counts()"
   ]
  },
  {
   "cell_type": "code",
   "execution_count": 37,
   "id": "137568b1",
   "metadata": {
    "execution": {
     "iopub.execute_input": "2022-04-07T15:36:27.345513Z",
     "iopub.status.busy": "2022-04-07T15:36:27.344513Z",
     "iopub.status.idle": "2022-04-07T15:36:27.354392Z",
     "shell.execute_reply": "2022-04-07T15:36:27.354969Z",
     "shell.execute_reply.started": "2022-04-07T15:33:21.137034Z"
    },
    "papermill": {
     "duration": 0.094845,
     "end_time": "2022-04-07T15:36:27.355140",
     "exception": false,
     "start_time": "2022-04-07T15:36:27.260295",
     "status": "completed"
    },
    "tags": []
   },
   "outputs": [
    {
     "data": {
      "text/plain": [
       "main_sector\n",
       "Others                                     355219507.0\n",
       "News, Search and Messaging                 144118770.0\n",
       "Entertainment                              134750000.0\n",
       "Manufacturing                              101700000.0\n",
       "Social, Finance, Analytics, Advertising     65540000.0\n",
       "Health                                      53360000.0\n",
       "Cleantech / Semiconductors                  44430000.0\n",
       "Automotive & Sports                         21400000.0\n",
       "Name: raised_amount_usd, dtype: float64"
      ]
     },
     "execution_count": 37,
     "metadata": {},
     "output_type": "execute_result"
    }
   ],
   "source": [
    "D3['main_sector'].value_counts()\n",
    "d3_invest=D3.groupby(by='main_sector')['raised_amount_usd'].sum()\n",
    "d3_invest.sort_values(ascending=False)"
   ]
  },
  {
   "cell_type": "code",
   "execution_count": 38,
   "id": "c4355c22",
   "metadata": {
    "execution": {
     "iopub.execute_input": "2022-04-07T15:36:27.523407Z",
     "iopub.status.busy": "2022-04-07T15:36:27.522436Z",
     "iopub.status.idle": "2022-04-07T15:36:27.529636Z",
     "shell.execute_reply": "2022-04-07T15:36:27.530217Z",
     "shell.execute_reply.started": "2022-04-07T15:33:27.068678Z"
    },
    "papermill": {
     "duration": 0.093215,
     "end_time": "2022-04-07T15:36:27.530380",
     "exception": false,
     "start_time": "2022-04-07T15:36:27.437165",
     "status": "completed"
    },
    "tags": []
   },
   "outputs": [
    {
     "data": {
      "text/plain": [
       "Others                                     42\n",
       "News, Search and Messaging                 17\n",
       "Entertainment                              15\n",
       "Manufacturing                              10\n",
       "Social, Finance, Analytics, Advertising     8\n",
       "Cleantech / Semiconductors                  7\n",
       "Health                                      7\n",
       "Automotive & Sports                         2\n",
       "Name: main_sector, dtype: int64"
      ]
     },
     "execution_count": 38,
     "metadata": {},
     "output_type": "execute_result"
    }
   ],
   "source": [
    "D3['main_sector'].value_counts()"
   ]
  },
  {
   "cell_type": "markdown",
   "id": "2835e3cb",
   "metadata": {
    "execution": {
     "iopub.execute_input": "2022-04-07T15:33:32.790864Z",
     "iopub.status.busy": "2022-04-07T15:33:32.790616Z",
     "iopub.status.idle": "2022-04-07T15:33:32.795658Z",
     "shell.execute_reply": "2022-04-07T15:33:32.794953Z",
     "shell.execute_reply.started": "2022-04-07T15:33:32.790838Z"
    },
    "papermill": {
     "duration": 0.082149,
     "end_time": "2022-04-07T15:36:27.694864",
     "exception": false,
     "start_time": "2022-04-07T15:36:27.612715",
     "status": "completed"
    },
    "tags": []
   },
   "source": [
    "Sector-wise Investment Analysis for each country: USA, GBR, IND"
   ]
  },
  {
   "cell_type": "code",
   "execution_count": 39,
   "id": "4f471236",
   "metadata": {
    "execution": {
     "iopub.execute_input": "2022-04-07T15:36:27.865259Z",
     "iopub.status.busy": "2022-04-07T15:36:27.864196Z",
     "iopub.status.idle": "2022-04-07T15:36:27.875831Z",
     "shell.execute_reply": "2022-04-07T15:36:27.876388Z",
     "shell.execute_reply.started": "2022-04-07T15:33:43.506850Z"
    },
    "papermill": {
     "duration": 0.099456,
     "end_time": "2022-04-07T15:36:27.876577",
     "exception": false,
     "start_time": "2022-04-07T15:36:27.777121",
     "status": "completed"
    },
    "tags": []
   },
   "outputs": [],
   "source": [
    "def analysis(df):\n",
    "    #To calculate total number of investments (count)\n",
    "    ninvest=df['main_sector'].value_counts().sum()\n",
    "    \n",
    "    #To calculate total amount of investment (USD)\n",
    "    tinvest=df['raised_amount_usd'].sum()\n",
    "    \n",
    "    #Top sector (based on count of investments), top_key will give number of investments in top sector\n",
    "    #top_sec will give us name of the corresponding sector. Similarly, for second & third sector.\n",
    "    df_invest=df['main_sector'].value_counts()\n",
    "    top_key=df_invest.sort_values(ascending=False)[0]\n",
    "    top_sec=df_invest[df_invest == top_key].index[0]\n",
    "    \n",
    "    #Second-best sector (based on count of investments)\n",
    "    top2_key=df_invest.sort_values(ascending=False)[1]\n",
    "    top2_sec=df_invest[df_invest == top2_key].index[0]\n",
    "    \n",
    "    #third-best sector (based on count of investments)\n",
    "    top3_key=df_invest.sort_values(ascending=False)[2]\n",
    "    top3_sec=df_invest[df_invest == top3_key].index[0]\n",
    "    \n",
    "    #For the top sector count-wise, company receiving the highest investment?\n",
    "    df_top=df[df['main_sector'] == top_sec]\n",
    "    df_topc=df_top.groupby(by='company_permalink')['raised_amount_usd'].sum()\n",
    "    topc_key=df_topc.sort_values(ascending=False)[0]\n",
    "    top_com=df_topc[df_topc == topc_key].index[0]\n",
    "    topc_name=df[df['company_permalink']==top_com]['name'].unique()[0]\n",
    "    \n",
    "    #For the top sector count-wise, company receiving the highest investment?\n",
    "    df_top2=df[df['main_sector'] == top2_sec]\n",
    "    df_topc2=df_top2.groupby(by='company_permalink')['raised_amount_usd'].sum()\n",
    "    topc_key2=df_topc2.sort_values(ascending=False)[1]\n",
    "    top_com2=df_topc2[df_topc2 == topc_key2].index[0]\n",
    "    topc_name2=df[df['company_permalink']==top_com2]['name'].unique()[0]\n",
    "    \n",
    "    return ninvest,tinvest,top_sec,top2_sec,top3_sec,top_key,top2_key,top3_key,topc_name,topc_name2"
   ]
  },
  {
   "cell_type": "markdown",
   "id": "6520ebe9",
   "metadata": {
    "papermill": {
     "duration": 0.082745,
     "end_time": "2022-04-07T15:36:28.043517",
     "exception": false,
     "start_time": "2022-04-07T15:36:27.960772",
     "status": "completed"
    },
    "tags": []
   },
   "source": [
    "Investment Analysis Of Country C1: USA"
   ]
  },
  {
   "cell_type": "code",
   "execution_count": 40,
   "id": "c2772da4",
   "metadata": {
    "execution": {
     "iopub.execute_input": "2022-04-07T15:36:28.213243Z",
     "iopub.status.busy": "2022-04-07T15:36:28.212259Z",
     "iopub.status.idle": "2022-04-07T15:36:28.237601Z",
     "shell.execute_reply": "2022-04-07T15:36:28.238591Z",
     "shell.execute_reply.started": "2022-04-07T15:33:57.955772Z"
    },
    "papermill": {
     "duration": 0.112321,
     "end_time": "2022-04-07T15:36:28.238960",
     "exception": false,
     "start_time": "2022-04-07T15:36:28.126639",
     "status": "completed"
    },
    "tags": []
   },
   "outputs": [
    {
     "name": "stdout",
     "output_type": "stream",
     "text": [
      "Country 1 Details\n",
      "\n",
      "Total number of investments (count): 2669\n",
      "Total amount of investment (USD): 23337060222.0\n",
      "Top sector (based on count of investments): Others\n",
      "Second-best sector (based on count of investments): Cleantech / Semiconductors\n",
      "Third-best sector (based on count of investments): News, Search and Messaging\n",
      "Number of investments in the top sector: 985\n",
      "Number of investments in the second-best sector: 678\n",
      "Number of investments in the third-best sector: 263\n",
      "For the top sector count-wise, company receiving highest investment: 1stdibs\n",
      "For the second-best sector count-wise, receiving highest investment: 480 Biomedical\n"
     ]
    }
   ],
   "source": [
    "#Finding all varables through 'analysis' function and printing values for country1 (USA)\n",
    "ninvestc,tinvestc,topsec1_c1,topsec2_c1,topsec3_c1,ninvestsec1_c1,ninvestsec2_c1,ninvestsec3_c1,topseccom,topsec2com=analysis(D1)\n",
    "print('Country 1 Details\\n')\n",
    "print('Total number of investments (count):',ninvestc,end='\\n')\n",
    "print('Total amount of investment (USD):',tinvestc, end='\\n')\n",
    "print('Top sector (based on count of investments):',topsec1_c1,end='\\n')\n",
    "print('Second-best sector (based on count of investments):',topsec2_c1, end='\\n')\n",
    "print('Third-best sector (based on count of investments):',topsec3_c1,end='\\n')\n",
    "print('Number of investments in the top sector:',ninvestsec1_c1,end='\\n')\n",
    "print('Number of investments in the second-best sector:',ninvestsec2_c1,end='\\n')\n",
    "print('Number of investments in the third-best sector:',ninvestsec3_c1,end='\\n')\n",
    "print('For the top sector count-wise, company receiving highest investment:',topseccom,end='\\n')\n",
    "print('For the second-best sector count-wise, receiving highest investment:',topsec2com,end='\\n')"
   ]
  },
  {
   "cell_type": "markdown",
   "id": "38cc78a3",
   "metadata": {
    "papermill": {
     "duration": 0.082419,
     "end_time": "2022-04-07T15:36:28.406219",
     "exception": false,
     "start_time": "2022-04-07T15:36:28.323800",
     "status": "completed"
    },
    "tags": []
   },
   "source": [
    "Investment Analysis Of Country C2: GBR"
   ]
  },
  {
   "cell_type": "code",
   "execution_count": 41,
   "id": "d00eb7e6",
   "metadata": {
    "execution": {
     "iopub.execute_input": "2022-04-07T15:36:28.575786Z",
     "iopub.status.busy": "2022-04-07T15:36:28.574799Z",
     "iopub.status.idle": "2022-04-07T15:36:28.593705Z",
     "shell.execute_reply": "2022-04-07T15:36:28.594164Z",
     "shell.execute_reply.started": "2022-04-07T15:34:13.632182Z"
    },
    "papermill": {
     "duration": 0.105056,
     "end_time": "2022-04-07T15:36:28.594359",
     "exception": false,
     "start_time": "2022-04-07T15:36:28.489303",
     "status": "completed"
    },
    "tags": []
   },
   "outputs": [
    {
     "name": "stdout",
     "output_type": "stream",
     "text": [
      "Country 2 Details\n",
      "\n",
      "Total number of investments (count): 200\n",
      "Total amount of investment (USD): 1765320748.0\n",
      "Top sector (based on count of investments): Cleantech / Semiconductors\n",
      "Second-best sector (based on count of investments): Others\n",
      "Third-best sector (based on count of investments): News, Search and Messaging\n",
      "Number of investments in the top sector: 68\n",
      "Number of investments in the second-best sector: 64\n",
      "Number of investments in the third-best sector: 16\n",
      "For the top sector count-wise, company receiving highest investment: Elixent\n",
      "For the second-best sector count-wise, receiving highest investment: Azure Solutions\n"
     ]
    }
   ],
   "source": [
    "#Finding all varables through 'analysis' function and printing values for country2 (GBR)\n",
    "ninvestc,tinvestc,topsec1_c2,topsec2_c2,topsec3_c2,ninvestsec1_c2,ninvestsec2_c2,ninvestsec3_c2,topseccom,topsec2com=analysis(D2)\n",
    "print('Country 2 Details\\n')\n",
    "print('Total number of investments (count):',ninvestc,end='\\n')\n",
    "print('Total amount of investment (USD):',tinvestc, end='\\n')\n",
    "print('Top sector (based on count of investments):',topsec1_c2,end='\\n')\n",
    "print('Second-best sector (based on count of investments):',topsec2_c2, end='\\n')\n",
    "print('Third-best sector (based on count of investments):',topsec3_c2,end='\\n')\n",
    "print('Number of investments in the top sector:',ninvestsec1_c2,end='\\n')\n",
    "print('Number of investments in the second-best sector:',ninvestsec2_c2,end='\\n')\n",
    "print('Number of investments in the third-best sector:',ninvestsec3_c2,end='\\n')\n",
    "print('For the top sector count-wise, company receiving highest investment:',topseccom,end='\\n')\n",
    "print('For the second-best sector count-wise, receiving highest investment:',topsec2com,end='\\n')"
   ]
  },
  {
   "cell_type": "markdown",
   "id": "81cd5906",
   "metadata": {
    "papermill": {
     "duration": 0.083188,
     "end_time": "2022-04-07T15:36:28.760427",
     "exception": false,
     "start_time": "2022-04-07T15:36:28.677239",
     "status": "completed"
    },
    "tags": []
   },
   "source": [
    "Investment Analysis Of Country C3: IND"
   ]
  },
  {
   "cell_type": "code",
   "execution_count": 42,
   "id": "3641587c",
   "metadata": {
    "execution": {
     "iopub.execute_input": "2022-04-07T15:36:28.939716Z",
     "iopub.status.busy": "2022-04-07T15:36:28.938623Z",
     "iopub.status.idle": "2022-04-07T15:36:28.958172Z",
     "shell.execute_reply": "2022-04-07T15:36:28.958768Z",
     "shell.execute_reply.started": "2022-04-07T15:34:27.881250Z"
    },
    "papermill": {
     "duration": 0.115375,
     "end_time": "2022-04-07T15:36:28.958974",
     "exception": false,
     "start_time": "2022-04-07T15:36:28.843599",
     "status": "completed"
    },
    "tags": []
   },
   "outputs": [
    {
     "name": "stdout",
     "output_type": "stream",
     "text": [
      "Country 3 Details\n",
      "\n",
      "Total number of investments (count)  108\n",
      "Total amount of investment (USD)  920518277.0\n",
      "Top sector (based on count of investments)  Others\n",
      "Second-best sector (based on count of investments)  News, Search and Messaging\n",
      "Third-best sector (based on count of investments)  Entertainment\n",
      "Number of investments in the top sector  42\n",
      "Number of investments in the second-best sector  17\n",
      "Number of investments in the third-best sector  15\n",
      "For the top sector count-wise, company receiving highest investment  CommonFloor\n",
      "For the second-best sector count-wise, receiving highest investment  IMImobile\n"
     ]
    }
   ],
   "source": [
    "#Finding all varables through 'analysis' function and printing values for country3 (IND)\n",
    "ninvestc,tinvestc,topsec1_c3,topsec2_c3,topsec3_c3,ninvestsec1_c3,ninvestsec2_c3,ninvestsec3_c3,topseccom,topsec2com=analysis(D3)\n",
    "print('Country 3 Details\\n')\n",
    "print('Total number of investments (count) ',ninvestc,end='\\n')\n",
    "print('Total amount of investment (USD) ',tinvestc, end='\\n')\n",
    "print('Top sector (based on count of investments) ',topsec1_c3,end='\\n')\n",
    "print('Second-best sector (based on count of investments) ',topsec2_c3, end='\\n')\n",
    "print('Third-best sector (based on count of investments) ',topsec3_c3,end='\\n')\n",
    "print('Number of investments in the top sector ',ninvestsec1_c3,end='\\n')\n",
    "print('Number of investments in the second-best sector ',ninvestsec2_c3,end='\\n')\n",
    "print('Number of investments in the third-best sector ',ninvestsec3_c3,end='\\n')\n",
    "print('For the top sector count-wise, company receiving highest investment ',topseccom,end='\\n')\n",
    "print('For the second-best sector count-wise, receiving highest investment ',topsec2com,end='\\n')"
   ]
  },
  {
   "cell_type": "markdown",
   "id": "c6c96c96",
   "metadata": {
    "papermill": {
     "duration": 0.084405,
     "end_time": "2022-04-07T15:36:29.127687",
     "exception": false,
     "start_time": "2022-04-07T15:36:29.043282",
     "status": "completed"
    },
    "tags": []
   },
   "source": [
    "Preparing dataframe from investment analysis resulsts"
   ]
  },
  {
   "cell_type": "code",
   "execution_count": 43,
   "id": "f7f203e9",
   "metadata": {
    "execution": {
     "iopub.execute_input": "2022-04-07T15:36:29.301757Z",
     "iopub.status.busy": "2022-04-07T15:36:29.300739Z",
     "iopub.status.idle": "2022-04-07T15:36:29.314619Z",
     "shell.execute_reply": "2022-04-07T15:36:29.315175Z",
     "shell.execute_reply.started": "2022-04-07T15:34:51.764502Z"
    },
    "papermill": {
     "duration": 0.101534,
     "end_time": "2022-04-07T15:36:29.315360",
     "exception": false,
     "start_time": "2022-04-07T15:36:29.213826",
     "status": "completed"
    },
    "tags": []
   },
   "outputs": [
    {
     "data": {
      "text/html": [
       "<div>\n",
       "<style scoped>\n",
       "    .dataframe tbody tr th:only-of-type {\n",
       "        vertical-align: middle;\n",
       "    }\n",
       "\n",
       "    .dataframe tbody tr th {\n",
       "        vertical-align: top;\n",
       "    }\n",
       "\n",
       "    .dataframe thead th {\n",
       "        text-align: right;\n",
       "    }\n",
       "</style>\n",
       "<table border=\"1\" class=\"dataframe\">\n",
       "  <thead>\n",
       "    <tr style=\"text-align: right;\">\n",
       "      <th></th>\n",
       "      <th>Sectors</th>\n",
       "      <th>invest_num</th>\n",
       "      <th>country</th>\n",
       "    </tr>\n",
       "  </thead>\n",
       "  <tbody>\n",
       "    <tr>\n",
       "      <th>0</th>\n",
       "      <td>Others</td>\n",
       "      <td>985</td>\n",
       "      <td>USA</td>\n",
       "    </tr>\n",
       "    <tr>\n",
       "      <th>1</th>\n",
       "      <td>Cleantech / Semiconductors</td>\n",
       "      <td>678</td>\n",
       "      <td>USA</td>\n",
       "    </tr>\n",
       "    <tr>\n",
       "      <th>2</th>\n",
       "      <td>News, Search and Messaging</td>\n",
       "      <td>263</td>\n",
       "      <td>USA</td>\n",
       "    </tr>\n",
       "    <tr>\n",
       "      <th>3</th>\n",
       "      <td>Cleantech / Semiconductors</td>\n",
       "      <td>68</td>\n",
       "      <td>GBR</td>\n",
       "    </tr>\n",
       "    <tr>\n",
       "      <th>4</th>\n",
       "      <td>Others</td>\n",
       "      <td>64</td>\n",
       "      <td>GBR</td>\n",
       "    </tr>\n",
       "    <tr>\n",
       "      <th>5</th>\n",
       "      <td>News, Search and Messaging</td>\n",
       "      <td>16</td>\n",
       "      <td>GBR</td>\n",
       "    </tr>\n",
       "    <tr>\n",
       "      <th>6</th>\n",
       "      <td>Others</td>\n",
       "      <td>42</td>\n",
       "      <td>IND</td>\n",
       "    </tr>\n",
       "    <tr>\n",
       "      <th>7</th>\n",
       "      <td>News, Search and Messaging</td>\n",
       "      <td>17</td>\n",
       "      <td>IND</td>\n",
       "    </tr>\n",
       "    <tr>\n",
       "      <th>8</th>\n",
       "      <td>Entertainment</td>\n",
       "      <td>15</td>\n",
       "      <td>IND</td>\n",
       "    </tr>\n",
       "  </tbody>\n",
       "</table>\n",
       "</div>"
      ],
      "text/plain": [
       "                      Sectors  invest_num country\n",
       "0                      Others         985     USA\n",
       "1  Cleantech / Semiconductors         678     USA\n",
       "2  News, Search and Messaging         263     USA\n",
       "3  Cleantech / Semiconductors          68     GBR\n",
       "4                      Others          64     GBR\n",
       "5  News, Search and Messaging          16     GBR\n",
       "6                      Others          42     IND\n",
       "7  News, Search and Messaging          17     IND\n",
       "8               Entertainment          15     IND"
      ]
     },
     "execution_count": 43,
     "metadata": {},
     "output_type": "execute_result"
    }
   ],
   "source": [
    "data_analysis=[[topsec1_c1,ninvestsec1_c1,'USA'],[topsec2_c1,ninvestsec2_c1,'USA'],[topsec3_c1,ninvestsec3_c1,'USA'],\n",
    "                [topsec1_c2,ninvestsec1_c2,'GBR'],[topsec2_c2,ninvestsec2_c2,'GBR'],[topsec3_c2,ninvestsec3_c2,'GBR'],\n",
    "                [topsec1_c3,ninvestsec1_c3,'IND'],[topsec2_c3,ninvestsec2_c3,'IND'],[topsec3_c3,ninvestsec3_c3,'IND']]\n",
    "invest_analysis = pd.DataFrame(data_analysis, columns = ['Sectors', 'invest_num','country'])\n",
    "invest_analysis"
   ]
  },
  {
   "cell_type": "markdown",
   "id": "c972727a",
   "metadata": {
    "papermill": {
     "duration": 0.084008,
     "end_time": "2022-04-07T15:36:29.483888",
     "exception": false,
     "start_time": "2022-04-07T15:36:29.399880",
     "status": "completed"
    },
    "tags": []
   },
   "source": [
    "Plot showing number of investments in the top 3 sectors of the top 3 countries (for the chosen investment type)\n",
    "\n",
    "Since there is a significant difference between number of investments, plotting 'number of investments' on a log scale"
   ]
  },
  {
   "cell_type": "code",
   "execution_count": 44,
   "id": "bba07830",
   "metadata": {
    "execution": {
     "iopub.execute_input": "2022-04-07T15:36:29.655658Z",
     "iopub.status.busy": "2022-04-07T15:36:29.654692Z",
     "iopub.status.idle": "2022-04-07T15:36:30.161013Z",
     "shell.execute_reply": "2022-04-07T15:36:30.161545Z",
     "shell.execute_reply.started": "2022-04-07T15:35:05.049000Z"
    },
    "papermill": {
     "duration": 0.594122,
     "end_time": "2022-04-07T15:36:30.161736",
     "exception": false,
     "start_time": "2022-04-07T15:36:29.567614",
     "status": "completed"
    },
    "tags": []
   },
   "outputs": [
    {
     "data": {
      "text/plain": [
       "<Figure size 1080x1080 with 0 Axes>"
      ]
     },
     "metadata": {},
     "output_type": "display_data"
    },
    {
     "data": {
      "image/png": "[encoded data removed]",
      "text/plain": [
       "<Figure size 542x360 with 1 Axes>"
      ]
     },
     "metadata": {
      "needs_background": "light"
     },
     "output_type": "display_data"
    }
   ],
   "source": [
    "plt.figure(figsize=(15,15))\n",
    "final_plot=sns.catplot(x=\"country\", y=\"invest_num\", hue=\"Sectors\", kind=\"bar\", data=invest_analysis)\n",
    "final_plot.set(xlabel=\"Country\", ylabel = \"Number of Investments (Sector-wise) [log-scale]\")\n",
    "final_plot.fig.suptitle('Number of Investments for Top 3 Sectors of Top 3 Countries')\n",
    "plt.yscale('log')\n",
    "plt.show()"
   ]
  }
 ],
 "metadata": {
  "kernelspec": {
   "display_name": "Python 3",
   "language": "python",
   "name": "python3"
  },
  "language_info": {
   "codemirror_mode": {
    "name": "ipython",
    "version": 3
   },
   "file_extension": ".py",
   "mimetype": "text/x-python",
   "name": "python",
   "nbconvert_exporter": "python",
   "pygments_lexer": "ipython3",
   "version": "3.7.12"
  },
  "papermill": {
   "default_parameters": {},
   "duration": 28.86128,
   "end_time": "2022-04-07T15:36:31.059217",
   "environment_variables": {},
   "exception": null,
   "input_path": "__notebook__.ipynb",
   "output_path": "__notebook__.ipynb",
   "parameters": {},
   "start_time": "2022-04-07T15:36:02.197937",
   "version": "2.3.3"
  }
 },
 "nbformat": 4,
 "nbformat_minor": 5
}
